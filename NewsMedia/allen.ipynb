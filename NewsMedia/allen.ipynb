{
 "cells": [
  {
   "cell_type": "code",
   "execution_count": 1,
   "metadata": {},
   "outputs": [],
   "source": [
    "from allennlp.predictors.predictor import Predictor\n",
    "from collections import namedtuple\n",
    "import spacy\n",
    "import math\n",
    "import json\n",
    "import tqdm\n",
    "\n",
    "Item = namedtuple('INFO', ('title', 'section', 'pdate', 'weburl', 'apiurl', 'text', 'ents', 'sentiment'))\n",
    "Result = namedtuple('Result', ('sid', 'aid', 'pid', 'sent', 'para'))"
   ]
  },
  {
   "cell_type": "markdown",
   "metadata": {},
   "source": [
    "### allen nlp sentiment model"
   ]
  },
  {
   "cell_type": "code",
   "execution_count": 3,
   "metadata": {},
   "outputs": [],
   "source": [
    "sentiment_model = \"sst-roberta-large-2020.02.17.tar.gz\""
   ]
  },
  {
   "cell_type": "code",
   "execution_count": 4,
   "metadata": {},
   "outputs": [],
   "source": [
    "sent = \"Key Trump adviser claims tax cuts will still pay for themselves even as coronavirus drags on US economy\""
   ]
  },
  {
   "cell_type": "code",
   "execution_count": 5,
   "metadata": {
    "scrolled": true
   },
   "outputs": [],
   "source": [
    "sentiment_predictor = Predictor.from_path(sentiment_model)"
   ]
  },
  {
   "cell_type": "code",
   "execution_count": 6,
   "metadata": {},
   "outputs": [
    {
     "data": {
      "text/plain": [
       "{'logits': [-0.8061320781707764, -0.23963770270347595],\n",
       " 'probs': [0.36204612255096436, 0.6379538774490356],\n",
       " 'label': '0'}"
      ]
     },
     "execution_count": 6,
     "metadata": {},
     "output_type": "execute_result"
    }
   ],
   "source": [
    "sentiment_predictor.predict(sentence=sent)"
   ]
  },
  {
   "cell_type": "code",
   "execution_count": 7,
   "metadata": {},
   "outputs": [],
   "source": [
    "def get_sentiment(text):\n",
    "    pred = sentiment_predictor.predict(sentence=text)\n",
    "    label = int(pred['label'])\n",
    "    return -1 if label == 0 else 1"
   ]
  },
  {
   "cell_type": "markdown",
   "metadata": {},
   "source": [
    "### Spacy ner model"
   ]
  },
  {
   "cell_type": "code",
   "execution_count": 9,
   "metadata": {
    "scrolled": true
   },
   "outputs": [],
   "source": [
    "nlp = spacy.load('en_core_web_sm')"
   ]
  },
  {
   "cell_type": "code",
   "execution_count": 12,
   "metadata": {},
   "outputs": [],
   "source": [
    "def get_entities(text):\n",
    "    doc = nlp(text)\n",
    "    return [(ent.text, ent.label_) for ent in doc.ents if ent.label_ in ('ORG', 'GPE', 'NORP', 'FAC')]\n",
    "\n",
    "def get_text_entities(text):\n",
    "    doc = nlp(text)\n",
    "    return [(ent.text, ent.label_) for ent in doc.ents if ent.label_ in ('ORG', 'GPE', 'NORP', 'FAC', \n",
    "                                                                         'PERSON', 'PRODUCT', 'MONEY', 'EVENT')]"
   ]
  },
  {
   "cell_type": "markdown",
   "metadata": {},
   "source": [
    "### extract entity and sentiment information from title"
   ]
  },
  {
   "cell_type": "code",
   "execution_count": 13,
   "metadata": {},
   "outputs": [],
   "source": [
    "def extract_info(text):\n",
    "    entities = get_entities(text)\n",
    "    sentiment = get_sentiment(text)\n",
    "    return entities,sentiment\n",
    "\n",
    "def analyse(news_list):\n",
    "    news = []\n",
    "    for title, section, date, weburl, apiurl,bodytext in tqdm.tqdm(news_list):\n",
    "        entities, sentiment = extract_info(title)\n",
    "        news.append(Item(title=title,\n",
    "                         section=section,\n",
    "                         pdate=date,\n",
    "                         weburl=weburl,\n",
    "                         apiurl=apiurl,\n",
    "                         text=bodytext,\n",
    "                         ents=entities, \n",
    "                         sentiment=sentiment,))\n",
    "    return news"
   ]
  },
  {
   "cell_type": "code",
   "execution_count": 13,
   "metadata": {},
   "outputs": [],
   "source": [
    "# load dataset that doesnt have NER and sentiment labels\n",
    "with open('data/news.json', 'r') as f:\n",
    "    news_list = json.load(f)"
   ]
  },
  {
   "cell_type": "code",
   "execution_count": 14,
   "metadata": {},
   "outputs": [
    {
     "name": "stderr",
     "output_type": "stream",
     "text": [
      "100%|██████████| 4435/4435 [31:39<00:00,  2.34it/s]    \n"
     ]
    }
   ],
   "source": [
    "analysis = analyse(news_list)"
   ]
  },
  {
   "cell_type": "code",
   "execution_count": 15,
   "metadata": {},
   "outputs": [],
   "source": [
    "# with open('data/news-text.json', 'w') as f:\n",
    "#     json.dump(analysis, fp=f)"
   ]
  },
  {
   "cell_type": "code",
   "execution_count": 16,
   "metadata": {},
   "outputs": [
    {
     "data": {
      "text/plain": [
       "[('America', 'GPE'),\n",
       " ('Dow Jones', 'ORG'),\n",
       " ('Bear Market', 'ORG'),\n",
       " ('American', 'NORP'),\n",
       " ('the Federal Government', 'ORG'),\n",
       " ('CoronaVirus', 'ORG'),\n",
       " ('UK', 'GPE'),\n",
       " ('FTSE', 'ORG'),\n",
       " ('The Bank of England', 'ORG'),\n",
       " ('UK', 'GPE'),\n",
       " ('UK', 'GPE'),\n",
       " ('the European Central Bank', 'ORG'),\n",
       " ('EU', 'ORG'),\n",
       " ('Italy', 'GPE')]"
      ]
     },
     "execution_count": 16,
     "metadata": {},
     "output_type": "execute_result"
    }
   ],
   "source": [
    "get_entities(analysis[300].text)"
   ]
  },
  {
   "cell_type": "code",
   "execution_count": 18,
   "metadata": {},
   "outputs": [
    {
     "data": {
      "text/plain": [
       "'The coronavirus pandemic has stalled scientific fieldwork and may even start to affect the monitoring of the climate, scientists have warned. Major projects to gather environmental data have been postponed or canceled over concerns that teams of researchers working together will spread the Covid-19 virus. The crisis has so far mainly stymied long-term studies, but concerns have been raised that routine monitoring of weather and the climate crisis may be affected if the pandemic drags on for an extended period.\\nPetteri Taalas, secretary general of World Meteorological Organization, said: “The impacts of climate change and growing amount of weather-related disasters continue. “The Covid-19 pandemic poses an additional challenge, and may exacerbate multi-hazard risks at a single-country level. Therefore it is essential that governments pay attention to their national early warning and weather-observing capacities despite the Covid-19 crisis.” Wealthy countries that have deployed land- and ocean-based instruments, as well as satellites, to gauge temperature changes and other readings mostly have done so with fully or partly automated systems. This means that data will continue to flow without much hands-on human input but should the pandemic stretch out for many more weeks then missed repairs and replacements of instruments will become an “increasing concern”, according to the WMO. Furthermore, in many developing countries measurements are routinely taken manually by scientists in the field and there are indications this work has dropped off. A huge slump in air travel since the start of the pandemic has dented the collection of ambient temperature and wind speed taken in-flight by sensors fitted to commercial airliners through an initiative called the Aircraft Meteorological Data Relay program. A coalition of national weather services across Europe are discussing how to compensate for the decrease in the 700,000 climate observations normally provided per day by aircraft. In the US, a swath of climate research work has been called off or delayed. Nasa-led missions to survey the loss of land in the Mississippi River delta and hurricane recovery in Puerto Rico have been suspended. With all flights to and from Greenland suspended, a project to collect cores from the country’s vast ice sheet has been voided for the year. Nasa has asked staff to work remotely where possible, with a spokesman telling the Guardian that the agency has a continuity plan to ensure that there is “no interruption of climate-relevant data”. A five-year Nasa project to study the impact of severe thunderstorms that enter the stratosphere is now mired in uncertainty. Researchers from several universities have partnered with Nasa to use its high-altitude ER-2 aircraft to take measurements this summer but this work is now on hold. “Because of the delays we haven’t started tests yet and it’s not clear if we are going to be able to do that,” said Kenneth Bowman, a climate scientist at Texas A&M University, who is working on the project. “We don’t really know the timings, we are taking it week to week. It’s always frustrating having all of your plans disrupted, not knowing when we will do what we want to do.” Bowman said routine climate monitoring is “robust” and that he would be surprised if the pandemic disrupted this work unless it spooled out for many months or years. Gabriel Vecchi, a climate modeler at Princeton University, said while he was concerned about the impact of the pandemic on data collection he was “quite heartened” that observations of the Earth’s surface have continued unabated so far. “We should all be grateful for the people and organizations that are continuing these essential forecast and monitoring operations, in spite of the severe challenges they are facing,” he said. If the pandemic lingers then climate scientists will face challenges shared by some other professions – meetings of teams will have to be reorientated, the maintenance of equipment will somehow have to be done and trips to research sites will be curtailed. This is occurring at a time when air pollution, as well as planet-heating gases, has declined considerably in China and Europe due to a reduction in human activity. “For the most part these polluted areas have snuck up on people and they have become the norm and when the public realize it doesn’t have to be that way, I can imagine considerable pressures to not let it go back to how it was,” said Kevin Trenberth, a veteran climate scientist. “I can imagine that commuting from home may become a lot more common as we move ahead, to the advantage of the climate system and fossil fuel use, and to everyone.”'"
      ]
     },
     "execution_count": 18,
     "metadata": {},
     "output_type": "execute_result"
    }
   ],
   "source": [
    "analysis[10].text"
   ]
  },
  {
   "cell_type": "markdown",
   "metadata": {},
   "source": [
    "### Fasttext embedding"
   ]
  },
  {
   "cell_type": "code",
   "execution_count": 26,
   "metadata": {},
   "outputs": [],
   "source": [
    "from gensim.models.fasttext import FastText\n",
    "import nltk\n",
    "\n",
    "def process_sent(sent, remove_punct=True):\n",
    "    if remove_punct:\n",
    "        tokens = [token.lower() for token in nltk.word_tokenize(sent.strip()) if len(token)>1 or token.isalnum()]\n",
    "    else:\n",
    "        tokens = [token.lower() for token in nltk.word_tokenize(sent.strip())]\n",
    "    return tokens\n",
    "    \n",
    "def flat_corpus(dataset, para_level=False, remove_punct=True):\n",
    "    corpus = []\n",
    "    sid2art = {}\n",
    "    for aid, an in enumerate(tqdm.tqdm(dataset)):\n",
    "        title = an.title\n",
    "        paragraphs = [title] + an.text.split(\"\\n\")\n",
    "        if para_level:\n",
    "            for pid, para in enumerate(paragraphs):\n",
    "                start_idx = len(sid2art)\n",
    "                sid2art[start_idx] = {'aid':aid, 'pid':pid}\n",
    "                tokens = process_sent(para, remove_punct)\n",
    "                corpus.append(tokens)           \n",
    "        else:\n",
    "            for pid, para in enumerate(paragraphs):\n",
    "                sents = nltk.sent_tokenize(para)\n",
    "                start_idx = len(sid2art)\n",
    "                for i in range(len(sents)):\n",
    "                    sid2art[start_idx+i] = {'aid':aid, 'pid':pid}\n",
    "                    tokens = process_sent(sents[i], remove_punct)\n",
    "                    corpus.append(tokens)\n",
    "    return corpus, sid2art"
   ]
  },
  {
   "cell_type": "code",
   "execution_count": 27,
   "metadata": {},
   "outputs": [],
   "source": [
    "# laod dataset\n",
    "with open('data/news-text-unique.json', 'r') as f:\n",
    "    data = json.load(f)\n",
    "    analysis = [Item._make(d) for d in data]"
   ]
  },
  {
   "cell_type": "code",
   "execution_count": 28,
   "metadata": {
    "scrolled": true
   },
   "outputs": [
    {
     "name": "stderr",
     "output_type": "stream",
     "text": [
      "100%|██████████| 3171/3171 [00:28<00:00, 109.64it/s]\n"
     ]
    }
   ],
   "source": [
    "line_corpus, sid2aid = flat_corpus(analysis, para_level=False, remove_punct=True)"
   ]
  },
  {
   "cell_type": "code",
   "execution_count": 29,
   "metadata": {},
   "outputs": [],
   "source": [
    "ft_model = FastText(\n",
    "    sentences=line_corpus, \n",
    "    size=100,\n",
    "    window=5,\n",
    "    min_count=5,\n",
    "    word_ngrams=1,\n",
    "    iter=5,\n",
    "    negative=5,\n",
    "    sample=1e-3,\n",
    "    sg=0,\n",
    "    alpha=0.025,\n",
    "    ns_exponent=0.75,\n",
    "    min_n=3,\n",
    "    max_n=6)"
   ]
  },
  {
   "cell_type": "code",
   "execution_count": 65,
   "metadata": {},
   "outputs": [
    {
     "data": {
      "text/plain": [
       "[('covid‑19', 0.9635025262832642),\n",
       " ('covid-19.', 0.9187116622924805),\n",
       " ('covid-19', 0.8985052108764648),\n",
       " ('covid-19-related', 0.8692864775657654),\n",
       " ('anti-coronavirus', 0.8612541556358337),\n",
       " ('coronavirus-driven', 0.8524642586708069),\n",
       " ('coronavirus', 0.8481267690658569),\n",
       " ('coronavirus-induced', 0.8410760164260864),\n",
       " ('coronavirus.', 0.8392269611358643),\n",
       " ('coronaviruses', 0.8391625881195068)]"
      ]
     },
     "execution_count": 65,
     "metadata": {},
     "output_type": "execute_result"
    }
   ],
   "source": [
    "ft_model.wv.similar_by_word('covid')"
   ]
  },
  {
   "cell_type": "markdown",
   "metadata": {},
   "source": [
    "### retrieve documents by sentence embedding"
   ]
  },
  {
   "cell_type": "code",
   "execution_count": 31,
   "metadata": {},
   "outputs": [],
   "source": [
    "from fse.models import SIF\n",
    "from fse import IndexedList\n",
    "from sklearn.feature_extraction.text import TfidfVectorizer, CountVectorizer\n",
    "from sklearn.cluster import DBSCAN, KMeans\n",
    "from sklearn.neighbors import DistanceMetric\n",
    "from sklearn import metrics\n",
    "import numpy as np"
   ]
  },
  {
   "cell_type": "code",
   "execution_count": 51,
   "metadata": {},
   "outputs": [],
   "source": [
    "def train_fse(fasttext_model, flat_corpus):\n",
    "    model = SIF(fasttext_model)\n",
    "    indexed_corpus = IndexedList(flat_corpus)\n",
    "    model.train(indexed_corpus)\n",
    "    return model, indexed_corpus\n",
    "\n",
    "def retrieve_paragraph(mappings, dataset):\n",
    "    retrieved_paras = []\n",
    "    for m in mappings:\n",
    "        article = dataset[m['aid']]\n",
    "        paras = [article.title] + article.text.split('\\n')\n",
    "        paragraph = paras[m['pid']]\n",
    "        retrieved_paras.append(paragraph)\n",
    "    return retrieved_paras\n",
    "\n",
    "def train_tfidf_vectorizer(dataset):\n",
    "    tfidf_vectorizer = TfidfVectorizer(binary=True, sublinear_tf=True, norm='l2', ngram_range=(1,2))\n",
    "    para_corpus, pid2aid = flat_corpus(dataset, para_level=True, remove_punct=True)\n",
    "    tfidf_vectorizer.fit([' '.join(line) for line in para_corpus])\n",
    "    return tfidf_vectorizer\n",
    "    \n",
    "def rerank(query, results, vectorizer):\n",
    "    trans_para = vectorizer.transform([query]+[' '.join(process_sent(r.para)) for r in results])\n",
    "    dense = trans_para.todense()\n",
    "    sims = metrics.pairwise.cosine_similarity(dense[0], dense[1:])\n",
    "    sorted_rank = np.argsort(-sims[0]).tolist()\n",
    "    return [results[sr] for sr in sorted_rank]\n",
    "    \n",
    "def search(model, vectorizer, query, sent_corpus, dataset, sid_mapping):\n",
    "    query = ' '.join(process_sent(query, remove_punct=True))\n",
    "    sents = model.sv.similar_by_sentence(nltk.word_tokenize(query), model=model)\n",
    "    sids = [s[0] for s in sents]\n",
    "    mapping = [sid_mapping[sid] for sid in sids]\n",
    "    paragraphs = retrieve_paragraph(mapping, dataset)\n",
    "    \n",
    "    results = []\n",
    "    exist = set()\n",
    "    for i in range(len(sids)):\n",
    "        sid = sids[i]\n",
    "        aid = mapping[i]['aid']\n",
    "        pid = mapping[i]['pid']\n",
    "        sent = sent_corpus[i]\n",
    "        para = paragraphs[i]\n",
    "        if aid not in exist:\n",
    "            results.append(Result(sid=sid, aid=aid, pid=pid, sent=sent, para=para))\n",
    "            exist.add(aid)\n",
    "    return rerank(query, results, vectorizer)"
   ]
  },
  {
   "cell_type": "code",
   "execution_count": 33,
   "metadata": {},
   "outputs": [
    {
     "name": "stderr",
     "output_type": "stream",
     "text": [
      "100%|██████████| 3171/3171 [00:22<00:00, 138.49it/s]\n"
     ]
    }
   ],
   "source": [
    "fse_model, indexed_corpus = train_fse(ft_model, line_corpus)\n",
    "tfidf_vectorizer = train_tfidf_vectorizer(dataset=analysis)"
   ]
  },
  {
   "cell_type": "code",
   "execution_count": 59,
   "metadata": {},
   "outputs": [],
   "source": [
    "query = \"human rights coronavirus\"\n",
    "search_results = search(model=fse_model, vectorizer=tfidf_vectorizer, \n",
    "                               query=query, sid_mapping=sid2aid,\n",
    "                               sent_corpus=line_corpus, dataset=analysis)"
   ]
  },
  {
   "cell_type": "code",
   "execution_count": 60,
   "metadata": {},
   "outputs": [
    {
     "data": {
      "text/plain": [
       "[Result(sid=102364, aid=2859, pid=1, sent=['but', 'we', 'also', 'need', 'a', 'way', 'out', 'of', 'this', 'pandemic', 'as', 'fast', 'as', 'possible.', 'farrar', 'who', 'is', 'an', 'infectious', 'disease', 'researcher', 'as', 'well', 'as', 'director', 'of', 'the', 'wellcome', 'trust', 'said', 'drugs', 'vaccines', 'and', 'rapid', 'diagnostics', 'are', 'the', 'only', 'way', 'we', 'have', 'of', 'saving', 'lives', 'bringing', 'this', 'pandemic', 'to', 'an', 'end', 'and', 'preventing', 'it', 'reappearing'], para='When Leilani Farha touches down in a new city, the first thing the UN special rapporteur on the right to adequate housing does is look up. In Melbourne, Toronto, London and Dublin, the skies above are filled with cranes, Farha says, soaring across the skylineto construct new homes for their booming populations. Last week Farha arrived in Wellington on a fact-finding mission, lured by the headlines of a housing crisis, chronic homelessness, and motels bulging with desperate families for months at a time – all occurring with a new progressive government at the helm. “I didn’t see cranes in the sky, which is suggestive of not a lot of development – that struck me right away,” says Farha, a plain-talking Canadian. “They allowed the perfect storm, and that’s successive governments. It’s really a bit tragic. It’s a human rights crisis.”'),\n",
       " Result(sid=34430, aid=1006, pid=2, sent=['jeremy', 'farrar', 'the', 'director', 'of', 'the', 'london-based', 'medical', 'research', 'charity', 'said', 'a', 'huge', 'investment', 'in', 'scientific', 'research', 'was', 'the', 'only', 'exit', 'strategy', 'to', 'save', 'millions', 'of', 'lives', 'and', 'drag', 'the', 'global', 'economy', 'out', 'of', 'an', 'inevitable', 'recession'], para='Unfortunately, China does not appear to have learned lessons from the Sars epidemic. Despite the flourishing of social media, information is more tightly controlled in China than ever. In 2013, an internal Communist party edict known as Document No 9 ordered cadres to tackle seven supposedly subversive influences on society. These included western-inspired notions of press freedom, “universal values” of human rights, civil rights and civic participation. Even within the Communist party, cadres are threatened with disciplinary action for expressing opinions that differ from the leadership. Compared with 17 years ago, Chinese citizens enjoy even fewer rights of speech and expression. A few days after 34-year-old Li posted a note in his medical school alumni social media group on 30 December, stating that seven workers from a local live-animal market had been diagnosed with an illness similar to Sars and were quarantined in his hospital, he was summoned by police. He was made to sign a humiliating statement saying he understood if he “stayed stubborn and failed to repent and continue illegal activities, (he) will be disciplined by the law”.'),\n",
       " Result(sid=7072, aid=229, pid=2, sent=['farrar', 'said', 'that', 'while', 'businesses', 'and', 'governments', 'had', 'acted', 'fast', 'to', 'help', 'support', 'staff', 'and', 'keep', 'the', 'global', 'economy', 'ticking', 'along', 'the', 'only', 'long-term', 'solution', 'was', 'to', 'quickly', 'develop', 'vaccines', 'and', 'treatments'], para='Chinese police punished frontline doctors for “spreading rumours” for trying to warn the public in late December. Police are still engaged in a campaign to detain Chinese netizens for spreading so-called “rumours”. Rumours included reports of potential cases, including people turned away from hospitals or dying without ever being tested and quickly cremated, criticism of the government, the distribution of masks, or the criticism of the discrimination of people from Wuhan or others who may be infected. Activists have been threatened with jail if they share foreign news articles or post on social media about the coronavirus outbreak. That the Chinese government can lock millions of people into cities with almost no advance notice should not be considered anything other than terrifying. The residents of Wuhan had no time to buy food, medicine, or other essentials. Authorities hastily announced the lockdown in the middle of the night with an eight-hour gap before it went into effect, giving people time to flee and thus raising questions on the rationale for such extreme measures. International law is clear that during a time of public health emergency, any restrictions on human rights should be based on legality, necessity, proportionality and grounded in evidence. The international community should support all efforts to end this outbreak, but human rights should not be a casualty to the coronavirus crisis. The WHO declares that core principles of human rights and health includes accountability, equality and non-discrimination and participation. It even acknowledges that “participation is important to accountability as it provides … checks and balances which do not allow unitary leadership to exercise power in an arbitrary manner”. The WHO’s admiration for the unitary actions of the Chinese dictator Xi Jinping exercising power in an arbitrary manner is a direct contradiction of its own human rights principles.'),\n",
       " Result(sid=4200, aid=136, pid=2, sent=['he', 'said', 'businesses', 'and', 'governments', 'are', 'rightly', 'concerned', 'with', 'tackling', 'immediate', 'concerns', 'how', 'to', 'support', 'staff', 'keep', 'trading', 'and', 'bolster', 'economies'], para='On Monday, the Hungarian parliament passed a law that allows the prime minister, Viktor Orbán, to rule by decree for as long as the coronavirus crisis is deemed to be continuing. It also mandates jail time for intentionally spreading disinformation that hampers the coronavirus response, measures that were roundly criticised by the opposition at home and politicians abroad. The gender regulation, part of a larger bill on a number of issues not related to coronavirus, will still be considered by parliament in the normal way. It shows that even as Orbán requested special measures for fighting coronavirus, his government had not forgotten its other battles. Trans rights and so-called “gender ideology” are frequent bugbears of alt-right and conservative politicians, and Orbán’s government has previously introduced a measure that in effect banned universities from teaching gender studies. Trans people have had trouble legally changing their documents since 2018, Reuters reported, a situation that is currently subject to several legal challenges. The proposed bill would enshrine this denial of changes in law. The Council of Europe’s commissioner for human rights, Dunja Mijatović, called on Hungary’s parliament not to adopt the law, and said the measure was in contravention of human rights standards and the case law of the European court of human rights. “Transgender persons have the right to legal recognition of their gender based on self-determination. This is an essential step to ensure respect for their human rights in all areas of life. Legal gender recognition is a matter of human dignity,” she said in a statement on Thursday. At home, human rights activists also criticised the bill. “It is appalling that the government plans to ban legal gender recognition in the shadow of the coronavirus crisis,” Tamás Dombos, a board member of the Hungarian LGBT Alliance, told Agence France-Presse. “Such a measure would force trans people to live with documents that do not match their true identity and their appearance ... That exposes them to potential discrimination in employment, housing, access to goods and services, and official procedures,” he said.'),\n",
       " Result(sid=101947, aid=2846, pid=1, sent=['that', 's', 'the', 'only', 'way', 'we', 'can', 'return', 'to', 'normal.', 'on', 'a', 'conference', 'call', 'later', 'on', 'tuesday', 'farrar', 'will', 'tell', 'the', 'chief', 'executives', 'of', 'the', 'world', 's', 'biggest', 'companies', 'that', 'pledging', 'funds', 'to', 'the', 'covid-zero', 'fund', 'is', 'the', 'best', 'investment', 'your', 'business', 'can', 'make', 'today'], para='A familiar quote in Togo comes from the president, Faure Gnassingbé, who once said: “My father told me to never leave power.” He has heeded that advice. The first African country where a coup d’etat occurred after independence and where the elected head of state was assassinated, Togo stands to be the last country in Africa to see the lights of a democratic alternation. On Saturday, the country goes to the polls. But on past evidence, things are unlikely to change. It was on 13 January 1963 that Gnassingbé Eyadéma, father of the current president, killed the first post-colonial president, Sylvanus Olympio, in a military coup. Now, 57 years later, the Gnassingbé family still is in power. Only North Korea’s ruling dynasty has held executive power for longer. There have been six presidential elections in Togo since the democratic movements of the 1990s, all won by the Gnassingbé family. Before the first multiparty presidential election, in 1993, protesters were shot on the streets, and the persecution of political opponents triggered an unprecedented wave of migration to neighbouring countries that re-established Gnassingbé’s dictatorial power. Gross human rights abuses caused international donors to suspend development assistance. Eyadema Gnassingbé ultimately “won” more than 95% of the vote with a turnout of less than 36%. On 21 June 1998, the second multiparty presidential election was held. Eyadema Gnassingbé, seeing the vote going towards opposition parties, had the country’s telecommunication lines and electric grid shut down, successfully halting the transmission of results from polling stations. The president of the electoral commission resigned and the minister of the interior took charge of counting the vote. On 24 June he declared Gnassingbé Eyadema elected, with 52% of the votes.'),\n",
       " Result(sid=53640, aid=1522, pid=2, sent=['wellcome', 'trust', 'urges', 'firms', 'to', 'donate', '£6bn', 'for', 'covid-19', 'research'], para='“On their way home, the Samoans had transited through Singapore, one of the six countries listed as a high risk from the coronavirus in the government’s latest updated travel advisory issued over the weekend. As a result, they were denied entry and returned to Fiji last night,” the Samoan government said in a statement on the weekend. Jorge Contesse, the director of the Center for Transnational Law at Rutgers Law School in the US, said the incident was potentially a violation of international law. “It is a violation of human rights international law for a country to deny the right of return of their own national. There is a human right to return to your home country and countries cannot deprive you of this right in a way that is arbitrary. That is a principle enshrined in UN human rights, and is a basic international human right as observed through human instruments and the International Covenant of Civil and Political Rights (ICCPR),” said Contesse. Samoa is a party to the ICCPR and acceded in 2008. “It is a fundamental right. On the understanding that your country is the place you feel safe in, therefore it is unlawful for your own country to deny re-entry,” said Contesse. In an editorial on Wednesday, the Fiji Sun newspaper condemned the decision, saying it was “morally wrong for Samoa to refuse entry to eight of its citizens”, calling it “unacceptable and tantamount to dereliction of duty by a sovereign state”. The Samoan government has introduced stringent quarantine measures for the coronavirus – now called Covid-19 – as it is dealing with intense criticism of its handling the measles epidemic that killed more than 80 people in 2019. The government has also been criticised for its initial response to the coronavirus, with the Samoan government initially saying Samoan students would not be evacuated from Wuhan, though four were later evacuated on the Air New Zealand flight and are being quarantined in New Zealand. A parent of a Samoan student in Wuhan wrote on social media: “We must be the only country turning away our own citizens to be quarantined elsewhere. What is the difference of being quarantined in Fiji and not Faleolo hospital as been advertised? This is most bizarre.” According to Contesse the violation is determined by the arbitrary nature of the decision to deny reentry.'),\n",
       " Result(sid=57653, aid=1637, pid=1, sent=['farrar', 'said', 'we', 'want', 'business', 'leaders', 'to', 'give', 'a', 'small', 'proportion', 'of', 'the', 'money', 'they', 'are', 'dedicating', 'to', 'coping', 'with', 'this', 'crisis', 'to', 'solving', 'it'], para='Rebecca Long-Bailey would make protecting the environment a core Labour principle by writing it into the party’s constitution, she has said. The shadow business secretary has argued that Labour’s green industrial revolution, which she authored, was not prominent enough in the party’s election campaign last year. She would seek to redraw clause IV of the party’s constitution, which sets out its political aims, to include environmentalism, she said on Wednesday. “As leader, I’ll centre Labour’s plans to tackle the climate crisis in everything our party does, and make sure it defines the next election. I know that we can build a winning electoral coalition around our green industrial revolution, uniting working people everywhere with a just, aspirational response to the climate crisis,” she told the Guardian. Any changes to Labour’s constitution would have to be agreed by party members at its annual conference; however, Long-Bailey set out a series of principles that she said should guide the process of drawing up what she called a “clause IV for our time”. The first of these is “a green economy and a sustainable planet, recognising that socialism and environmentalism must go hand in hand”. Other principles include: • Universal provision of high-quality public services, including childcare, education, healthcare, housing, social care, social security, transport and utilities. • A prosperous economy with a more equal distribution of wealth, ownership and economic power. • An independent foreign policy based on peace, internationalism, human rights, justice and international law. • Expanding democracy and devolving power. Long-Bailey is widely regarded as Jeremy Corbyn’s chosen successor. He made a video alongside her last week in which the pair chatted about climate change, and he promised “absolute support” for her “green revolution”. However, Keir Starmer appears to be the frontrunner. The long leadership campaign has featured increasingly detailed policy promises, with Starmer publishing “10 pledges”, which include nationalisation of “rail, mail, energy and water” and supporting the abolition of tuition fees. Meanwhile, Lisa Nandy, the MP for Wigan, has sought to shake up the race by warning that Labour faces extinction unless it changes radically. Long-Bailey has made clear that she is committed to retaining Corbyn’s leftwing policy stance but stressed that she believes it could have been explained and promoted better during the election campaign, saying her colleagues need to become “salespeople for socialism”. And she has also emphasised widening party democracy – committing to campaign for open selection for MPs. Long-Bailey’s campaign chair, Jon Lansman, founder of the leftwing Labour group Momentum, has long advocated open selection. Clause IV was originally agreed in 1918. It was rewritten in 1995, under Tony Blair’s leadership, to eliminate the commitment to “the common ownership of the means of production, distribution, and exchange” after a highly symbolic public battle with the trades unions.'),\n",
       " Result(sid=13347, aid=417, pid=1, sent=['this', 'is', 'the', 'only', 'exit', 'strategy', 'but', 'we', 'do', 'not', 'have', 'the', 'funding', 'we', 'need', 'to', 'execute', 'it.', 'he', 'said', 'that', 'unless', 'businesses', 'and', 'governments', 'provide', 'funds', 'now', 'covid-19', 'and', 'the', 'economic', 'damage', 'caused', 'by', 'rolling', 'lockdowns', 'will', 'continue', 'to', 'plague', 'the', 'world'], para='Only by coming together will the world be able to face down the Covid-19 pandemic and its shattering consequences. At an emergency virtual meeting last Thursday, G20 leaders took steps in the right direction. But we are still far away from having a coordinated, articulated global response that meets the unprecedented magnitude of what we are facing. Far from flattening the curve of infection, we are still well behind it. The disease initially took 67 days to infect 100,000 people; soon, 100,000 people and more will be infected daily. Without concerted and courageous action, the number of new cases will almost certainly escalate into the millions, pushing health systems to breaking point, economies into a nosedive and people into despair, with the poorest hit hardest. We must prepare for the worst and do everything to avoid it. Here is a three-point call to action – based on science, solidarity and smart policies – for doing just that. First, suppress transmission of the coronavirus. This requires aggressive and early testing and contact tracing, complemented by quarantines, treatment and measures to keep first responders safe, combined with measures to restrict movement and contact. Such steps, despite the disruptions they cause, must be sustained until therapies and a vaccine emerge. Crucially, this robust and cooperative effort should be guided by the World Health Organization, a member of the United Nations family; countries acting on their own – as they must for their people – will not get the job done for all. Second, tackle the devastating social and economic dimensions of the crisis. The virus is spreading like wildfire, and is likely to move swiftly into the global south, where health systems face constraints, people are more vulnerable, and millions live in densely populated slums or crowded settlements for refugees and internally displaced persons. Fuelled by such conditions, the virus could devastate the developing world and then re-emerge where it was previously suppressed. In our interconnected world, we are only as strong as the weakest health systems. Clearly, we must fight the virus for all of humanity, with a focus on people, especially the most affected: women, older people, youth, low-wage workers, small and medium enterprises, the informal sector and vulnerable groups. The United Nations has just issued reports documenting how the viral contagion has become an economic contagion, and setting out the financing needed to address the shocks. The International Monetary Fund has declared that we have entered a recession as bad as or worse than in 2009. We need a comprehensive multilateral response amounting to a double-digit percentage of global gross domestic product. Developed countries can do it by themselves, and some are indeed doing it. But we must massively increase the resources available to the developing world by expanding the capacity of the IMF, namely through the issuance of special drawing rights, and of the other international financial institutions so that they can rapidly inject resources into the countries that need them. I know this is difficult as nations find themselves increasing domestic spending by record amounts. But that spending will be in vain if we don’t control the virus. Coordinated swaps among central banks can also bring liquidity to emerging economies. Debt alleviation must also be a priority – including immediate waivers on interest payments for 2020. Third, recover better. We simply cannot return to where we were before Covid-19 struck, with societies unnecessarily vulnerable to crisis. The pandemic has reminded us, in the starkest way possible, of the price we pay for weaknesses in health systems, social protections and public services. It has underscored and exacerbated inequalities, above all gender inequity, laying bare the way in which the formal economy has been sustained on the back of invisible and unpaid care labour. It has highlighted ongoing human rights challenges, including stigma and violence against women. Now is the time to redouble our efforts to build more inclusive and sustainable economies and societies that are more resilient in the face of pandemics, climate change and other global challenges. The recovery must lead to a different economy. Our roadmap remains the 2030 agenda and sustainable development goals. The United Nations system is fully mobilised: supporting country responses, placing our supply chains at the world’s disposal, and advocating for a global ceasefire. Ending the pandemic everywhere is both a moral imperative and a matter of enlightened self-interest. At this unusual moment, we cannot resort to the usual tools. Extraordinary times demand extraordinary measures. We face a colossal test which demands decisive, coordinated and innovative action from all, for all. • António Guterres is secretary general of the United Nations'),\n",
       " Result(sid=115460, aid=3161, pid=1, sent=['the', 'wellcome', 'trust', 'is', 'calling', 'on', 'big', 'businesses', 'to', 'donate', '8bn', '£6.4bn', 'for', 'research', 'into', 'developing', 'diagnostic', 'tests', 'therapies', 'and', 'vaccines', 'to', 'tackle', 'the', 'coronavirus', 'pandemic'], para='When John Erskine signed up a teenage Keir Starmer to the Labour club at Leeds University freshers’ week in 1982, he had hoped to find a new recruit in the factional dogfight raging inside the party. But he was disappointed. Erskine recalls the young law student’s politics as being of the “non-aligned, conscience-driven left” – something like a kind of political Methodism. Instead of joining in the running battles with Militant, Starmer took the view there were “no enemies on the left” and cracked on with his studies. The overwhelming favourite to succeed Jeremy Corbyn, who steps down next weekend, Starmer has defied categorisation, declining to become a fully paid-up member of any of Labour’s many overlapping sects. He is neither a Corbynite nor a Blairite (to the extent that they still exist) and is irritated by other people’s urge to pigeon-hole him. Speaking to the Guardian as he launched his pitch for the leadership last December, he said: “I don’t find the badging of people helps, really. I don’t need somebody else’s name tattooed on my head to know what I think. There are fundamental principles.” Starmer arrived at Leeds from Reigate grammar school, the only one of five siblings from a modest semi-detached house in Oxted, Surrey, to get to university. He has spoken movingly about his mother’s 50-year battle with Still’s disease, which ultimately led to her being confined to a wheelchair and unable to eat. “She wouldn’t have moaned. If you’d asked her how she was, she’d say ‘fine, how are you?’,” he said. After a postgraduate degree at Oxford, Starmer moved to London where he shared a rickety flat in Archway with old school friends. He joined the fashionably radical Doughty Street Chambers while carrying out pro-bono work for a string of apparently lost causes. Conor Foley, an international human rights lawyer and aid worker who now lives in Brazil, worked alongside Starmer at the campaign group Amnesty International in the 90s. The pair wrote a pamphlet, Foreign Policy, Human Rights and the UK, in 1998, making a string of recommendations, many of which were subsequently taken up by the Labour government. Tony Blair’s incorporation of the provisions of the European convention on human rights (ECHR) into UK law in the Human Rights Act catapulted Starmer and his fellow human rights lawyers from the lefty fringe of their profession to the mainstream, as the judiciary scrambled to absorb its implications. “There were various people who were, three years before, on the unacceptable left, suddenly found themselves in positions of authority,” says Conor Gearty, a professor of human rights law at the LSE and another old friend. “Because we knew about it and nobody else did.” Foley agrees. “The Human Rights Act - there are probably four or five people in Britain who got that legislation and understood the importance of that legislation, and Keir and I were two of them. There were other people who played a more prominent role. But he has always understood the strategic significance of international human rights law.” Foley says that while the pair were working together at Amnesty he didn’t sense any burning ambition in Starmer to enter party politics. “That wasn’t where we were at. I think he wanted to be a human rights lawyer. I think that was really his dream.” And anyway the Labour party of the time wasn’t much to their liking, he says. “The Blairite party wouldn’t have been something either of us were comfortable with. Not that we were anti, we just weren’t that comfortable with it.” Starmer’s appointment as director of public prosecutions (DPP) – a campaigning human rights lawyer turned the nation’s chief prosecutor – surprised some of his radical friends. Leftwing critics tend to describe his five-year stint at the top of the 6,000-strong Crown Prosecution Service (CPS) as the final stage in Starmer’s metamorphosis from firebrand QC to well-coiffed pillar of the establishment. They point to the all-night court sittings held to administer swift punishment to the 2011 rioters – which Starmer subsequently claimed had helped quell the disorder; and tough prosecuting guidance that imposed sentences of up to 10 years on benefits fraudsters.'),\n",
       " Result(sid=5120, aid=172, pid=2, sent=['the', 'only', 'exit', 'strategy', 'for', 'this', 'that', 'i', 'see', 'is', 'the', 'development', 'of', 'diagnostics', 'therapies', 'and', 'vaccines', 'he', 'said'], para='Andrew Cuomo has renewed his criticism of the federal government, which he accused of fuelling an “eBay”-style bidding war between states over life-saving ventilators. The New York governor’s brother, the CNN anchor Chris Cuomo, has tested positive for the virus but pledged to continue hosting his show from quarantine. And while New York’s struggle continues, Detroit is preparing to become the country’s next virus hotspot. Aircraft carrier. The captain of the US aircraft carrier Theodore Roosevelt has called for help to halt the quick spread of the virus through his crew of 5,000 by isolating the majority onshore in Guam. Civil rights. The draconian measures being taken to tackle the outbreak in the US have already had a striking impact on civil liberties, especially among asylum seekers, people embroiled in the justice system and women seeking abortions. Hospital workers. Medics across the US have expressed fears about the lack of preparation and protective gear, with hospitals potentially becoming major vectors for the virus. China changes tack to deal with ‘silent’ coronavirus carriers')]"
      ]
     },
     "execution_count": 60,
     "metadata": {},
     "output_type": "execute_result"
    }
   ],
   "source": [
    "search_results"
   ]
  },
  {
   "cell_type": "code",
   "execution_count": 61,
   "metadata": {
    "scrolled": true
   },
   "outputs": [
    {
     "data": {
      "text/plain": [
       "[\"'They allowed the perfect storm': UN expert damns New Zealand's housing crisis\",\n",
       " 'If China valued free speech, there would be no coronavirus crisis',\n",
       " \"China's reaction to the coronavirus violates human rights | Frances Eve\",\n",
       " 'Hungary seeks to end legal recognition of trans people amid Covid-19 crisis',\n",
       " \"Togo has long been mired in political crisis – and elections won't change that\",\n",
       " 'Samoa turns away eight of its own citizens over coronavirus fears',\n",
       " 'Rebecca Long-Bailey pledges the environment would be central to Labour policy',\n",
       " 'UN secretary general: recovery from the coronavirus crisis must lead to a better world | António Guterres',\n",
       " 'Keir Starmer had no enemies. Can he keep it that way?',\n",
       " \"US briefing: Trump's sombre warning, 'silent' carriers and EPA rollback\"]"
      ]
     },
     "execution_count": 61,
     "metadata": {},
     "output_type": "execute_result"
    }
   ],
   "source": [
    "[analysis[r.aid].title for r in search_results]"
   ]
  },
  {
   "cell_type": "code",
   "execution_count": 58,
   "metadata": {},
   "outputs": [
    {
     "data": {
      "text/plain": [
       "['Samoa turns away eight of its own citizens over coronavirus fears',\n",
       " \"'If I get corona, I get corona': the Americans who wish they'd taken Covid-19 seriously\",\n",
       " 'Stock markets end wild week with late Wall Street rally – as it happened',\n",
       " 'California housing bill’s failure comes amid fierce debate on how to solve crisis',\n",
       " 'Despite what Trump says, my Chinese students are not the face of this virus | Kristen Brownell',\n",
       " 'UK to ban mass gatherings in coronavirus U-turn',\n",
       " 'Faced with the coronavirus, Boris Johnson must stop playing the invisible man | Andrew Rawnsley',\n",
       " 'Tasmania effectively closes borders to mainland Australia in response to coronavirus']"
      ]
     },
     "execution_count": 58,
     "metadata": {},
     "output_type": "execute_result"
    }
   ],
   "source": [
    "[analysis[r.aid].title for r in search_results]"
   ]
  },
  {
   "cell_type": "code",
   "execution_count": 55,
   "metadata": {},
   "outputs": [
    {
     "data": {
      "text/plain": [
       "['Wellcome Trust urges firms to donate £6bn for Covid-19 research',\n",
       " 'The coronavirus pandemic threatens a crisis for human rights too | Afua Hirsch',\n",
       " 'Council workers face increasing abuse amid coronavirus pandemic',\n",
       " 'Cancer Research UK to cut funding for research by £44m',\n",
       " 'Australian prime minister to ask global leaders to fund urgent research for coronavirus vaccine',\n",
       " \"Australia's private health funds could reap windfall from coronavirus – report\",\n",
       " 'Businesses affected by coronavirus should have access to disaster relief funds, says Queensland',\n",
       " 'Postgraduate students urge funders to extend grants over coronavirus',\n",
       " 'The coronavirus pandemic: visualising the global crisis',\n",
       " 'Carnival cruises seeks $6bn funding amid coronavirus fallout',\n",
       " 'Climate monitoring and research could fall victim to coronavirus, scientists fear',\n",
       " 'Some UK property funds ban withdrawals over coronavirus',\n",
       " 'Morning mail: British PM in hospital, Ruby Princess investigation, health fund windfall',\n",
       " 'EU leaders clash over economic response to coronavirus crisis',\n",
       " 'Global cases pass 500,000 – as it happened',\n",
       " 'Markets face more turmoil as fears for global economy grow',\n",
       " \"Japan's economy on brink of recession; Cathay's profits warning - as it happened\",\n",
       " 'Council leaders call for funding for free school meals over Easter',\n",
       " 'Economic recovery possible by autumn if west contains coronavirus, says fund manager CEO',\n",
       " 'US briefing: Wuhan warning, Jared Kushner steps in and joblessness soars',\n",
       " 'Covid-19 economic rescue plans must be green, say environmentalists',\n",
       " 'Calls for funds to house domestic violence victims during Covid-19 outbreak',\n",
       " 'Social disease: how fraudsters adapt old scams to exploit coronavirus',\n",
       " \"England's cricketers to hand back £500,000 and donate to charities\",\n",
       " \"Ian Finnis, Tommy Fleetwood's caddie, raises funds for colleagues\",\n",
       " \"'Existential crisis': airline workers fear layoffs amid coronavirus pandemic\",\n",
       " \"Jos Buttler wants England's salary donation to help grassroots cricket\",\n",
       " 'Spain orders nationwide lockdown to battle coronavirus',\n",
       " \"Trump was warned in January of Covid-19's devastating impact, memos reveal\",\n",
       " 'Trump weakened environmental laws after BP lobbying',\n",
       " \"A public inquiry into the UK's coronavirus response would find a litany of failures | Anthony Costello\",\n",
       " 'US economy sheds jobs for first time since 2010 as coronavirus hits – as it happened',\n",
       " 'Rishi Sunak faces legal action from gig economy workers',\n",
       " 'Dolly Parton pledges $1m to coronavirus vaccine research',\n",
       " \"'I have no money': debt collection continues despite pandemic\",\n",
       " 'Coronavirus latest: at a glance',\n",
       " 'Global leaders urge G20 to tackle twin health and economic crises',\n",
       " 'WHO declares coronavirus pandemic',\n",
       " \"Brazilians protest over Bolsonaro's muddled coronavirus response\",\n",
       " 'The age of social media bragging is over. Now we are too busy knitting | Yomi Adegoke',\n",
       " 'Number of global Covid-19 cases passes 750,000 with death toll over 36,000 –\\xa0as it happened',\n",
       " 'UK national disaster relief fund launched to help most vulnerable',\n",
       " 'Chris Packham begins legal case to halt HS2 amid coronavirus crisis',\n",
       " 'UK missed coronavirus contact tracing opportunity, experts say',\n",
       " \"Morning mail: partial shutdown, Ruby Princess cases 'could double', Olympics postponed\",\n",
       " 'Coronavirus forecast to cut UK economic output by 15%',\n",
       " '‘Timing is critical’: Native Americans warn virus may overwhelm underfunded health services',\n",
       " 'The Observer view on coronavirus, a tragedy for poorer nations',\n",
       " 'Spain overtakes China as second worst-hit country by Covid-19 –\\xa0as it happened',\n",
       " \"Arts Council England promises £160m to 'buoy public' during lockdown\",\n",
       " \"BrightHouse and Carluccio's fall into administration; oil hits 17-year low - as it happened\",\n",
       " 'Record rise in Italy Covid-19 death toll, Irish PM says stay home for two weeks\\xa0–\\xa0as it happened',\n",
       " 'Race to stop economic confidence falling victim to coronavirus',\n",
       " \"US briefing: a longer lockdown, Fauci's warning and 1,000 New York deaths\",\n",
       " 'UK councils face lawsuits over access to education in lockdown',\n",
       " 'Ignore the bankers – the Trump economy is not worth more coronavirus deaths | Robert Reich',\n",
       " 'The Covid-19 crisis is a chance to do capitalism differently | Mariana Mazzucato',\n",
       " 'How do countries differ in their response to the coronavirus economic crisis? | Ricardo Reis',\n",
       " 'Austerity has crippled the UK’s response to the coronavirus crisis | Letters',\n",
       " 'Fears for wildlife recovery after bushfires as coronavirus crisis stymies scientists’ fieldwork',\n",
       " 'In a pandemic, the wrong economic policy can be fatal',\n",
       " \"Pledge to fund NHS coronavirus battle 'whatever it costs'\",\n",
       " \"'Coughing while Asian': living in fear as racism feeds off coronavirus panic\",\n",
       " '‘We can’t go back to normal’: how will coronavirus change the world?',\n",
       " \"China's coronavirus lockdown strategy: brutal but effective\",\n",
       " 'Next Bank of England governor calls for funds for coronavirus-hit firms',\n",
       " \"'We must use this time well': climate experts hopeful after Cop26 delay\",\n",
       " 'Italy records lowest daily increase in Covid-19 deaths in a week –\\xa0as it happened',\n",
       " 'Life after lockdown: has China really beaten coronavirus?',\n",
       " 'Coronavirus brings fear but also hope for change | Letters',\n",
       " \"£30bn pension fund: we'll sack asset managers that ignore climate crisis\",\n",
       " \"Councils' pandemic fight is hampered by central micromanagement | Richard Vize\",\n",
       " 'Councils told to house all rough sleepers in England by weekend',\n",
       " 'Markets rally as White House pushes for stimulus package – business live',\n",
       " 'How to eat: takeaway while under coronavirus lockdown',\n",
       " 'What are your rights in coronavirus lockdown Britain?',\n",
       " 'Confirmed cases pass 1 million –\\xa0as it happened',\n",
       " 'Trump administration allows companies to break pollution laws during coronavirus pandemic',\n",
       " 'The coronavirus is leading to a whole new way of economic thinking | Larry Elliott',\n",
       " \"What Australia's $189bn coronavirus economic rescue package means for you\",\n",
       " 'Delay is deadly: what Covid-19 tells us about tackling the climate crisis | Jonathan Watts',\n",
       " 'Netflix launches $100m coronavirus relief fund for out-of-work creatives',\n",
       " 'Myer announces it will close stores and stand down 10,000 staff due to Covid-19 crisis – as it happened',\n",
       " 'Brazil: coronavirus fears weaken Amazon protection ahead of fire season',\n",
       " 'Children must not become unseen victims of coronavirus, says thinktank',\n",
       " 'Fed launches unlimited QE, but markets keep falling - as it happened',\n",
       " 'UK national newspaper sales plummet under Covid-19 lockdown',\n",
       " 'Markets resume slide amid Covid-19 fears; Chinese factory profits slump - as it happened',\n",
       " \"Morning mail: 'stay at home' measures explained, 10% of cases from Ruby Princess, locked down weddings\",\n",
       " 'Shell secures £10bn loan facility as it warns over £650m hit from oil price fall',\n",
       " \"Australia's legal, accounting and financial firms brace for coronavirus jobs fallout\",\n",
       " \"UK coronavirus: Johnson 'to review lockdown after Easter' as pressure grows over lack of testing - as it happened\",\n",
       " \"UK banks warned: don't let Covid-19 destroy good firms - as it happened\",\n",
       " 'Coronavirus US live: Trump blames states for lack of supplies – as it happened',\n",
       " 'Coronavirus: a test strategy that failed | Letters',\n",
       " 'Australia coronavirus live news: Western Australia records two new deaths – as it happened',\n",
       " 'Coronavirus: 25 March, at a glance',\n",
       " \"Morning mail: coronavirus 'shambles', Democratic primaries, PM's poll rebound\",\n",
       " 'Can Gaza cope with Covid-19 after years under lockdown?',\n",
       " 'Push to end low pay may have to be scrapped, UK government warned']"
      ]
     },
     "execution_count": 55,
     "metadata": {},
     "output_type": "execute_result"
    }
   ],
   "source": [
    "[a.title for a in analysis[:100]]"
   ]
  },
  {
   "cell_type": "code",
   "execution_count": null,
   "metadata": {},
   "outputs": [],
   "source": []
  }
 ],
 "metadata": {
  "kernelspec": {
   "display_name": "Python [conda env:allen] *",
   "language": "python",
   "name": "conda-env-allen-py"
  },
  "language_info": {
   "codemirror_mode": {
    "name": "ipython",
    "version": 3
   },
   "file_extension": ".py",
   "mimetype": "text/x-python",
   "name": "python",
   "nbconvert_exporter": "python",
   "pygments_lexer": "ipython3",
   "version": "3.7.7"
  }
 },
 "nbformat": 4,
 "nbformat_minor": 2
}
