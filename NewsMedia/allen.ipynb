{
 "cells": [
  {
   "cell_type": "code",
   "execution_count": 1,
   "metadata": {},
   "outputs": [],
   "source": [
    "from allennlp.predictors.predictor import Predictor\n",
    "from collections import namedtuple\n",
    "import spacy\n",
    "import math\n",
    "import json\n",
    "import tqdm"
   ]
  },
  {
   "cell_type": "markdown",
   "metadata": {},
   "source": [
    "### allen nlp sentiment model"
   ]
  },
  {
   "cell_type": "code",
   "execution_count": 3,
   "metadata": {},
   "outputs": [],
   "source": [
    "sentiment_model = \"/Users/Xiao/Downloads/sst-roberta-large-2020.02.17.tar.gz\"\n",
    "# ner_model = \"/Users/Xiao/Downloads/fine-grained-ner-model-elmo-2018.12.21.tar.gz\""
   ]
  },
  {
   "cell_type": "code",
   "execution_count": 4,
   "metadata": {},
   "outputs": [],
   "source": [
    "sent = \"Key Trump adviser claims tax cuts will still pay for themselves even as coronavirus drags on US economy\""
   ]
  },
  {
   "cell_type": "code",
   "execution_count": 5,
   "metadata": {
    "scrolled": true
   },
   "outputs": [],
   "source": [
    "sentiment_predictor = Predictor.from_path(sentiment_model)"
   ]
  },
  {
   "cell_type": "code",
   "execution_count": 6,
   "metadata": {},
   "outputs": [
    {
     "data": {
      "text/plain": [
       "{'logits': [-0.8061320781707764, -0.23963770270347595],\n",
       " 'probs': [0.36204612255096436, 0.6379538774490356],\n",
       " 'label': '0'}"
      ]
     },
     "execution_count": 6,
     "metadata": {},
     "output_type": "execute_result"
    }
   ],
   "source": [
    "sentiment_predictor.predict(sentence=sent)"
   ]
  },
  {
   "cell_type": "code",
   "execution_count": 7,
   "metadata": {},
   "outputs": [],
   "source": [
    "def get_sentiment(text):\n",
    "    pred = sentiment_predictor.predict(sentence=text)\n",
    "    label = int(pred['label'])\n",
    "    return -1 if label == 0 else 1"
   ]
  },
  {
   "cell_type": "markdown",
   "metadata": {},
   "source": [
    "### Spacy ner model"
   ]
  },
  {
   "cell_type": "code",
   "execution_count": 8,
   "metadata": {
    "scrolled": true
   },
   "outputs": [],
   "source": [
    "nlp = spacy.load('en_core_web_sm')"
   ]
  },
  {
   "cell_type": "code",
   "execution_count": 9,
   "metadata": {},
   "outputs": [],
   "source": [
    "doc = nlp(sent)"
   ]
  },
  {
   "cell_type": "code",
   "execution_count": 10,
   "metadata": {},
   "outputs": [
    {
     "name": "stdout",
     "output_type": "stream",
     "text": [
      "US GPE\n"
     ]
    }
   ],
   "source": [
    "for ent in doc.ents:\n",
    "    print(ent.text, ent.label_)"
   ]
  },
  {
   "cell_type": "code",
   "execution_count": 11,
   "metadata": {},
   "outputs": [],
   "source": [
    "def get_entities(text):\n",
    "    doc = nlp(text)\n",
    "    return [(ent.text, ent.label_) for ent in doc.ents if ent.label_ in ('ORG', 'GPE', 'NORP', 'FAC')]\n",
    "\n",
    "def get_text_entities(text):\n",
    "    doc = nlp(text)\n",
    "    return [(ent.text, ent.label_) for ent in doc.ents if ent.label_ in ('ORG', 'GPE', 'NORP', 'FAC', \n",
    "                                                                         'PERSON', 'PRODUCT', 'MONEY', 'EVENT')]"
   ]
  },
  {
   "cell_type": "markdown",
   "metadata": {},
   "source": [
    "### extract information"
   ]
  },
  {
   "cell_type": "code",
   "execution_count": 3,
   "metadata": {},
   "outputs": [],
   "source": [
    "# class Item:\n",
    "#     def __init__(title,section,pdate,weburl,apiurl,ents,sentiment,text):\n",
    "#         self.title = title\n",
    "#         self.section = section\n",
    "#         self.pdate = pdate\n",
    "#         self.weburl = weburl\n",
    "#         self.apiurl = apiurl\n",
    "#         self.ents = ents\n",
    "#         self.sentiment = sentiment\n",
    "#         self.text=text\n",
    "\n",
    "Item = namedtuple('INFO', ('title', 'section', 'pdate', 'weburl', 'apiurl', 'text', 'ents', 'sentiment'))\n",
    "\n",
    "\n",
    "def extract_info(text):\n",
    "    entities = get_entities(text)\n",
    "    sentiment = get_sentiment(text)\n",
    "    return entities,sentiment\n",
    "\n",
    "def analyse(news_list):\n",
    "    news = []\n",
    "    for title, section, date, weburl, apiurl,bodytext in tqdm.tqdm(news_list):\n",
    "        entities, sentiment = extract_info(title)\n",
    "        news.append(Item(title=title,\n",
    "                         section=section,\n",
    "                         pdate=date,\n",
    "                         weburl=weburl,\n",
    "                         apiurl=apiurl,\n",
    "                         text=bodytext,\n",
    "                         ents=entities, \n",
    "                         sentiment=sentiment,))\n",
    "    return news"
   ]
  },
  {
   "cell_type": "code",
   "execution_count": 13,
   "metadata": {},
   "outputs": [],
   "source": [
    "with open('news.json', 'r') as f:\n",
    "    news_list = json.load(f)"
   ]
  },
  {
   "cell_type": "code",
   "execution_count": 14,
   "metadata": {},
   "outputs": [
    {
     "name": "stderr",
     "output_type": "stream",
     "text": [
      "100%|██████████| 4435/4435 [31:39<00:00,  2.34it/s]    \n"
     ]
    }
   ],
   "source": [
    "analysis = analyse(news_list)"
   ]
  },
  {
   "cell_type": "code",
   "execution_count": 15,
   "metadata": {},
   "outputs": [],
   "source": [
    "# with open('news-text.json', 'w') as f:\n",
    "#     json.dump(analysis, fp=f)"
   ]
  },
  {
   "cell_type": "code",
   "execution_count": 16,
   "metadata": {},
   "outputs": [
    {
     "data": {
      "text/plain": [
       "[('America', 'GPE'),\n",
       " ('Dow Jones', 'ORG'),\n",
       " ('Bear Market', 'ORG'),\n",
       " ('American', 'NORP'),\n",
       " ('the Federal Government', 'ORG'),\n",
       " ('CoronaVirus', 'ORG'),\n",
       " ('UK', 'GPE'),\n",
       " ('FTSE', 'ORG'),\n",
       " ('The Bank of England', 'ORG'),\n",
       " ('UK', 'GPE'),\n",
       " ('UK', 'GPE'),\n",
       " ('the European Central Bank', 'ORG'),\n",
       " ('EU', 'ORG'),\n",
       " ('Italy', 'GPE')]"
      ]
     },
     "execution_count": 16,
     "metadata": {},
     "output_type": "execute_result"
    }
   ],
   "source": [
    "get_entities(analysis[300].text)"
   ]
  },
  {
   "cell_type": "code",
   "execution_count": 18,
   "metadata": {},
   "outputs": [
    {
     "data": {
      "text/plain": [
       "'The coronavirus pandemic has stalled scientific fieldwork and may even start to affect the monitoring of the climate, scientists have warned. Major projects to gather environmental data have been postponed or canceled over concerns that teams of researchers working together will spread the Covid-19 virus. The crisis has so far mainly stymied long-term studies, but concerns have been raised that routine monitoring of weather and the climate crisis may be affected if the pandemic drags on for an extended period.\\nPetteri Taalas, secretary general of World Meteorological Organization, said: “The impacts of climate change and growing amount of weather-related disasters continue. “The Covid-19 pandemic poses an additional challenge, and may exacerbate multi-hazard risks at a single-country level. Therefore it is essential that governments pay attention to their national early warning and weather-observing capacities despite the Covid-19 crisis.” Wealthy countries that have deployed land- and ocean-based instruments, as well as satellites, to gauge temperature changes and other readings mostly have done so with fully or partly automated systems. This means that data will continue to flow without much hands-on human input but should the pandemic stretch out for many more weeks then missed repairs and replacements of instruments will become an “increasing concern”, according to the WMO. Furthermore, in many developing countries measurements are routinely taken manually by scientists in the field and there are indications this work has dropped off. A huge slump in air travel since the start of the pandemic has dented the collection of ambient temperature and wind speed taken in-flight by sensors fitted to commercial airliners through an initiative called the Aircraft Meteorological Data Relay program. A coalition of national weather services across Europe are discussing how to compensate for the decrease in the 700,000 climate observations normally provided per day by aircraft. In the US, a swath of climate research work has been called off or delayed. Nasa-led missions to survey the loss of land in the Mississippi River delta and hurricane recovery in Puerto Rico have been suspended. With all flights to and from Greenland suspended, a project to collect cores from the country’s vast ice sheet has been voided for the year. Nasa has asked staff to work remotely where possible, with a spokesman telling the Guardian that the agency has a continuity plan to ensure that there is “no interruption of climate-relevant data”. A five-year Nasa project to study the impact of severe thunderstorms that enter the stratosphere is now mired in uncertainty. Researchers from several universities have partnered with Nasa to use its high-altitude ER-2 aircraft to take measurements this summer but this work is now on hold. “Because of the delays we haven’t started tests yet and it’s not clear if we are going to be able to do that,” said Kenneth Bowman, a climate scientist at Texas A&M University, who is working on the project. “We don’t really know the timings, we are taking it week to week. It’s always frustrating having all of your plans disrupted, not knowing when we will do what we want to do.” Bowman said routine climate monitoring is “robust” and that he would be surprised if the pandemic disrupted this work unless it spooled out for many months or years. Gabriel Vecchi, a climate modeler at Princeton University, said while he was concerned about the impact of the pandemic on data collection he was “quite heartened” that observations of the Earth’s surface have continued unabated so far. “We should all be grateful for the people and organizations that are continuing these essential forecast and monitoring operations, in spite of the severe challenges they are facing,” he said. If the pandemic lingers then climate scientists will face challenges shared by some other professions – meetings of teams will have to be reorientated, the maintenance of equipment will somehow have to be done and trips to research sites will be curtailed. This is occurring at a time when air pollution, as well as planet-heating gases, has declined considerably in China and Europe due to a reduction in human activity. “For the most part these polluted areas have snuck up on people and they have become the norm and when the public realize it doesn’t have to be that way, I can imagine considerable pressures to not let it go back to how it was,” said Kevin Trenberth, a veteran climate scientist. “I can imagine that commuting from home may become a lot more common as we move ahead, to the advantage of the climate system and fossil fuel use, and to everyone.”'"
      ]
     },
     "execution_count": 18,
     "metadata": {},
     "output_type": "execute_result"
    }
   ],
   "source": [
    "analysis[10].text"
   ]
  },
  {
   "cell_type": "markdown",
   "metadata": {},
   "source": [
    "### Fasttext embedding"
   ]
  },
  {
   "cell_type": "code",
   "execution_count": 229,
   "metadata": {},
   "outputs": [],
   "source": [
    "from gensim.models.fasttext import FastText\n",
    "import nltk\n",
    "\n",
    "def process_sent(sent, remove_punct=True):\n",
    "    if remove_punct:\n",
    "        tokens = [token.lower() for token in nltk.word_tokenize(sent.strip()) if len(token)>1 or token.isalnum()]\n",
    "    else:\n",
    "        tokens = [token.lower() for token in nltk.word_tokenize(sent.strip())]\n",
    "    return tokens\n",
    "    \n",
    "def flat_corpus(dataset, para_level=False, remove_punct=True):\n",
    "    corpus = []\n",
    "    sid2art = {}\n",
    "    for aid, an in enumerate(tqdm.tqdm(dataset)):\n",
    "        paragraphs = an.text.split(\"\\n\")\n",
    "        if para_level:\n",
    "            for pid, para in enumerate(paragraphs):\n",
    "                start_idx = len(sid2art)\n",
    "                sid2art[start_idx] = {'aid':aid, 'pid':pid}\n",
    "                tokens = process_sent(para, remove_punct)\n",
    "                corpus.append(tokens)           \n",
    "        else:\n",
    "            for pid, para in enumerate(paragraphs):\n",
    "                sents = nltk.sent_tokenize(para)\n",
    "                start_idx = len(sid2art)\n",
    "                for i in range(len(sents)):\n",
    "                    sid2art[start_idx+i] = {'aid':aid, 'pid':pid}\n",
    "                    tokens = process_sent(sents[i], remove_punct)\n",
    "                    corpus.append(tokens)\n",
    "    return corpus, sid2art"
   ]
  },
  {
   "cell_type": "code",
   "execution_count": 230,
   "metadata": {},
   "outputs": [],
   "source": [
    "with open('news-text-unique.json', 'r') as f:\n",
    "    data = json.load(f)\n",
    "    analysis = [Item._make(d) for d in data]"
   ]
  },
  {
   "cell_type": "code",
   "execution_count": 231,
   "metadata": {
    "scrolled": true
   },
   "outputs": [
    {
     "name": "stderr",
     "output_type": "stream",
     "text": [
      "100%|██████████| 3171/3171 [00:31<00:00, 101.98it/s]\n"
     ]
    }
   ],
   "source": [
    "line_corpus, sid2aid = flat_corpus(analysis, para_level=False, remove_punct=True)"
   ]
  },
  {
   "cell_type": "code",
   "execution_count": 232,
   "metadata": {},
   "outputs": [
    {
     "data": {
      "text/plain": [
       "(113098,\n",
       " [['the',\n",
       "   'wellcome',\n",
       "   'trust',\n",
       "   'is',\n",
       "   'calling',\n",
       "   'on',\n",
       "   'big',\n",
       "   'businesses',\n",
       "   'to',\n",
       "   'donate',\n",
       "   '8bn',\n",
       "   '£6.4bn',\n",
       "   'for',\n",
       "   'research',\n",
       "   'into',\n",
       "   'developing',\n",
       "   'diagnostic',\n",
       "   'tests',\n",
       "   'therapies',\n",
       "   'and',\n",
       "   'vaccines',\n",
       "   'to',\n",
       "   'tackle',\n",
       "   'the',\n",
       "   'coronavirus',\n",
       "   'pandemic'],\n",
       "  ['jeremy',\n",
       "   'farrar',\n",
       "   'the',\n",
       "   'director',\n",
       "   'of',\n",
       "   'the',\n",
       "   'london-based',\n",
       "   'medical',\n",
       "   'research',\n",
       "   'charity',\n",
       "   'said',\n",
       "   'a',\n",
       "   'huge',\n",
       "   'investment',\n",
       "   'in',\n",
       "   'scientific',\n",
       "   'research',\n",
       "   'was',\n",
       "   'the',\n",
       "   'only',\n",
       "   'exit',\n",
       "   'strategy',\n",
       "   'to',\n",
       "   'save',\n",
       "   'millions',\n",
       "   'of',\n",
       "   'lives',\n",
       "   'and',\n",
       "   'drag',\n",
       "   'the',\n",
       "   'global',\n",
       "   'economy',\n",
       "   'out',\n",
       "   'of',\n",
       "   'an',\n",
       "   'inevitable',\n",
       "   'recession'],\n",
       "  ['farrar',\n",
       "   'said',\n",
       "   'that',\n",
       "   'while',\n",
       "   'businesses',\n",
       "   'and',\n",
       "   'governments',\n",
       "   'had',\n",
       "   'acted',\n",
       "   'fast',\n",
       "   'to',\n",
       "   'help',\n",
       "   'support',\n",
       "   'staff',\n",
       "   'and',\n",
       "   'keep',\n",
       "   'the',\n",
       "   'global',\n",
       "   'economy',\n",
       "   'ticking',\n",
       "   'along',\n",
       "   'the',\n",
       "   'only',\n",
       "   'long-term',\n",
       "   'solution',\n",
       "   'was',\n",
       "   'to',\n",
       "   'quickly',\n",
       "   'develop',\n",
       "   'vaccines',\n",
       "   'and',\n",
       "   'treatments'],\n",
       "  ['the',\n",
       "   'only',\n",
       "   'exit',\n",
       "   'strategy',\n",
       "   'for',\n",
       "   'this',\n",
       "   'that',\n",
       "   'i',\n",
       "   'see',\n",
       "   'is',\n",
       "   'the',\n",
       "   'development',\n",
       "   'of',\n",
       "   'diagnostics',\n",
       "   'therapies',\n",
       "   'and',\n",
       "   'vaccines',\n",
       "   'he',\n",
       "   'said'],\n",
       "  ['that',\n",
       "   's',\n",
       "   'the',\n",
       "   'only',\n",
       "   'way',\n",
       "   'we',\n",
       "   'can',\n",
       "   'return',\n",
       "   'to',\n",
       "   'normal.',\n",
       "   'on',\n",
       "   'a',\n",
       "   'conference',\n",
       "   'call',\n",
       "   'later',\n",
       "   'on',\n",
       "   'tuesday',\n",
       "   'farrar',\n",
       "   'will',\n",
       "   'tell',\n",
       "   'the',\n",
       "   'chief',\n",
       "   'executives',\n",
       "   'of',\n",
       "   'the',\n",
       "   'world',\n",
       "   's',\n",
       "   'biggest',\n",
       "   'companies',\n",
       "   'that',\n",
       "   'pledging',\n",
       "   'funds',\n",
       "   'to',\n",
       "   'the',\n",
       "   'covid-zero',\n",
       "   'fund',\n",
       "   'is',\n",
       "   'the',\n",
       "   'best',\n",
       "   'investment',\n",
       "   'your',\n",
       "   'business',\n",
       "   'can',\n",
       "   'make',\n",
       "   'today'],\n",
       "  ['he',\n",
       "   'said',\n",
       "   'businesses',\n",
       "   'and',\n",
       "   'governments',\n",
       "   'are',\n",
       "   'rightly',\n",
       "   'concerned',\n",
       "   'with',\n",
       "   'tackling',\n",
       "   'immediate',\n",
       "   'concerns',\n",
       "   'how',\n",
       "   'to',\n",
       "   'support',\n",
       "   'staff',\n",
       "   'keep',\n",
       "   'trading',\n",
       "   'and',\n",
       "   'bolster',\n",
       "   'economies'],\n",
       "  ['but',\n",
       "   'we',\n",
       "   'also',\n",
       "   'need',\n",
       "   'a',\n",
       "   'way',\n",
       "   'out',\n",
       "   'of',\n",
       "   'this',\n",
       "   'pandemic',\n",
       "   'as',\n",
       "   'fast',\n",
       "   'as',\n",
       "   'possible.',\n",
       "   'farrar',\n",
       "   'who',\n",
       "   'is',\n",
       "   'an',\n",
       "   'infectious',\n",
       "   'disease',\n",
       "   'researcher',\n",
       "   'as',\n",
       "   'well',\n",
       "   'as',\n",
       "   'director',\n",
       "   'of',\n",
       "   'the',\n",
       "   'wellcome',\n",
       "   'trust',\n",
       "   'said',\n",
       "   'drugs',\n",
       "   'vaccines',\n",
       "   'and',\n",
       "   'rapid',\n",
       "   'diagnostics',\n",
       "   'are',\n",
       "   'the',\n",
       "   'only',\n",
       "   'way',\n",
       "   'we',\n",
       "   'have',\n",
       "   'of',\n",
       "   'saving',\n",
       "   'lives',\n",
       "   'bringing',\n",
       "   'this',\n",
       "   'pandemic',\n",
       "   'to',\n",
       "   'an',\n",
       "   'end',\n",
       "   'and',\n",
       "   'preventing',\n",
       "   'it',\n",
       "   'reappearing'],\n",
       "  ['this',\n",
       "   'is',\n",
       "   'the',\n",
       "   'only',\n",
       "   'exit',\n",
       "   'strategy',\n",
       "   'but',\n",
       "   'we',\n",
       "   'do',\n",
       "   'not',\n",
       "   'have',\n",
       "   'the',\n",
       "   'funding',\n",
       "   'we',\n",
       "   'need',\n",
       "   'to',\n",
       "   'execute',\n",
       "   'it.',\n",
       "   'he',\n",
       "   'said',\n",
       "   'that',\n",
       "   'unless',\n",
       "   'businesses',\n",
       "   'and',\n",
       "   'governments',\n",
       "   'provide',\n",
       "   'funds',\n",
       "   'now',\n",
       "   'covid-19',\n",
       "   'and',\n",
       "   'the',\n",
       "   'economic',\n",
       "   'damage',\n",
       "   'caused',\n",
       "   'by',\n",
       "   'rolling',\n",
       "   'lockdowns',\n",
       "   'will',\n",
       "   'continue',\n",
       "   'to',\n",
       "   'plague',\n",
       "   'the',\n",
       "   'world'],\n",
       "  ['farrar',\n",
       "   'said',\n",
       "   'we',\n",
       "   'want',\n",
       "   'business',\n",
       "   'leaders',\n",
       "   'to',\n",
       "   'give',\n",
       "   'a',\n",
       "   'small',\n",
       "   'proportion',\n",
       "   'of',\n",
       "   'the',\n",
       "   'money',\n",
       "   'they',\n",
       "   'are',\n",
       "   'dedicating',\n",
       "   'to',\n",
       "   'coping',\n",
       "   'with',\n",
       "   'this',\n",
       "   'crisis',\n",
       "   'to',\n",
       "   'solving',\n",
       "   'it'],\n",
       "  ['we', 'hope', 'that', 'governments', 'will', 'follow', 'their', 'example']])"
      ]
     },
     "execution_count": 232,
     "metadata": {},
     "output_type": "execute_result"
    }
   ],
   "source": [
    "len(line_corpus), line_corpus[:10]"
   ]
  },
  {
   "cell_type": "code",
   "execution_count": 223,
   "metadata": {},
   "outputs": [],
   "source": [
    "ft_model = FastText(\n",
    "    sentences=line_corpus, \n",
    "    size=100,\n",
    "    window=10,\n",
    "    min_count=5,\n",
    "    word_ngrams=1,\n",
    "    iter=5,\n",
    "    negative=5,\n",
    "    sample=1e-3,\n",
    "    sg=0,\n",
    "    alpha=0.025,\n",
    "    ns_exponent=0.75,\n",
    "    min_n=3,\n",
    "    max_n=6)"
   ]
  },
  {
   "cell_type": "code",
   "execution_count": 224,
   "metadata": {},
   "outputs": [
    {
     "data": {
      "text/plain": [
       "[('covid‑19', 0.9601863622665405),\n",
       " ('covid-19.', 0.9178797602653503),\n",
       " ('covid-19', 0.8939427733421326),\n",
       " ('covid-19-related', 0.8484106063842773),\n",
       " ('anti-coronavirus', 0.8391342759132385),\n",
       " ('coronavirus', 0.8288556337356567),\n",
       " ('coronavirus.', 0.8244268298149109),\n",
       " ('coronavirus-driven', 0.8238552808761597),\n",
       " ('coronavirus-hit', 0.8180310726165771),\n",
       " ('coronaviruses', 0.8164380788803101)]"
      ]
     },
     "execution_count": 224,
     "metadata": {},
     "output_type": "execute_result"
    }
   ],
   "source": [
    "ft_model.wv.similar_by_word('covid')"
   ]
  },
  {
   "cell_type": "markdown",
   "metadata": {},
   "source": [
    "### Sentence embedding"
   ]
  },
  {
   "cell_type": "code",
   "execution_count": 225,
   "metadata": {},
   "outputs": [],
   "source": [
    "from fse.models import SIF\n",
    "from fse import IndexedList"
   ]
  },
  {
   "cell_type": "code",
   "execution_count": 226,
   "metadata": {},
   "outputs": [],
   "source": [
    "fse_model = SIF(ft_model)"
   ]
  },
  {
   "cell_type": "code",
   "execution_count": 227,
   "metadata": {},
   "outputs": [],
   "source": [
    "indexed_corpus = IndexedList(line_corpus)"
   ]
  },
  {
   "cell_type": "code",
   "execution_count": 228,
   "metadata": {},
   "outputs": [
    {
     "data": {
      "text/plain": [
       "(113067, 2678085)"
      ]
     },
     "execution_count": 228,
     "metadata": {},
     "output_type": "execute_result"
    }
   ],
   "source": [
    "fse_model.train(indexed_corpus)"
   ]
  },
  {
   "cell_type": "code",
   "execution_count": 313,
   "metadata": {},
   "outputs": [],
   "source": [
    "query = \"human right covid-19\"\n",
    "query = ' '.join(process_sent(query, remove_punct=True))\n",
    "retrieved_sents = fse_model.sv.similar_by_sentence(nltk.word_tokenize(query), model=fse_model, indexable=indexed_corpus)"
   ]
  },
  {
   "cell_type": "code",
   "execution_count": 314,
   "metadata": {},
   "outputs": [
    {
     "data": {
      "text/plain": [
       "[((['basic',\n",
       "    'compassion',\n",
       "    'empathy',\n",
       "    'and',\n",
       "    'kindness',\n",
       "    'for',\n",
       "    'our',\n",
       "    'fellow',\n",
       "    'human',\n",
       "    'beings',\n",
       "    'right',\n",
       "    'now',\n",
       "    'this',\n",
       "    'is',\n",
       "    'what',\n",
       "    'we',\n",
       "    'can',\n",
       "    'and',\n",
       "    'should',\n",
       "    'be',\n",
       "    'spreading'],\n",
       "   42318),\n",
       "  42318,\n",
       "  0.7477512359619141),\n",
       " ((['but',\n",
       "    'vulnerable',\n",
       "    'people',\n",
       "    'should',\n",
       "    'not',\n",
       "    'be',\n",
       "    'exposed',\n",
       "    'to',\n",
       "    'a',\n",
       "    'virus',\n",
       "    'right',\n",
       "    'now',\n",
       "    'in',\n",
       "    'the',\n",
       "    'service',\n",
       "    'of',\n",
       "    'a',\n",
       "    'hypothetical',\n",
       "    'future'],\n",
       "   68915),\n",
       "  68915,\n",
       "  0.7323046922683716),\n",
       " ((['the',\n",
       "    'directive',\n",
       "    'states',\n",
       "    'its',\n",
       "    'purpose',\n",
       "    'is',\n",
       "    'to',\n",
       "    'facilitate',\n",
       "    'the',\n",
       "    'most',\n",
       "    'efficient',\n",
       "    'and',\n",
       "    'effective',\n",
       "    'deployment',\n",
       "    'of',\n",
       "    'aps',\n",
       "    'employees',\n",
       "    'and',\n",
       "    'expertise',\n",
       "    'to',\n",
       "    'meet',\n",
       "    'the',\n",
       "    'exceptional',\n",
       "    'challenge',\n",
       "    'posed',\n",
       "    'by',\n",
       "    'covid-19',\n",
       "    'to',\n",
       "    'australian',\n",
       "    'society',\n",
       "    'a',\n",
       "    'task',\n",
       "    'which',\n",
       "    'has',\n",
       "    'become',\n",
       "    'the',\n",
       "    'principal',\n",
       "    'focus',\n",
       "    'of',\n",
       "    'aps',\n",
       "    'endeavour'],\n",
       "   68960),\n",
       "  68960,\n",
       "  0.7304300665855408),\n",
       " ((['are', 'we', 'doing', 'covid-19', 'right'], 51595),\n",
       "  51595,\n",
       "  0.6992127895355225),\n",
       " ((['the',\n",
       "    'increasing',\n",
       "    'concern',\n",
       "    'from',\n",
       "    'climate',\n",
       "    'researchers',\n",
       "    'that',\n",
       "    'such',\n",
       "    'a',\n",
       "    'world',\n",
       "    'is',\n",
       "    'likely',\n",
       "    'to',\n",
       "    'be',\n",
       "    'climatically',\n",
       "    'unstable',\n",
       "    'and',\n",
       "    'incompatible',\n",
       "    'with',\n",
       "    'the',\n",
       "    'survival',\n",
       "    'of',\n",
       "    'human',\n",
       "    'civilisation',\n",
       "    'as',\n",
       "    'we',\n",
       "    'know',\n",
       "    'it',\n",
       "    'is',\n",
       "    'totally',\n",
       "    'ignored'],\n",
       "   96286),\n",
       "  96286,\n",
       "  0.6977415680885315)]"
      ]
     },
     "execution_count": 314,
     "metadata": {},
     "output_type": "execute_result"
    }
   ],
   "source": [
    "retrieved_sents[:5]"
   ]
  },
  {
   "cell_type": "code",
   "execution_count": 315,
   "metadata": {},
   "outputs": [],
   "source": [
    "retrieved_sids = [s[1] for s in retrieved_sents]"
   ]
  },
  {
   "cell_type": "code",
   "execution_count": 316,
   "metadata": {},
   "outputs": [
    {
     "data": {
      "text/plain": [
       "[42318, 68915, 68960, 51595, 96286, 68067, 21769, 29441, 9820, 52029]"
      ]
     },
     "execution_count": 316,
     "metadata": {},
     "output_type": "execute_result"
    }
   ],
   "source": [
    "retrieved_sids"
   ]
  },
  {
   "cell_type": "code",
   "execution_count": 317,
   "metadata": {},
   "outputs": [],
   "source": [
    "mapping = [sid2aid[sid] for sid in retrieved_sids]"
   ]
  },
  {
   "cell_type": "code",
   "execution_count": 318,
   "metadata": {},
   "outputs": [
    {
     "data": {
      "text/plain": [
       "[{'aid': 1258, 'pid': 2},\n",
       " {'aid': 1998, 'pid': 2},\n",
       " {'aid': 1999, 'pid': 2},\n",
       " {'aid': 1511, 'pid': 0},\n",
       " {'aid': 2777, 'pid': 1},\n",
       " {'aid': 1974, 'pid': 0},\n",
       " {'aid': 670, 'pid': 4},\n",
       " {'aid': 891, 'pid': 4},\n",
       " {'aid': 321, 'pid': 2},\n",
       " {'aid': 1522, 'pid': 1}]"
      ]
     },
     "execution_count": 318,
     "metadata": {},
     "output_type": "execute_result"
    }
   ],
   "source": [
    "mapping"
   ]
  },
  {
   "cell_type": "code",
   "execution_count": 319,
   "metadata": {},
   "outputs": [],
   "source": [
    "def retrieve_paragraph(mappings, dataset):\n",
    "    paras = []\n",
    "    for m in mappings:\n",
    "        article = dataset[m['aid']]\n",
    "        paragraph = article.text.split('\\n')[m['pid']]\n",
    "        paras.append(paragraph)\n",
    "    return paras"
   ]
  },
  {
   "cell_type": "code",
   "execution_count": 320,
   "metadata": {},
   "outputs": [],
   "source": [
    "r_paras = retrieve_paragraph(mapping, analysis)"
   ]
  },
  {
   "cell_type": "code",
   "execution_count": 321,
   "metadata": {},
   "outputs": [
    {
     "data": {
      "text/plain": [
       "['To this day, I’m still hearing stories from my students – we have been Skyping regularly – about how people walk in the other direction when they see them. Sometimes strangers get aggressive and say things to them like: “This is your people’s fault.” They’re afraid to walk into places like Walmart or Target because of this. I fear for their safety beyond the coronavirus itself. One student, whose husband and kids are here in the US with her, just told me a story about going to a PTA meeting at her son’s elementary school. She and her husband sat in the back corner of the room so as not to upset or alarm other parents – it has happened so often, they have come to expect it. She told me other parents approached the person running the meeting and asked for “that Chinese couple in the back” to be asked to leave. Thankfully the request was not granted, but my student was still deeply upset by it, understandably. We are all having to go into isolation because of Covid-19, through no fault of our own. But many of us have family, friends, co-workers and other members of our community to lean on as we approach the unknown. Now, simple human interactions like visiting the grocery store or even driving down the street and seeing another human face are a treat. My international students are even more isolated and vulnerable than the rest of us. They are in a country that’s becoming increasingly hostile toward them. Everyone in every part of the world is fearful of this infection and how far it will spread, of how many people it will affect. The one thing we have control over right now is how we behave and how we treat other people. Basic compassion, empathy and kindness for our fellow human beings – right now, this is what we can and should be spreading.',\n",
       " 'We talk about vaccines generating herd immunity, so why is this different? Because this is not a vaccine. This is an actual pandemic that will make a very large number of people sick, and some of them will die. Even though the mortality rate is likely quite low, a small fraction of a very large number is still a large number. And the mortality rate will climb when the NHS is overwhelmed. This would be expected to happen, even if we make the generous assumption that the government were entirely successful in restricting the virus to the low-risk population, at the peak of the outbreak the numbers requiring critical care would be greater than the number of beds available. This is made worse by the fact that people who are badly ill tend to remain so for a long time, which increases the burden. And of course you can’t restrict it to this age group. Think of all the people aged between 20 and 40 who work in healthcare, or old people’s homes. You don’t need many introductions into settings like these for what we might coyly call “severe outcomes”. In Washington State, nearly all the deaths reported so far have been associated with nursing homes. Is everyone in a high-risk group supposed to withdraw themselves from society for six months until they can emerge once the (so far entirely imaginary) second wave has been averted? About that second wave: let me be clear. Second waves are real things, and we have seen them in flu pandemics. This is not a flu pandemic. Flu rules do not apply. There might well be a second wave, I honestly don’t know. But vulnerable people should not be exposed to a virus right now in the service of a hypothetical future. Keeping people safe means self-isolation if you develop symptoms, but the official advice here is also misleading. While it is of paramount importance that sick people stay at home to avoid infecting others, it is increasingly clear that transmission can occur before symptoms develop. We know this is true from modelling and observational studies. I have seen it happen myself. We do not know how often it occurs or how important it is in the epidemiology, but it definitely does happen. However, arguments about the case fatality rate, the transmission parameters and presymptomatic transmission all miss the point. This virus is capable of shutting down countries. You should not want to be the next after Wuhan, Iran, Italy or Spain. In those places, the healthcare systems have broken down. In Italy, the choices of whom to save and whom to allow to die are real. You should instead look to the example of South Korea, which, through a combination of intense surveillance and social distancing, appears to have gained some semblance of control over the virus. We can learn from South Korea, Singapore, Hong Kong and Taiwan, all of which have so far done a good job mitigating the worst outcomes despite having reported cases early in the pandemic, and in the case of South Korea, suffering a substantial outbreak.',\n",
       " 'The Australian Capital Territory chief minister, Andrew Barr, has raised and will continue to raise the issue at national cabinet, citing the fact the APSC’s policy is at odds with Scott Morrison’s request that people work from home where possible. On Thursday the prime minister asked every agency head to identify by Monday which public servants are critical to the continued delivery of services to the Australian public or the operation of the APS as a whole. Agency heads will then identify which employees are capable of working on a temporary basis for other critical APS agencies, in state or territory government agencies or community organisations to address the consequences of Covid-19. The Australian Public Service Commissioner “will then notify relevant agency heads as to which employees or groups of employees in the agency are to undertake work elsewhere”, although Guardian Australia understands the intention is for redeployment to be voluntary. The directive states its purpose is “to facilitate the most efficient and effective deployment of APS employees and expertise to meet the exceptional challenge posed by Covid-19 to Australian society – a task which has become the principal focus of APS endeavour”. A spokeswoman for the APSC confirmed it is “mobilising its resources to ensure staff are dedicated to the most critical government services and ensure that the Australians who need help the most are receiving it”. Agencies “critical to the delivery of government services, such as Services Australia” will be the focus. “The APS commissioner Peter Woolcott has established an APS workforce management taskforce to manage the mobility of the APS workforce across departments and agencies,” she said. “The taskforce will quickly identify critical gaps in capacity and emerging risk areas, and increase capacity through movement of staff into those roles. “The taskforce will be working closely with agencies to work out where best to source required staff.” The APSC’s policy on Covid-19 and social distancing states that its “primary objective is to maintain the workforce in the current workplace as much as possible”. On Tuesday, however, Morrison said that it is “strongly encouraged” that Australians work from home “where you can do that”. On Wednesday Andrew Barr said he was concerned that “when the general guidance is work from home wherever possible, that should surely be possible for many people in the [APS]”. “Not everyone … but it would appear to me that there would be a lot of places in the public service … some functions that, surely, could be carried out by people working from home,” he said. Barr described the proposal “as a risk reduction measure, reducing the number of people working in some public service buildings”. On Wednesday Morrison created the National Covid-19 Coordination Commission, to be lead by the former Fortescue Metals Group chief executive and current Perth Airport chairman Nev Power. Power said the role of the commission is to “minimise and mitigate the impact of the coronavirus on our businesses, our communities and our people”. “Where there is a workforce that is no longer gainfully employed, we want to find a place where that workforce is needed,” he said.',\n",
       " 'Are we doing Covid-19 right? With the number of new reported cases of infection declining rapidly in China, but soaring in what is now a semi-locked-down Italy, it’s worth looking at the experiences and strategies of countries to see what can be learned. Governments are faced with stark choices, says Roy Anderson of Imperial College in London, one of the UK’s most eminent epidemiologists. There are essentially four options. You could try to minimise the number of fatalities or the economic impact. You could attempt to flatten the peaked curve in the incidence so that the cases are not all concentrated in a narrow time span, which could overwhelm healthcare resources (already severely stretched in the UK). Or you could try to delay the spread in order to buy time for development of a vaccine – although most experts don’t expect one to be available for at least a year.',\n",
       " 'In fact those damages, at only 3C, may be beyond quantification. Work from the University of Melbourne in 2019 has shown that on current global emissions patterns, a conservative estimate of costs for Australia would be $584.5bn by 2030, $762bn by 2050, and more than $5tn in cumulative damages from now until 2100. On the other hand, the cost of effective emissions reduction is estimated to be $35.5bn up to 2030, or 0.14% of cumulative GDP, a negligible impact. Such estimates focus on infrastructure damage, agricultural and labour productivity losses, human health impacts and ecosystem losses, but this is the tip of the iceberg. The costs of extreme weather events are not included, and more importantly, neither are the economic damages that Australia will incur as 3C of warming sweeps through Asia and the Pacific, devastating nations, disrupting major trading partners and supply chains, and likely turning the region – the “disaster alley” of global climate disruption – into one of social chaos and breakdown. Thirteen years ago, senior US national security analysts looked at the consequences of 3C of warming and concluded that it would “give rise to massive nonlinear societal events. In this scenario, nations around the world will be overwhelmed by the scale of change and pernicious challenges … Armed conflict between nations over resources … is likely and nuclear war is possible. The social consequences range from increased religious fervour to outright chaos”. Australia’s intelligence community, and the prime minister’s office, are well aware of this analysis, and have a duty of care to brief Morrison on its risk assessment. So when he refuses to admit the impacts of a 3C world, ignorance is not an excuse. Australian government climate denial has played a leading role in ensuring that a 3–4C future has become accepted in global policy making circles as “politically realistic”. The increasing concern from climate researchers that such a world is likely to be climatically unstable and incompatible with the survival of human civilisation as we know it is totally ignored. A survey of the scientific literature on the likely impacts of 3C paints a frightening picture. We described such an outcome in a recent report, The Third Degree, on the implications for Australia of existential climate-related security risks. In such a world, it is likely that the structures of societies will be severely tested, and some will crash. The poorest nations will suffer first and most deeply from climate change, but, after three decades of inaction, no nation will now escape. Water availability will decrease sharply in the lower latitude dry tropics and subtropics, and affect almost two billion people worldwide. Agriculture will become nonviable in the dry subtropics. The Sahara will jump the Mediterranean, as Europeans begin a long trek north. Water flows into the great rivers of Asia will be reduced by the loss of more than one half, and perhaps much more, of the Himalayan ice sheet.',\n",
       " 'Sir Keir Starmer, the shadow Brexit secretary, has won a resounding victory in the Labour leadership contest. He got 56.2% of the first-preference votes, beating Rebecca Long-Bailey (on 27.6%) and Lisa Nandy (on 16.2%). See 11.17am. Angela Rayner was elected deputy leader, with Rosena Allin-Khan as runner-up but a long way behind. See 11.28am. The result marks a decisive break with the Jeremy Corbyn era. Although Starmer was reluctant to criticise Corbyn to any significant extent during the leadership contest, and although he has committed to keeping the key elements of the 2019 Labour manifesto, his background and political outlook make him a very different sort of leader. Corbyn’s enemies in the party have warmly welcomed the result (see 12.45pm), while Corbyn’s supporters have urged Starmer not to abandon Corbyn’s radicalism. (See 11.45am.) You can read the results in full on the Labour website here. Starmer has agreed to meet Boris Johnson next week to discuss the government’s response to the coronavirus crisis. Johnson said in an open letter to opposition party leaders that all parties “have a duty to work together at this moment of national emergency”. (See 10.19am.) But, in his victory speech, Starmer said that working constructively with the government would not mean avoiding being critical when that was deserved. He said: Under my leadership we will engage constructively with the government, not opposition for opposition’s sake. Not scoring party political points or making impossible demands. But with the courage to support where that’s the right thing to do. But we will test the arguments that are put forward. We will shine a torch on critical issues and where we see mistakes or faltering government or things not happening as quickly as they should we’ll challenge that and call that out. Starmer said that there must be no return to “business as usual” after the coronavirus crisis is over. In his victory speech he said: When we do get through this we cannot go back to business as usual. This virus has exposed the fragility of our society. It’s lifted a curtain. Too many will have given too much. Some of us will have lost too much. We know in our hearts, things are going to have to change. We can see so clearly now who the key workers really are. When we get through this it’ll be because of our NHS staff, our care workers, our ambulance drivers, our emergency services, our cleaners, our porters. It will be because of the hard work and bravery of every key worker as they took on this virus and kept our country going. For too long they’ve been taken for granted and poorly paid. They were last and now they should be first. In their courage and their sacrifice and their bravery, we can see a better future. This crisis has brought out the resilience and human spirit in all of us. He issued a fresh apology for antisemitism in the Labour party and promised to “tear out this poison”. In his victory speech he said: Antisemitism has been a stain on our party. I have seen the grief that it’s brought to so many Jewish communities. On behalf of the Labour party, I am sorry. And I will tear out this poison by its roots and judge success by the return of Jewish members and those who felt that they could no longer support us. That’s all from me for today. Thanks for the comments.',\n",
       " 'In a brief phone interview the owner of Lexington’s only grocery store, Roy Sims, denied he had inflated prices for profit, arguing produce, including eggs, dairy and meat, had risen at wholesale. Sims declined to cite specific margins. “If people have a problem they should report it to the Attorney General of Mississippi,” he said. “We’re not talking to anyone else about price gouging.” Mississippi may still be at the early stage of the pandemic compared to other hotspots in the US – particularly neighbouring Louisiana. Thirty-five people have died of Covid-19 here with 1,455 cases statewide. But the state already has the highest rate of hospitalizations due to coronavirus, according to analysis by Mississippi Today. As the school bus food drop offs concluded their lunchtime run last Wednesday, Republican governor Tate Reeves announced a state-wide shelter in place order, after days of criticism his administration had been too slow to act. “I pray that all of our orders and preparations will be enough. We believe that this is the right tool at the right time to save lives,” Reeves said. But the virus has already amplified food insecurity across Mississippi, not just in Holmes county.',\n",
       " 'Will CGI put dog actors out of work? The latest screen adaptation of Jack London’s classic novel The Call of the Wild stars Harrison Ford, acting opposite a St Bernard collie cross named Buck – a role performed by a fully-grown man named Terry wearing a mo-cap suit. Will all canine performances now be outsourced to CGI, asks Oscar Schwartz. How doctors learned to wash their hands Religious handwashing rituals have been around for thousands of years, but it was only in the mid-1800s that a Hungarian medic in Vienna realised doctors ought to do the same. But the discovery did not go down well with his colleagues, as Amy Fleming explains. Why Canada’s cannabis black market is still thriving Recreational marijuana was legalised across Canada in 2018, yet cannabis firms have been watching their market value fall ever since. Vancouver’s cannabis-based Reddit feed may explain why, says William Turvill: many users still prefer the black market alternative. Is our destruction of nature responsible for Covid-19? Some researchers believe humanity’s destruction of biodiversity is creating the conditions for a series of new diseases such as Covid-19. John Vidal, investigated an Ebola outbreak in Gabon, says if we continue to invade the natural world, the coronavirus may be the tip of the iceberg. Opinion After repeated assurances that its halls of residence would not close, NYU has now informed students that they will be evicted after all, writes politics undergraduate Noah Hopkins. In the middle of a pandemic, why is the university exacerbating anxieties? This crisis will worst affect students who don’t have any home to return to, are not willing to risk their immigration status in the US to return home, or are unable to return home for fear that they might infect high-risk family members. Sign up The US morning briefing is delivered to thousands of inboxes every weekday. If you’re not already signed up, subscribe now.',\n",
       " 'Our brains are hard-wired for compassion, and survival of the kindest must outweigh survival of the fittest now. Now is a time where we all must “tend and befriend”. Here are some simple things you can do to the global wave of kindness. . Drop a note in your neighbours’ letter boxes inviting them to be part of a Street WhatsApp group so you can check in on each other and let people know if you’re doing a supermarket run or see if someone needs a friend to talk to. . Support local and online business: the coronavirus is having huge economic fallouts. Support your local restaurants through take-away orders, get fresh fruit from your grocer, have flowers delivered to a friend who is struggling, put your family holiday snaps into an album with an online store, spend money on books, kits, crafts or activities that you can read/do with your new spare time during social distancing. . Share positive stories on social media: research shows that when you share a story that makes someone happy this positive emotion spreads on to others in the social network. . Give blood. Right now the Red Cross has a severe blood shortage and donors are needed urgently. The Red Cross assures us that giving blood is safe and does not put you at risk of contracting the coronavirus. . Sit down and write a thank you letter to someone who has made a positive difference in your life. Send them the letter or better yet call them and read the letter to them. . Wash your hands and practise social distancing. This is still the most effective thing you can do and is a way of showing kindness by not risking the spread of infection to others. Kindness can come in the intentional actions above and it can come through your small daily gestures. When getting pulled into several battles with my two teenage kids today over e-learning and the fact that school closure does not mean brain closure, I had to remind myself “sometimes it’s better to be kind than to be right”, take a deep breath, disengage and find a more constructive way of talking to them. It took effort, but then all the good things do. The pace, intensity and magnitude of the coronavirus has the whole world reeling. By committing yourself to be kinder during the crisis you are helping others, helping yourself and helping the world. Now more than ever, we must pause, be patient and choose kindness. Lea Waters AM, PhD, is a psychology professor at the University of Melbourne and executive board member of the International Positive Psychology Association',\n",
       " '“On their way home, the Samoans had transited through Singapore, one of the six countries listed as a high risk from the coronavirus in the government’s latest updated travel advisory issued over the weekend. As a result, they were denied entry and returned to Fiji last night,” the Samoan government said in a statement on the weekend. Jorge Contesse, the director of the Center for Transnational Law at Rutgers Law School in the US, said the incident was potentially a violation of international law. “It is a violation of human rights international law for a country to deny the right of return of their own national. There is a human right to return to your home country and countries cannot deprive you of this right in a way that is arbitrary. That is a principle enshrined in UN human rights, and is a basic international human right as observed through human instruments and the International Covenant of Civil and Political Rights (ICCPR),” said Contesse. Samoa is a party to the ICCPR and acceded in 2008. “It is a fundamental right. On the understanding that your country is the place you feel safe in, therefore it is unlawful for your own country to deny re-entry,” said Contesse. In an editorial on Wednesday, the Fiji Sun newspaper condemned the decision, saying it was “morally wrong for Samoa to refuse entry to eight of its citizens”, calling it “unacceptable and tantamount to dereliction of duty by a sovereign state”. The Samoan government has introduced stringent quarantine measures for the coronavirus – now called Covid-19 – as it is dealing with intense criticism of its handling the measles epidemic that killed more than 80 people in 2019. The government has also been criticised for its initial response to the coronavirus, with the Samoan government initially saying Samoan students would not be evacuated from Wuhan, though four were later evacuated on the Air New Zealand flight and are being quarantined in New Zealand. A parent of a Samoan student in Wuhan wrote on social media: “We must be the only country turning away our own citizens to be quarantined elsewhere. What is the difference of being quarantined in Fiji and not Faleolo hospital as been advertised? This is most bizarre.” According to Contesse the violation is determined by the arbitrary nature of the decision to deny reentry.']"
      ]
     },
     "execution_count": 321,
     "metadata": {},
     "output_type": "execute_result"
    }
   ],
   "source": [
    "r_paras"
   ]
  },
  {
   "cell_type": "markdown",
   "metadata": {},
   "source": [
    "### TFIDF similarity"
   ]
  },
  {
   "cell_type": "code",
   "execution_count": 254,
   "metadata": {},
   "outputs": [],
   "source": [
    "from sklearn.feature_extraction.text import TfidfVectorizer, CountVectorizer\n",
    "from sklearn.cluster import DBSCAN, KMeans\n",
    "from sklearn.neighbors import DistanceMetric\n",
    "from sklearn import metrics\n",
    "import numpy as np"
   ]
  },
  {
   "cell_type": "code",
   "execution_count": 255,
   "metadata": {},
   "outputs": [],
   "source": [
    "rs = retrieved_sents[:100]"
   ]
  },
  {
   "cell_type": "code",
   "execution_count": 339,
   "metadata": {},
   "outputs": [],
   "source": [
    "tfidf_vectorizer = TfidfVectorizer(binary=True, sublinear_tf=True, norm='l2', ngram_range=(1,2))"
   ]
  },
  {
   "cell_type": "code",
   "execution_count": 334,
   "metadata": {},
   "outputs": [
    {
     "name": "stderr",
     "output_type": "stream",
     "text": [
      "100%|██████████| 3171/3171 [00:23<00:00, 136.68it/s]\n"
     ]
    }
   ],
   "source": [
    "para_corpus, pid2aid = flat_corpus(analysis, para_level=True, remove_punct=True)"
   ]
  },
  {
   "cell_type": "code",
   "execution_count": 340,
   "metadata": {},
   "outputs": [
    {
     "data": {
      "text/plain": [
       "TfidfVectorizer(analyzer='word', binary=True, decode_error='strict',\n",
       "                dtype=<class 'numpy.float64'>, encoding='utf-8',\n",
       "                input='content', lowercase=True, max_df=1.0, max_features=None,\n",
       "                min_df=1, ngram_range=(1, 2), norm='l2', preprocessor=None,\n",
       "                smooth_idf=True, stop_words=None, strip_accents=None,\n",
       "                sublinear_tf=True, token_pattern='(?u)\\\\b\\\\w\\\\w+\\\\b',\n",
       "                tokenizer=None, use_idf=True, vocabulary=None)"
      ]
     },
     "execution_count": 340,
     "metadata": {},
     "output_type": "execute_result"
    }
   ],
   "source": [
    "tfidf_vectorizer.fit([' '.join(line) for line in para_corpus])"
   ]
  },
  {
   "cell_type": "code",
   "execution_count": 341,
   "metadata": {},
   "outputs": [],
   "source": [
    "trans_rs = tfidf_vectorizer.transform([query]+[' '.join(line[0][0]) for line in retrieved_sents])\n",
    "trans_para = tfidf_vectorizer.transform([query]+[' '.join(process_sent(para)) for para in r_paras])"
   ]
  },
  {
   "cell_type": "code",
   "execution_count": 342,
   "metadata": {},
   "outputs": [
    {
     "data": {
      "text/plain": [
       "array(['the directive states its purpose is to facilitate the most efficient and effective deployment of aps employees and expertise to meet the exceptional challenge posed by covid-19 to australian society a task which has become the principal focus of aps endeavour',\n",
       "       'are we doing covid-19 right',\n",
       "       'the increasing concern from climate researchers that such a world is likely to be climatically unstable and incompatible with the survival of human civilisation as we know it is totally ignored',\n",
       "       'this virus has exposed the fragility of our society',\n",
       "       'is our destruction of nature responsible for covid-19'],\n",
       "      dtype='<U259')"
      ]
     },
     "execution_count": 342,
     "metadata": {},
     "output_type": "execute_result"
    }
   ],
   "source": [
    "np.array([query]+[' '.join(line[0][0]) for line in retrieved_sents])[[3,4,5,6,8]]"
   ]
  },
  {
   "cell_type": "code",
   "execution_count": 343,
   "metadata": {
    "scrolled": true
   },
   "outputs": [
    {
     "name": "stdout",
     "output_type": "stream",
     "text": [
      "1 basic compassion empathy and kindness for our fellow human beings right now this is what we can and should be spreading\n",
      "2 but vulnerable people should not be exposed to a virus right now in the service of a hypothetical future\n",
      "3 the directive states its purpose is to facilitate the most efficient and effective deployment of aps employees and expertise to meet the exceptional challenge posed by covid-19 to australian society a task which has become the principal focus of aps endeavour\n",
      "4 are we doing covid-19 right\n",
      "5 the increasing concern from climate researchers that such a world is likely to be climatically unstable and incompatible with the survival of human civilisation as we know it is totally ignored\n",
      "6 this virus has exposed the fragility of our society\n",
      "7 we believe that this is the right tool at the right time to save lives reeves said\n",
      "8 is our destruction of nature responsible for covid-19\n",
      "9 right now the red cross has a severe blood shortage and donors are needed urgently\n",
      "10 that is a principle enshrined in un human rights and is a basic international human right as observed through human instruments and the international covenant of civil and political rights iccpr said contesse\n"
     ]
    }
   ],
   "source": [
    "for i,t in enumerate([' '.join(line[0][0]) for line in retrieved_sents]):\n",
    "    print(i+1, t)"
   ]
  },
  {
   "cell_type": "code",
   "execution_count": 344,
   "metadata": {},
   "outputs": [
    {
     "data": {
      "text/plain": [
       "array([[1.3651187 , 1.39079327, 1.38966265, 1.29959675, 1.3908998 ,\n",
       "        1.41421356, 1.38943851, 1.35148233, 1.39251039, 1.2937802 ]])"
      ]
     },
     "execution_count": 344,
     "metadata": {},
     "output_type": "execute_result"
    }
   ],
   "source": [
    "dense = trans_rs.todense()\n",
    "dist = DistanceMetric.get_metric('euclidean')\n",
    "dist.pairwise(dense[0], dense[1:])"
   ]
  },
  {
   "cell_type": "code",
   "execution_count": 345,
   "metadata": {},
   "outputs": [
    {
     "data": {
      "text/plain": [
       "array([[0.06822547, 0.03284704, 0.03441886, 0.15552414, 0.03269888,\n",
       "        0.        , 0.03473031, 0.08674775, 0.03045741, 0.1630664 ]])"
      ]
     },
     "execution_count": 345,
     "metadata": {},
     "output_type": "execute_result"
    }
   ],
   "source": [
    "metrics.pairwise.cosine_similarity(dense[0], dense[1:])"
   ]
  },
  {
   "cell_type": "code",
   "execution_count": 346,
   "metadata": {},
   "outputs": [
    {
     "data": {
      "text/plain": [
       "array([[1.39167124, 1.41023711, 1.40642906, 1.392981  , 1.40863472,\n",
       "        1.40490986, 1.39680641, 1.40557799, 1.41015161, 1.36621896]])"
      ]
     },
     "execution_count": 346,
     "metadata": {},
     "output_type": "execute_result"
    }
   ],
   "source": [
    "dense = trans_para.todense()\n",
    "dist = DistanceMetric.get_metric('euclidean')\n",
    "dist.pairwise(dense[0], dense[1:])"
   ]
  },
  {
   "cell_type": "code",
   "execution_count": 347,
   "metadata": {},
   "outputs": [],
   "source": [
    "sims = metrics.pairwise.cosine_similarity(dense[0], dense[1:])"
   ]
  },
  {
   "cell_type": "code",
   "execution_count": 348,
   "metadata": {},
   "outputs": [
    {
     "data": {
      "text/plain": [
       "array([[0.03162558, 0.00561565, 0.01097865, 0.02980197, 0.00787412,\n",
       "        0.01311414, 0.02446593, 0.01217526, 0.00573622, 0.06672287]])"
      ]
     },
     "execution_count": 348,
     "metadata": {},
     "output_type": "execute_result"
    }
   ],
   "source": [
    "sims"
   ]
  },
  {
   "cell_type": "code",
   "execution_count": 354,
   "metadata": {},
   "outputs": [
    {
     "name": "stdout",
     "output_type": "stream",
     "text": [
      "1 that is a principle enshrined in un human rights and is a basic international human right as observed through human instruments and the international covenant of civil and political rights iccpr said contesse\n",
      "2 basic compassion empathy and kindness for our fellow human beings right now this is what we can and should be spreading\n",
      "3 are we doing covid-19 right\n",
      "4 we believe that this is the right tool at the right time to save lives reeves said\n",
      "5 this virus has exposed the fragility of our society\n",
      "6 is our destruction of nature responsible for covid-19\n",
      "7 the directive states its purpose is to facilitate the most efficient and effective deployment of aps employees and expertise to meet the exceptional challenge posed by covid-19 to australian society a task which has become the principal focus of aps endeavour\n",
      "8 the increasing concern from climate researchers that such a world is likely to be climatically unstable and incompatible with the survival of human civilisation as we know it is totally ignored\n",
      "9 right now the red cross has a severe blood shortage and donors are needed urgently\n",
      "10 but vulnerable people should not be exposed to a virus right now in the service of a hypothetical future\n"
     ]
    }
   ],
   "source": [
    "sorted_rank = np.argsort(-sims[0])\n",
    "for i, sent in enumerate(np.array(retrieved_sents)[sorted_rank]):\n",
    "    print(\"{} {}\".format(i+1, ' '.join(sent[0][0])))"
   ]
  },
  {
   "cell_type": "code",
   "execution_count": 149,
   "metadata": {},
   "outputs": [],
   "source": [
    "count_vectorizer = CountVectorizer(binary=True)"
   ]
  },
  {
   "cell_type": "code",
   "execution_count": 150,
   "metadata": {},
   "outputs": [
    {
     "data": {
      "text/plain": [
       "CountVectorizer(analyzer='word', binary=True, decode_error='strict',\n",
       "                dtype=<class 'numpy.int64'>, encoding='utf-8', input='content',\n",
       "                lowercase=True, max_df=1.0, max_features=None, min_df=1,\n",
       "                ngram_range=(1, 1), preprocessor=None, stop_words=None,\n",
       "                strip_accents=None, token_pattern='(?u)\\\\b\\\\w\\\\w+\\\\b',\n",
       "                tokenizer=None, vocabulary=None)"
      ]
     },
     "execution_count": 150,
     "metadata": {},
     "output_type": "execute_result"
    }
   ],
   "source": [
    "count_vectorizer.fit([' '.join(line) for line in line_corpus])"
   ]
  },
  {
   "cell_type": "code",
   "execution_count": 151,
   "metadata": {},
   "outputs": [],
   "source": [
    "count_rs = count_vectorizer.transform([query]+[' '.join(line[0][0]) for line in retrieved_sents])"
   ]
  },
  {
   "cell_type": "code",
   "execution_count": 152,
   "metadata": {},
   "outputs": [
    {
     "data": {
      "text/plain": [
       "array([[2.23606798, 3.46410162, 3.74165739, 3.31662479, 4.89897949,\n",
       "        2.23606798, 4.24264069, 4.24264069, 5.09901951, 5.74456265]])"
      ]
     },
     "execution_count": 152,
     "metadata": {},
     "output_type": "execute_result"
    }
   ],
   "source": [
    "dense = count_rs.todense()\n",
    "dist = DistanceMetric.get_metric('euclidean')\n",
    "dist.pairwise(dense[0], dense[1:])"
   ]
  },
  {
   "cell_type": "code",
   "execution_count": 153,
   "metadata": {},
   "outputs": [
    {
     "data": {
      "text/plain": [
       "'economic impacts of covid-19'"
      ]
     },
     "execution_count": 153,
     "metadata": {},
     "output_type": "execute_result"
    }
   ],
   "source": [
    "query"
   ]
  },
  {
   "cell_type": "code",
   "execution_count": 154,
   "metadata": {},
   "outputs": [
    {
     "data": {
      "text/plain": [
       "array([[0.31622777, 0.1490712 , 0.13483997, 0.28284271, 0.18650096,\n",
       "        0.31622777, 0.30779351, 0.30779351, 0.33218192, 0.15811388]])"
      ]
     },
     "execution_count": 154,
     "metadata": {},
     "output_type": "execute_result"
    }
   ],
   "source": [
    "metrics.pairwise.cosine_similarity(dense[0], dense[1:])"
   ]
  },
  {
   "cell_type": "code",
   "execution_count": null,
   "metadata": {},
   "outputs": [],
   "source": []
  },
  {
   "cell_type": "code",
   "execution_count": null,
   "metadata": {},
   "outputs": [],
   "source": []
  }
 ],
 "metadata": {
  "kernelspec": {
   "display_name": "Python [conda env:allen] *",
   "language": "python",
   "name": "conda-env-allen-py"
  },
  "language_info": {
   "codemirror_mode": {
    "name": "ipython",
    "version": 3
   },
   "file_extension": ".py",
   "mimetype": "text/x-python",
   "name": "python",
   "nbconvert_exporter": "python",
   "pygments_lexer": "ipython3",
   "version": "3.7.7"
  }
 },
 "nbformat": 4,
 "nbformat_minor": 2
}
