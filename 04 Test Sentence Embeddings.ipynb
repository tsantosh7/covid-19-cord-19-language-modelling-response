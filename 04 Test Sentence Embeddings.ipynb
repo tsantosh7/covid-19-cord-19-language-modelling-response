{
 "cells": [
  {
   "cell_type": "code",
   "execution_count": 1,
   "metadata": {},
   "outputs": [],
   "source": [
    "import fse # fast sentence embeddings\n",
    "\n",
    "from gensim.models import KeyedVectors\n",
    "\n",
    "path_w2v = '/home/santosh/Work/models/word2vec/CORD-19/'\n",
    " \n",
    "\n",
    "wv_model = KeyedVectors.load_word2vec_format(path_w2v+'CORD-10-w2v_200d_5w_10i_3mc.bin', binary=True)\n"
   ]
  },
  {
   "cell_type": "code",
   "execution_count": 2,
   "metadata": {},
   "outputs": [],
   "source": [
    "sif_sv_model = KeyedVectors.load(path_w2v+'CORD-19-s2v_sif.bin')"
   ]
  },
  {
   "cell_type": "code",
   "execution_count": 3,
   "metadata": {},
   "outputs": [],
   "source": [
    "import pickle\n",
    "\n",
    "def load(filename):\n",
    "    file = open(path_w2v+filename+'.bin','rb')\n",
    "    data = pickle.load(file)\n",
    "    file.close()\n",
    "    return data"
   ]
  },
  {
   "cell_type": "code",
   "execution_count": 4,
   "metadata": {},
   "outputs": [],
   "source": [
    "sentences_index = load('sentences_index')"
   ]
  },
  {
   "cell_type": "code",
   "execution_count": 7,
   "metadata": {},
   "outputs": [],
   "source": [
    "from fse.models import uSIF"
   ]
  },
  {
   "cell_type": "code",
   "execution_count": 8,
   "metadata": {},
   "outputs": [
    {
     "data": {
      "text/plain": [
       "[(['where', ',', 'T', '1', 'is', 'the', 'mean', 'incubation', '.'],\n",
       "  1348650,\n",
       "  0.9460828304290771),\n",
       " (['*', 'Temperature', 'of', 'incubation', '.'], 1281523, 0.9154615998268127),\n",
       " (['per', 'incubation', ')', '.'], 1998328, 0.8970457315444946),\n",
       " (['R0',\n",
       "   'set',\n",
       "   'to',\n",
       "   '3',\n",
       "   'and',\n",
       "   'mean',\n",
       "   'incubation',\n",
       "   'time',\n",
       "   'to',\n",
       "   'be',\n",
       "   '7.5days',\n",
       "   '.'],\n",
       "  717091,\n",
       "  0.888635516166687),\n",
       " (['Saracatinib',\n",
       "   'was',\n",
       "   'treated',\n",
       "   'during',\n",
       "   'the',\n",
       "   '4',\n",
       "   '•',\n",
       "   'C',\n",
       "   'incubation',\n",
       "   'only',\n",
       "   'or',\n",
       "   'added',\n",
       "   'at',\n",
       "   'specific',\n",
       "   'time',\n",
       "   'points',\n",
       "   'during',\n",
       "   'the',\n",
       "   '37',\n",
       "   '•',\n",
       "   'C',\n",
       "   'incubation',\n",
       "   '.'],\n",
       "  247700,\n",
       "  0.8793104887008667),\n",
       " (['Plaques',\n",
       "   'were',\n",
       "   'enumerated',\n",
       "   'after',\n",
       "   'incubation',\n",
       "   'at',\n",
       "   '35uC',\n",
       "   'and',\n",
       "   '5',\n",
       "   '%',\n",
       "   'CO',\n",
       "   '2',\n",
       "   'for',\n",
       "   '2',\n",
       "   'days',\n",
       "   '.'],\n",
       "  2105744,\n",
       "  0.8350512981414795),\n",
       " (['Inoculum',\n",
       "   'was',\n",
       "   'removed',\n",
       "   'after',\n",
       "   'one',\n",
       "   'hour',\n",
       "   'of',\n",
       "   'incubation',\n",
       "   '.'],\n",
       "  249014,\n",
       "  0.8261162042617798),\n",
       " (['In', 'C', ',', 'the', 'incubation', 'period', 'was', '5', 'days', '.'],\n",
       "  2281248,\n",
       "  0.8241194486618042),\n",
       " (['In',\n",
       "   '(',\n",
       "   'C',\n",
       "   ')',\n",
       "   ',',\n",
       "   'the',\n",
       "   'incubation',\n",
       "   'period',\n",
       "   'was',\n",
       "   '5',\n",
       "   'days',\n",
       "   '.'],\n",
       "  1028724,\n",
       "  0.8241194486618042),\n",
       " (['In',\n",
       "   '(',\n",
       "   'C',\n",
       "   ')',\n",
       "   ',',\n",
       "   'the',\n",
       "   'incubation',\n",
       "   'period',\n",
       "   'was',\n",
       "   '5',\n",
       "   'days',\n",
       "   '.'],\n",
       "  606694,\n",
       "  0.8241194486618042)]"
      ]
     },
     "execution_count": 8,
     "metadata": {},
     "output_type": "execute_result"
    }
   ],
   "source": [
    "sif_sv_model.similar_by_word(\"incubation\", wv=wv_model, indexable=sentences_index.items, topn=10)"
   ]
  },
  {
   "cell_type": "code",
   "execution_count": 10,
   "metadata": {},
   "outputs": [],
   "source": [
    "from fse import IndexedList"
   ]
  },
  {
   "cell_type": "code",
   "execution_count": 11,
   "metadata": {},
   "outputs": [
    {
     "ename": "AttributeError",
     "evalue": "'SentenceVectors' object has no attribute 'infer'",
     "output_type": "error",
     "traceback": [
      "\u001b[0;31m---------------------------------------------------------------------------\u001b[0m",
      "\u001b[0;31mAttributeError\u001b[0m                            Traceback (most recent call last)",
      "\u001b[0;32m<ipython-input-11-3b0f85b35ce1>\u001b[0m in \u001b[0;36m<module>\u001b[0;34m\u001b[0m\n\u001b[0;32m----> 1\u001b[0;31m \u001b[0msif_sv_model\u001b[0m\u001b[0;34m.\u001b[0m\u001b[0msimilar_by_sentence\u001b[0m\u001b[0;34m(\u001b[0m\u001b[0;34m\"incubation days coronavirus\"\u001b[0m\u001b[0;34m.\u001b[0m\u001b[0msplit\u001b[0m\u001b[0;34m(\u001b[0m\u001b[0;34m)\u001b[0m\u001b[0;34m,\u001b[0m \u001b[0mmodel\u001b[0m\u001b[0;34m=\u001b[0m\u001b[0msif_sv_model\u001b[0m\u001b[0;34m,\u001b[0m \u001b[0mindexable\u001b[0m\u001b[0;34m=\u001b[0m\u001b[0msentences_index\u001b[0m\u001b[0;34m.\u001b[0m\u001b[0mitems\u001b[0m\u001b[0;34m)\u001b[0m\u001b[0;34m\u001b[0m\u001b[0;34m\u001b[0m\u001b[0m\n\u001b[0m",
      "\u001b[0;32m~/anaconda3/envs/scispacy/lib/python3.6/site-packages/fse/models/sentencevectors.py\u001b[0m in \u001b[0;36msimilar_by_sentence\u001b[0;34m(self, sentence, model, indexable, topn, restrict_size)\u001b[0m\n\u001b[1;32m    345\u001b[0m \u001b[0;34m\u001b[0m\u001b[0m\n\u001b[1;32m    346\u001b[0m         \"\"\"\n\u001b[0;32m--> 347\u001b[0;31m         \u001b[0mvector\u001b[0m \u001b[0;34m=\u001b[0m \u001b[0mmodel\u001b[0m\u001b[0;34m.\u001b[0m\u001b[0minfer\u001b[0m\u001b[0;34m(\u001b[0m\u001b[0;34m[\u001b[0m\u001b[0;34m(\u001b[0m\u001b[0msentence\u001b[0m\u001b[0;34m,\u001b[0m \u001b[0;36m0\u001b[0m\u001b[0;34m)\u001b[0m\u001b[0;34m]\u001b[0m\u001b[0;34m)\u001b[0m\u001b[0;34m\u001b[0m\u001b[0;34m\u001b[0m\u001b[0m\n\u001b[0m\u001b[1;32m    348\u001b[0m         \u001b[0;32mreturn\u001b[0m \u001b[0mself\u001b[0m\u001b[0;34m.\u001b[0m\u001b[0mmost_similar\u001b[0m\u001b[0;34m(\u001b[0m\u001b[0mpositive\u001b[0m\u001b[0;34m=\u001b[0m\u001b[0mvector\u001b[0m\u001b[0;34m,\u001b[0m \u001b[0mindexable\u001b[0m\u001b[0;34m=\u001b[0m\u001b[0mindexable\u001b[0m\u001b[0;34m,\u001b[0m \u001b[0mtopn\u001b[0m\u001b[0;34m=\u001b[0m\u001b[0mtopn\u001b[0m\u001b[0;34m,\u001b[0m \u001b[0mrestrict_size\u001b[0m\u001b[0;34m=\u001b[0m\u001b[0mrestrict_size\u001b[0m\u001b[0;34m)\u001b[0m\u001b[0;34m\u001b[0m\u001b[0;34m\u001b[0m\u001b[0m\n\u001b[1;32m    349\u001b[0m \u001b[0;34m\u001b[0m\u001b[0m\n",
      "\u001b[0;31mAttributeError\u001b[0m: 'SentenceVectors' object has no attribute 'infer'"
     ]
    }
   ],
   "source": [
    "sif_sv_model.similar_by_sentence(\"incubation days coronavirus\".split(), model=sif_sv_model, indexable=sentences_index.items)"
   ]
  },
  {
   "cell_type": "code",
   "execution_count": 11,
   "metadata": {},
   "outputs": [
    {
     "data": {
      "text/plain": [
       "(['Background',\n",
       "  ':',\n",
       "  'In',\n",
       "  'a',\n",
       "  'new',\n",
       "  'influenza',\n",
       "  'pandemic',\n",
       "  ',',\n",
       "  'travel',\n",
       "  'data',\n",
       "  'such',\n",
       "  'as',\n",
       "  'arrival',\n",
       "  'times',\n",
       "  'of',\n",
       "  'cases',\n",
       "  'seeded',\n",
       "  'by',\n",
       "  'the',\n",
       "  'originating',\n",
       "  'country',\n",
       "  'can',\n",
       "  'be',\n",
       "  'regarded',\n",
       "  'as',\n",
       "  'a',\n",
       "  'combination',\n",
       "  'of',\n",
       "  'the',\n",
       "  'epidemic',\n",
       "  'size',\n",
       "  'and',\n",
       "  'the',\n",
       "  'mobility',\n",
       "  'networks',\n",
       "  'of',\n",
       "  'infections',\n",
       "  'connecting',\n",
       "  'the',\n",
       "  'originating',\n",
       "  'country',\n",
       "  'with',\n",
       "  'other',\n",
       "  'regions',\n",
       "  '.'],\n",
       " 0)"
      ]
     },
     "execution_count": 11,
     "metadata": {},
     "output_type": "execute_result"
    }
   ],
   "source": [
    "sif_sv_model.similar_by_sentence"
   ]
  },
  {
   "cell_type": "code",
   "execution_count": null,
   "metadata": {},
   "outputs": [],
   "source": []
  }
 ],
 "metadata": {
  "kernelspec": {
   "display_name": "Python [conda env:scispacy]",
   "language": "python",
   "name": "conda-env-scispacy-py"
  },
  "language_info": {
   "codemirror_mode": {
    "name": "ipython",
    "version": 3
   },
   "file_extension": ".py",
   "mimetype": "text/x-python",
   "name": "python",
   "nbconvert_exporter": "python",
   "pygments_lexer": "ipython3",
   "version": "3.6.9"
  }
 },
 "nbformat": 4,
 "nbformat_minor": 4
}
