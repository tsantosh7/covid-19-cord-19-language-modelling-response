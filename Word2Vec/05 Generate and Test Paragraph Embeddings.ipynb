{
 "cells": [
  {
   "cell_type": "code",
   "execution_count": 16,
   "metadata": {},
   "outputs": [
    {
     "name": "stderr",
     "output_type": "stream",
     "text": [
      "2020-04-04 19:28:34,422 : INFO : loading projection weights from /home/santosh/Work/models/word2vec/CORD-19/CORD-10-w2v_200d_5w_10i_3mc.bin\n",
      "2020-04-04 19:28:39,524 : INFO : loaded (241336, 200) matrix from /home/santosh/Work/models/word2vec/CORD-19/CORD-10-w2v_200d_5w_10i_3mc.bin\n"
     ]
    }
   ],
   "source": [
    "from gensim.summarization import summarize\n",
    "import fse # fast sentence embeddings\n",
    "\n",
    "from gensim.models import KeyedVectors\n",
    "\n",
    "path_w2v = '/home/santosh/Work/models/word2vec/CORD-19/CORD-10-w2v_200d_5w_10i_3mc.bin'\n",
    "\n",
    "covid_trained_model = KeyedVectors.load_word2vec_format(path_w2v, binary=True)"
   ]
  },
  {
   "cell_type": "code",
   "execution_count": 1,
   "metadata": {},
   "outputs": [],
   "source": [
    "# Here I am using word embeddings from the CORD-19\n",
    "import glob\n",
    "import nltk\n",
    "import logging\n",
    "import os\n",
    "from tqdm import tqdm\n",
    "\n",
    "# start the log\n",
    "logging.basicConfig(format='%(asctime)s : %(levelname)s : %(message)s',level=logging.INFO)\n",
    "\n",
    "# get the current working directory and file\n",
    "result_dir_path = '/home/santosh/Work/Datasets/CORD-19-paragraphs/'\n",
    "\n",
    "root_path = '/home/santosh/Work/Datasets/CORD-19-research-challenge/'\n",
    "paths = ['biorxiv_medrxiv/biorxiv_medrxiv/',\n",
    "        'comm_use_subset/comm_use_subset/',\n",
    "        'noncomm_use_subset/noncomm_use_subset/']\n",
    "\n",
    "\n"
   ]
  },
  {
   "cell_type": "code",
   "execution_count": 2,
   "metadata": {},
   "outputs": [],
   "source": [
    "# get all the jsosn\n",
    "import json\n",
    "\n",
    "all_jsons =[]\n",
    "for json_path in paths:\n",
    "     all_jsons.extend(sorted(glob.glob(root_path+json_path + '*.json*')))\n"
   ]
  },
  {
   "cell_type": "code",
   "execution_count": 3,
   "metadata": {},
   "outputs": [
    {
     "data": {
      "text/plain": [
       "'/home/santosh/Work/Datasets/CORD-19-research-challenge/biorxiv_medrxiv/biorxiv_medrxiv/0015023cc06b5362d332b3baf348d11567ca2fbb.json'"
      ]
     },
     "execution_count": 3,
     "metadata": {},
     "output_type": "execute_result"
    }
   ],
   "source": [
    "all_jsons[0]"
   ]
  },
  {
   "cell_type": "code",
   "execution_count": 4,
   "metadata": {},
   "outputs": [
    {
     "data": {
      "text/html": [
       "<div>\n",
       "<style scoped>\n",
       "    .dataframe tbody tr th:only-of-type {\n",
       "        vertical-align: middle;\n",
       "    }\n",
       "\n",
       "    .dataframe tbody tr th {\n",
       "        vertical-align: top;\n",
       "    }\n",
       "\n",
       "    .dataframe thead th {\n",
       "        text-align: right;\n",
       "    }\n",
       "</style>\n",
       "<table border=\"1\" class=\"dataframe\">\n",
       "  <thead>\n",
       "    <tr style=\"text-align: right;\">\n",
       "      <th></th>\n",
       "      <th>sha</th>\n",
       "      <th>source_x</th>\n",
       "      <th>title</th>\n",
       "      <th>doi</th>\n",
       "      <th>pmcid</th>\n",
       "      <th>pubmed_id</th>\n",
       "      <th>license</th>\n",
       "      <th>abstract</th>\n",
       "      <th>publish_time</th>\n",
       "      <th>authors</th>\n",
       "      <th>journal</th>\n",
       "      <th>Microsoft Academic Paper ID</th>\n",
       "      <th>WHO #Covidence</th>\n",
       "      <th>has_full_text</th>\n",
       "      <th>full_text_file</th>\n",
       "    </tr>\n",
       "  </thead>\n",
       "  <tbody>\n",
       "    <tr>\n",
       "      <th>0</th>\n",
       "      <td>NaN</td>\n",
       "      <td>Elsevier</td>\n",
       "      <td>Intrauterine virus infections and congenital h...</td>\n",
       "      <td>10.1016/0002-8703(72)90077-4</td>\n",
       "      <td>NaN</td>\n",
       "      <td>4361535.0</td>\n",
       "      <td>els-covid</td>\n",
       "      <td>Abstract The etiologic basis for the vast majo...</td>\n",
       "      <td>1972-12-31</td>\n",
       "      <td>Overall, James C.</td>\n",
       "      <td>American Heart Journal</td>\n",
       "      <td>NaN</td>\n",
       "      <td>NaN</td>\n",
       "      <td>False</td>\n",
       "      <td>custom_license</td>\n",
       "    </tr>\n",
       "  </tbody>\n",
       "</table>\n",
       "</div>"
      ],
      "text/plain": [
       "   sha  source_x                                              title  \\\n",
       "0  NaN  Elsevier  Intrauterine virus infections and congenital h...   \n",
       "\n",
       "                            doi pmcid  pubmed_id    license  \\\n",
       "0  10.1016/0002-8703(72)90077-4   NaN  4361535.0  els-covid   \n",
       "\n",
       "                                            abstract publish_time  \\\n",
       "0  Abstract The etiologic basis for the vast majo...   1972-12-31   \n",
       "\n",
       "             authors                 journal  Microsoft Academic Paper ID  \\\n",
       "0  Overall, James C.  American Heart Journal                          NaN   \n",
       "\n",
       "  WHO #Covidence  has_full_text  full_text_file  \n",
       "0            NaN          False  custom_license  "
      ]
     },
     "execution_count": 4,
     "metadata": {},
     "output_type": "execute_result"
    }
   ],
   "source": [
    "import pandas as pd\n",
    "\n",
    "\n",
    "meta_df = pd.read_csv('/home/santosh/Work/Datasets/CORD-19-research-challenge/metadata.csv')\n",
    "meta_df.head(1)"
   ]
  },
  {
   "cell_type": "code",
   "execution_count": 5,
   "metadata": {},
   "outputs": [],
   "source": [
    "selected_columns = ['sha', 'title', 'doi', 'pmcid', 'pubmed_id', 'publish_time', 'journal', 'authors'] # sha is paper id here\n",
    "\n",
    "meta_ref_df = meta_df[selected_columns]\n",
    "meta_ref_df = meta_ref_df[meta_ref_df['sha'].notna()]"
   ]
  },
  {
   "cell_type": "code",
   "execution_count": 6,
   "metadata": {},
   "outputs": [
    {
     "data": {
      "text/html": [
       "<div>\n",
       "<style scoped>\n",
       "    .dataframe tbody tr th:only-of-type {\n",
       "        vertical-align: middle;\n",
       "    }\n",
       "\n",
       "    .dataframe tbody tr th {\n",
       "        vertical-align: top;\n",
       "    }\n",
       "\n",
       "    .dataframe thead th {\n",
       "        text-align: right;\n",
       "    }\n",
       "</style>\n",
       "<table border=\"1\" class=\"dataframe\">\n",
       "  <thead>\n",
       "    <tr style=\"text-align: right;\">\n",
       "      <th></th>\n",
       "      <th>sha</th>\n",
       "      <th>title</th>\n",
       "      <th>doi</th>\n",
       "      <th>pmcid</th>\n",
       "      <th>pubmed_id</th>\n",
       "      <th>publish_time</th>\n",
       "      <th>journal</th>\n",
       "      <th>authors</th>\n",
       "    </tr>\n",
       "  </thead>\n",
       "  <tbody>\n",
       "    <tr>\n",
       "      <th>3</th>\n",
       "      <td>aecbc613ebdab36753235197ffb4f35734b5ca63</td>\n",
       "      <td>Clinical and immunologic studies in identical ...</td>\n",
       "      <td>10.1016/0002-9343(73)90176-9</td>\n",
       "      <td>NaN</td>\n",
       "      <td>4579077.0</td>\n",
       "      <td>1973-08-31</td>\n",
       "      <td>The American Journal of Medicine</td>\n",
       "      <td>Brunner, Carolyn M.; Horwitz, David A.; Shann,...</td>\n",
       "    </tr>\n",
       "    <tr>\n",
       "      <th>5</th>\n",
       "      <td>212e990b378e8d267042753d5f9d4a64ea5e9869</td>\n",
       "      <td>Infectious diarrhea: Pathogenesis and risk fac...</td>\n",
       "      <td>10.1016/0002-9343(85)90367-5</td>\n",
       "      <td>NaN</td>\n",
       "      <td>2861742.0</td>\n",
       "      <td>1985-06-28</td>\n",
       "      <td>The American Journal of Medicine</td>\n",
       "      <td>Cantey, J.Robert</td>\n",
       "    </tr>\n",
       "    <tr>\n",
       "      <th>6</th>\n",
       "      <td>bf5d344243153d58be692ceb26f52c08e2bd2d2f</td>\n",
       "      <td>New perspectives on the pathogenesis of rheuma...</td>\n",
       "      <td>10.1016/0002-9343(88)90356-7</td>\n",
       "      <td>NaN</td>\n",
       "      <td>3052052.0</td>\n",
       "      <td>1988-10-14</td>\n",
       "      <td>The American Journal of Medicine</td>\n",
       "      <td>Zvaifler, Nathan J.</td>\n",
       "    </tr>\n",
       "    <tr>\n",
       "      <th>7</th>\n",
       "      <td>ddd2ecf42ec86ad66072962081e1ce4594431f9c</td>\n",
       "      <td>Management of acute and chronic respiratory tr...</td>\n",
       "      <td>10.1016/0002-9343(88)90456-1</td>\n",
       "      <td>NaN</td>\n",
       "      <td>3048091.0</td>\n",
       "      <td>1988-09-16</td>\n",
       "      <td>The American Journal of Medicine</td>\n",
       "      <td>Ellner, Jerrold J.</td>\n",
       "    </tr>\n",
       "    <tr>\n",
       "      <th>8</th>\n",
       "      <td>a55cb4e724091ced46b5e55b982a14525eea1c7e</td>\n",
       "      <td>Acute bronchitis: Results of U.S. and European...</td>\n",
       "      <td>10.1016/0002-9343(92)90608-E</td>\n",
       "      <td>NaN</td>\n",
       "      <td>1621745.0</td>\n",
       "      <td>1992-06-22</td>\n",
       "      <td>The American Journal of Medicine</td>\n",
       "      <td>Dere, Willard H.</td>\n",
       "    </tr>\n",
       "    <tr>\n",
       "      <th>9</th>\n",
       "      <td>a1fd28115cfa14869f29f30d2121c1058e6e81e9</td>\n",
       "      <td>Clinical and Immunologic Responses in Patients...</td>\n",
       "      <td>10.1016/0002-9394(75)90398-0</td>\n",
       "      <td>NaN</td>\n",
       "      <td>170831.0</td>\n",
       "      <td>1975-10-31</td>\n",
       "      <td>American Journal of Ophthalmology</td>\n",
       "      <td>Knopf, Harry L.S.; Hierholzer, John C.</td>\n",
       "    </tr>\n",
       "    <tr>\n",
       "      <th>10</th>\n",
       "      <td>60bf634cf15582a6b7f72eb3811ca5d8b8825c44</td>\n",
       "      <td>Determination of microsomal lauric acid hydrox...</td>\n",
       "      <td>10.1016/0003-2697(88)90093-0</td>\n",
       "      <td>NaN</td>\n",
       "      <td>3389520.0</td>\n",
       "      <td>1988-04-30</td>\n",
       "      <td>Analytical Biochemistry</td>\n",
       "      <td>Romano, Maria C.; Straub, Kenneth M.; Yodis, L...</td>\n",
       "    </tr>\n",
       "    <tr>\n",
       "      <th>11</th>\n",
       "      <td>b84658904af7f828615c7de04ffcb088bd49c50d</td>\n",
       "      <td>Phospholipid vesicles containing bovine heart ...</td>\n",
       "      <td>10.1016/0003-9861(91)90605-I</td>\n",
       "      <td>NaN</td>\n",
       "      <td>1716878.0</td>\n",
       "      <td>1991-10-31</td>\n",
       "      <td>Archives of Biochemistry and Biophysics</td>\n",
       "      <td>Prochaska, Lawrence J.; Wilson, Kathryn S.</td>\n",
       "    </tr>\n",
       "    <tr>\n",
       "      <th>12</th>\n",
       "      <td>c05ffd04482059ba3cd3965a389003e814ee2699</td>\n",
       "      <td>The oligomeric structure of renal aminopeptida...</td>\n",
       "      <td>10.1016/0005-2736(93)90386-E</td>\n",
       "      <td>NaN</td>\n",
       "      <td>8093665.0</td>\n",
       "      <td>1993-01-18</td>\n",
       "      <td>Biochimica et Biophysica Acta (BBA) - Biomembr...</td>\n",
       "      <td>Plakidou-Dymock, Stella; McGivan, John D.</td>\n",
       "    </tr>\n",
       "    <tr>\n",
       "      <th>14</th>\n",
       "      <td>0fa2750b5605f80e81064c6442a823ca3bf65f85</td>\n",
       "      <td>Predict7, a program for protein structure pred...</td>\n",
       "      <td>10.1016/0006-291X(89)90049-1</td>\n",
       "      <td>NaN</td>\n",
       "      <td>2539121.0</td>\n",
       "      <td>1989-03-15</td>\n",
       "      <td>Biochemical and Biophysical Research Communica...</td>\n",
       "      <td>Cármenes, R.S.; Freije, J.P.; Molina, M.M.; Ma...</td>\n",
       "    </tr>\n",
       "  </tbody>\n",
       "</table>\n",
       "</div>"
      ],
      "text/plain": [
       "                                         sha  \\\n",
       "3   aecbc613ebdab36753235197ffb4f35734b5ca63   \n",
       "5   212e990b378e8d267042753d5f9d4a64ea5e9869   \n",
       "6   bf5d344243153d58be692ceb26f52c08e2bd2d2f   \n",
       "7   ddd2ecf42ec86ad66072962081e1ce4594431f9c   \n",
       "8   a55cb4e724091ced46b5e55b982a14525eea1c7e   \n",
       "9   a1fd28115cfa14869f29f30d2121c1058e6e81e9   \n",
       "10  60bf634cf15582a6b7f72eb3811ca5d8b8825c44   \n",
       "11  b84658904af7f828615c7de04ffcb088bd49c50d   \n",
       "12  c05ffd04482059ba3cd3965a389003e814ee2699   \n",
       "14  0fa2750b5605f80e81064c6442a823ca3bf65f85   \n",
       "\n",
       "                                                title  \\\n",
       "3   Clinical and immunologic studies in identical ...   \n",
       "5   Infectious diarrhea: Pathogenesis and risk fac...   \n",
       "6   New perspectives on the pathogenesis of rheuma...   \n",
       "7   Management of acute and chronic respiratory tr...   \n",
       "8   Acute bronchitis: Results of U.S. and European...   \n",
       "9   Clinical and Immunologic Responses in Patients...   \n",
       "10  Determination of microsomal lauric acid hydrox...   \n",
       "11  Phospholipid vesicles containing bovine heart ...   \n",
       "12  The oligomeric structure of renal aminopeptida...   \n",
       "14  Predict7, a program for protein structure pred...   \n",
       "\n",
       "                             doi pmcid  pubmed_id publish_time  \\\n",
       "3   10.1016/0002-9343(73)90176-9   NaN  4579077.0   1973-08-31   \n",
       "5   10.1016/0002-9343(85)90367-5   NaN  2861742.0   1985-06-28   \n",
       "6   10.1016/0002-9343(88)90356-7   NaN  3052052.0   1988-10-14   \n",
       "7   10.1016/0002-9343(88)90456-1   NaN  3048091.0   1988-09-16   \n",
       "8   10.1016/0002-9343(92)90608-E   NaN  1621745.0   1992-06-22   \n",
       "9   10.1016/0002-9394(75)90398-0   NaN   170831.0   1975-10-31   \n",
       "10  10.1016/0003-2697(88)90093-0   NaN  3389520.0   1988-04-30   \n",
       "11  10.1016/0003-9861(91)90605-I   NaN  1716878.0   1991-10-31   \n",
       "12  10.1016/0005-2736(93)90386-E   NaN  8093665.0   1993-01-18   \n",
       "14  10.1016/0006-291X(89)90049-1   NaN  2539121.0   1989-03-15   \n",
       "\n",
       "                                              journal  \\\n",
       "3                    The American Journal of Medicine   \n",
       "5                    The American Journal of Medicine   \n",
       "6                    The American Journal of Medicine   \n",
       "7                    The American Journal of Medicine   \n",
       "8                    The American Journal of Medicine   \n",
       "9                   American Journal of Ophthalmology   \n",
       "10                            Analytical Biochemistry   \n",
       "11            Archives of Biochemistry and Biophysics   \n",
       "12  Biochimica et Biophysica Acta (BBA) - Biomembr...   \n",
       "14  Biochemical and Biophysical Research Communica...   \n",
       "\n",
       "                                              authors  \n",
       "3   Brunner, Carolyn M.; Horwitz, David A.; Shann,...  \n",
       "5                                    Cantey, J.Robert  \n",
       "6                                 Zvaifler, Nathan J.  \n",
       "7                                  Ellner, Jerrold J.  \n",
       "8                                    Dere, Willard H.  \n",
       "9              Knopf, Harry L.S.; Hierholzer, John C.  \n",
       "10  Romano, Maria C.; Straub, Kenneth M.; Yodis, L...  \n",
       "11         Prochaska, Lawrence J.; Wilson, Kathryn S.  \n",
       "12          Plakidou-Dymock, Stella; McGivan, John D.  \n",
       "14  Cármenes, R.S.; Freije, J.P.; Molina, M.M.; Ma...  "
      ]
     },
     "execution_count": 6,
     "metadata": {},
     "output_type": "execute_result"
    }
   ],
   "source": [
    "meta_ref_df.head(10)"
   ]
  },
  {
   "cell_type": "code",
   "execution_count": 7,
   "metadata": {},
   "outputs": [
    {
     "name": "stderr",
     "output_type": "stream",
     "text": [
      "100%|██████████| 12356/12356 [06:05<00:00, 33.80it/s]\n"
     ]
    }
   ],
   "source": [
    "# extract sentences with doi\n",
    "from dateutil import parser\n",
    "\n",
    "count = 0\n",
    "cord19_json_list = []\n",
    "\n",
    "for each_json_file in tqdm(all_jsons):\n",
    "   \n",
    "    with open(each_json_file) as json_file:\n",
    "        data = json.load(json_file)\n",
    "        try:\n",
    "            date_t = meta_ref_df[meta_ref_df['sha'].str.contains(data['paper_id'])]['publish_time'].values.tolist()[0]\n",
    "                \n",
    "            if parser.parse(date_t).year>2017:\n",
    "                data_dict = {}\n",
    "                \n",
    "                try:\n",
    "                    data_dict['source'] = meta_ref_df[meta_ref_df['sha'].str.contains(data['paper_id'])]['doi'].values.tolist()[0]\n",
    "                except:\n",
    "                    data_dict['source'] =''\n",
    "                \n",
    "                try:\n",
    "                    data_dict['title'] = meta_ref_df[meta_ref_df['sha'].str.contains(data['paper_id'])]['title'].values.tolist()[0]\n",
    "                except:\n",
    "                    data_dict['title'] =''\n",
    "                    \n",
    "                try:\n",
    "                    data_dict['authors'] = meta_ref_df[meta_ref_df['sha'].str.contains(data['paper_id'])]['authors'].values.tolist()[0]\n",
    "                except:\n",
    "                    data_dict['authors'] =''\n",
    "                    \n",
    "                \n",
    "                \n",
    "                full_text = []\n",
    "\n",
    "                try:\n",
    "                    for each_text in data['metadata']:\n",
    "                        full_text.append(each_text['title'])\n",
    "                except:\n",
    "                        pass \n",
    "\n",
    "\n",
    "                try:\n",
    "                    for each_text in data['abstract']:\n",
    "                        full_text.append(each_text['text'])\n",
    "                except:\n",
    "                        pass\n",
    "\n",
    "                try:\n",
    "                    for each_text in data['body_text']:\n",
    "                        full_text.append(each_text['text'])\n",
    "                except:\n",
    "                        pass\n",
    "\n",
    "                try:\n",
    "                    for each_text in data['ref_entries']:\n",
    "                        full_text.append(data['ref_entries'][each_text]['text'])\n",
    "                except:\n",
    "                        pass    \n",
    "\n",
    "                for each_para in full_text:\n",
    "                    if each_para and 'doi:' not in each_para and 'word count' not in each_para and 'All rights reserved' not in each_para and 'No reuse allowed without permission' not in each_para:\n",
    "                        data_dict['index_key']=count\n",
    "                        data_dict['paragraph']=each_para\n",
    "                        count = count+1\n",
    "#                         print(count)\n",
    "                        with open('/home/santosh/Work/Datasets/cord-19-json/'+'data_dict_paragraphs.json','a') as f:\n",
    "                            json.dump(data_dict,f)\n",
    "                            f.write('\\n')\n",
    "                        \n",
    "    \n",
    "        except:\n",
    "            pass\n",
    "                            "
   ]
  },
  {
   "cell_type": "code",
   "execution_count": 30,
   "metadata": {},
   "outputs": [],
   "source": [
    "import nltk\n",
    "\n",
    "paragraphs = []\n",
    "with open('/home/santosh/Work/Datasets/cord-19-json/data_dict_paragraphs.json', 'r') as infile:\n",
    "    for line in infile:\n",
    "        data = json.loads(line)\n",
    "        paragraphs.append(nltk.word_tokenize(data['paragraph']))\n"
   ]
  },
  {
   "cell_type": "code",
   "execution_count": 31,
   "metadata": {},
   "outputs": [
    {
     "data": {
      "text/plain": [
       "['VP3',\n",
       " ',',\n",
       " 'and',\n",
       " 'VP0',\n",
       " '(',\n",
       " 'which',\n",
       " 'is',\n",
       " 'further',\n",
       " 'processed',\n",
       " 'to',\n",
       " 'VP2',\n",
       " 'and',\n",
       " 'VP4',\n",
       " 'during',\n",
       " 'virus',\n",
       " 'assembly',\n",
       " ')',\n",
       " '(',\n",
       " '6',\n",
       " ')',\n",
       " '.',\n",
       " 'The',\n",
       " 'P2',\n",
       " '64',\n",
       " 'and',\n",
       " 'P3',\n",
       " 'regions',\n",
       " 'encode',\n",
       " 'the',\n",
       " 'non-structural',\n",
       " 'proteins',\n",
       " '2B',\n",
       " 'and',\n",
       " '2C',\n",
       " 'and',\n",
       " '3A',\n",
       " ',',\n",
       " '3B',\n",
       " '(',\n",
       " '1-3',\n",
       " ')',\n",
       " '(',\n",
       " 'VPg',\n",
       " ')',\n",
       " ',',\n",
       " '3C',\n",
       " 'pro',\n",
       " 'and',\n",
       " '4',\n",
       " 'structural',\n",
       " 'protein-coding',\n",
       " 'region',\n",
       " 'is',\n",
       " 'replaced',\n",
       " 'by',\n",
       " 'reporter',\n",
       " 'genes',\n",
       " ',',\n",
       " 'allow',\n",
       " 'the',\n",
       " 'study',\n",
       " 'of',\n",
       " 'genome',\n",
       " '68',\n",
       " 'replication',\n",
       " 'without',\n",
       " 'the',\n",
       " 'requirement',\n",
       " 'for',\n",
       " 'high',\n",
       " 'containment',\n",
       " '(',\n",
       " '9',\n",
       " ',',\n",
       " '10',\n",
       " ')',\n",
       " '(',\n",
       " 'figure',\n",
       " '1A',\n",
       " ')',\n",
       " '.']"
      ]
     },
     "execution_count": 31,
     "metadata": {},
     "output_type": "execute_result"
    }
   ],
   "source": [
    "paragraphs[0]"
   ]
  },
  {
   "cell_type": "code",
   "execution_count": 46,
   "metadata": {},
   "outputs": [],
   "source": [
    "solr_index_json_list = []\n",
    "with open('/home/santosh/Work/Datasets/cord-19-json/data_dict_paragraphs.json', 'r') as infile:\n",
    "    for line in infile:\n",
    "        data = json.loads(line)\n",
    "        solr_index_json_list.append(data)\n",
    "        \n",
    "with open('/home/santosh/Work/Datasets/cord-19-json/solr_paragraphs_index.json','w') as outfile:\n",
    "    json.dump(solr_index_json_list,outfile)        "
   ]
  },
  {
   "cell_type": "code",
   "execution_count": 47,
   "metadata": {},
   "outputs": [
    {
     "data": {
      "text/plain": [
       "{'source': '10.1126/sciadv.aax4761',\n",
       " 'title': 'More than efficacy revealed by single-cell analysis of antiviral therapeutics',\n",
       " 'authors': 'Liu, Wu; Caglar, Mehmet U.; Mao, Zhangming; Woodman, Andrew; Arnold, Jamie J.; Wilke, Claus O.; Cameron, Craig E.',\n",
       " 'index_key': 180881,\n",
       " 'paragraph': 'Fig. S2. Evaluation of 2′-C-Me-A, a PV RdRp inhibitor. Fig. S3. Translation of eGFP mRNA and activation of fluorophore are normal in the presence of GA and GS. Fig. S4 Evaluation of GS, an HSP90 inhibitor. Fig. S5 Evaluation of an antiviral drug combination: 2′-C-Me-A and GS. Fig. S6 Evaluation of inhibitor-specific signatures.'}"
      ]
     },
     "execution_count": 47,
     "metadata": {},
     "output_type": "execute_result"
    }
   ],
   "source": [
    "data"
   ]
  },
  {
   "cell_type": "code",
   "execution_count": 32,
   "metadata": {},
   "outputs": [],
   "source": [
    "from fse import IndexedList\n",
    "paragraphs_index = IndexedList(paragraphs)"
   ]
  },
  {
   "cell_type": "code",
   "execution_count": 33,
   "metadata": {},
   "outputs": [],
   "source": [
    "import pickle\n",
    "\n",
    "def dump(data,filename):\n",
    "    file = open(result_dir_path+filename+'.bin','wb')\n",
    "    pickle.dump(data, file)\n",
    "    file.close()"
   ]
  },
  {
   "cell_type": "code",
   "execution_count": 34,
   "metadata": {},
   "outputs": [],
   "source": [
    "result_dir_path = '/home/santosh/Work/models/word2vec/CORD-19/'\n",
    "dump(paragraphs_index, 'paragraphs_index_w2v_2017')"
   ]
  },
  {
   "cell_type": "code",
   "execution_count": 35,
   "metadata": {},
   "outputs": [
    {
     "name": "stderr",
     "output_type": "stream",
     "text": [
      "2020-04-04 19:39:44,891 : INFO : no frequency mode: using wordfreq for estimation of frequency for language: en\n",
      "2020-04-04 19:39:45,051 : INFO : scanning all indexed sentences and their word counts\n",
      "2020-04-04 19:39:45,259 : INFO : finished scanning 180882 sentences with an average length of 142 and 25734978 total words\n",
      "2020-04-04 19:39:45,308 : INFO : estimated memory for 180882 sentences with 200 dimensions and 241336 vocabulary: 323 MB (0 GB)\n",
      "2020-04-04 19:39:45,309 : INFO : initializing sentence vectors for 180882 sentences\n",
      "2020-04-04 19:39:45,876 : INFO : pre-computing uSIF weights for 241336 words\n",
      "2020-04-04 19:39:46,452 : INFO : begin training\n",
      "2020-04-04 19:39:51,490 : INFO : PROGRESS : finished 95.76% with 173215 sentences and 12197889 words, 34643 sentences/s\n",
      "2020-04-04 19:39:51,690 : INFO : worker thread finished; awaiting finish of 3 more threads\n",
      "2020-04-04 19:39:51,691 : INFO : worker thread finished; awaiting finish of 2 more threads\n",
      "2020-04-04 19:39:51,691 : INFO : worker thread finished; awaiting finish of 1 more threads\n",
      "2020-04-04 19:39:51,692 : INFO : worker thread finished; awaiting finish of 0 more threads\n",
      "2020-04-04 19:39:52,611 : INFO : computing 5 principal components took 0s\n",
      "2020-04-04 19:39:52,815 : INFO : removing 5 principal components took 0s\n",
      "2020-04-04 19:39:52,816 : INFO : training on 180882 effective sentences with 12711460 effective words took 5s with 34514 sentences/s\n"
     ]
    },
    {
     "data": {
      "text/plain": [
       "(180882, 12711460)"
      ]
     },
     "execution_count": 35,
     "metadata": {},
     "output_type": "execute_result"
    }
   ],
   "source": [
    "# SIF embeddings\n",
    "from fse.models import uSIF\n",
    "sif_model = uSIF(covid_trained_model, workers=4, lang_freq=\"en\")\n",
    "\n",
    "sif_model.train(paragraphs_index)"
   ]
  },
  {
   "cell_type": "code",
   "execution_count": 36,
   "metadata": {},
   "outputs": [
    {
     "name": "stderr",
     "output_type": "stream",
     "text": [
      "2020-04-04 19:40:00,839 : INFO : saving uSIF object under /home/santosh/Work/models/word2vec/CORD-19/CORD-19-p2v_sif_2017.bin, separately None\n",
      "2020-04-04 19:40:00,840 : INFO : storing np array 'vectors' to /home/santosh/Work/models/word2vec/CORD-19/CORD-19-p2v_sif_2017.bin.wv.vectors.npy\n",
      "2020-04-04 19:40:01,784 : INFO : storing np array 'vectors' to /home/santosh/Work/models/word2vec/CORD-19/CORD-19-p2v_sif_2017.bin.sv.vectors.npy\n",
      "2020-04-04 19:40:06,810 : INFO : saved /home/santosh/Work/models/word2vec/CORD-19/CORD-19-p2v_sif_2017.bin\n"
     ]
    }
   ],
   "source": [
    "result_dir_path = '/home/santosh/Work/models/word2vec/CORD-19/'\n",
    "sif_model.save(result_dir_path+'CORD-19-p2v_sif_2017.bin')"
   ]
  },
  {
   "cell_type": "markdown",
   "metadata": {},
   "source": [
    "# Test Embeddings"
   ]
  },
  {
   "cell_type": "code",
   "execution_count": null,
   "metadata": {},
   "outputs": [],
   "source": [
    "import pickle\n",
    "from gensim.summarization import summarize\n",
    "\n",
    "def load(filename):\n",
    "    file = open(path_w2v+filename+'.bin','rb')\n",
    "    data = pickle.load(file)\n",
    "    file.close()\n",
    "    return data"
   ]
  },
  {
   "cell_type": "code",
   "execution_count": null,
   "metadata": {},
   "outputs": [],
   "source": [
    "path_w2v = '/home/santosh/Work/models/word2vec/CORD-19/'\n",
    "\n",
    "paragraphs_index = load('paragraphs_index')\n",
    "\n"
   ]
  },
  {
   "cell_type": "code",
   "execution_count": null,
   "metadata": {},
   "outputs": [],
   "source": [
    "from gensim.models import KeyedVectors\n",
    "sif_model = KeyedVectors.load(path_w2v+'CORD-19-p2v_sif_2017.bin')"
   ]
  },
  {
   "cell_type": "code",
   "execution_count": 37,
   "metadata": {},
   "outputs": [],
   "source": [
    "import re\n",
    "def untokenize(words):\n",
    "    \"\"\"\n",
    "    Untokenizing a text undoes the tokenizing operation, restoring\n",
    "    punctuation and spaces to the places that people expect them to be.\n",
    "    Ideally, `untokenize(tokenize(text))` should be identical to `text`,\n",
    "    except for line breaks.\n",
    "    \"\"\"\n",
    "    text = ' '.join(words)\n",
    "    step1 = text.replace(\"`` \", '\"').replace(\" ''\", '\"').replace('. . .',  '...')\n",
    "    step2 = step1.replace(\" ( \", \" (\").replace(\" ) \", \") \")\n",
    "    step3 = re.sub(r' ([.,:;?!%]+)([ \\'\"`])', r\"\\1\\2\", step2)\n",
    "    step4 = re.sub(r' ([.,:;?!%]+)$', r\"\\1\", step3)\n",
    "    step5 = step4.replace(\" '\", \"'\").replace(\" n't\", \"n't\").replace(\n",
    "         \"can not\", \"cannot\")\n",
    "    step6 = step5.replace(\" ` \", \" '\")\n",
    "    step7 = step6.replace(\"[ \", \"[\").replace(\" ]\", \"]\")\n",
    "    return step7.strip()\n",
    "\n",
    "def extract_query_result(sv_query_result):\n",
    "    result_sentences =[]\n",
    "    for each_result in sv_query_result:\n",
    "        result_sentences.append(untokenize(each_result[0]))\n",
    "     \n",
    "    return result_sentences"
   ]
  },
  {
   "cell_type": "code",
   "execution_count": 51,
   "metadata": {},
   "outputs": [
    {
     "name": "stderr",
     "output_type": "stream",
     "text": [
      "2020-04-04 21:01:34,670 : INFO : scanning all indexed sentences and their word counts\n",
      "2020-04-04 21:01:34,671 : INFO : finished scanning 1 sentences with an average length of 7 and 7 total words\n",
      "2020-04-04 21:01:34,673 : INFO : removing 5 principal components took 0s\n"
     ]
    },
    {
     "data": {
      "text/plain": [
       "[(57520, 0.7144672870635986),\n",
       " (112098, 0.7144672870635986),\n",
       " (13451, 0.6943836808204651),\n",
       " (28077, 0.692663311958313),\n",
       " (22543, 0.6777405142784119)]"
      ]
     },
     "execution_count": 51,
     "metadata": {},
     "output_type": "execute_result"
    }
   ],
   "source": [
    "query_result = sif_model.sv.similar_by_sentence(nltk.word_tokenize(query), model=sif_model, topn=5)\n",
    "query_result"
   ]
  },
  {
   "cell_type": "code",
   "execution_count": 50,
   "metadata": {},
   "outputs": [],
   "source": [
    "list_indexs = []\n",
    "for each_result in query_result:\n",
    "    list_indexs.append(each_result[0])\n"
   ]
  },
  {
   "cell_type": "code",
   "execution_count": 43,
   "metadata": {},
   "outputs": [
    {
     "name": "stderr",
     "output_type": "stream",
     "text": [
      "2020-04-04 19:42:32,148 : INFO : scanning all indexed sentences and their word counts\n",
      "2020-04-04 19:42:32,150 : INFO : finished scanning 1 sentences with an average length of 7 and 7 total words\n",
      "2020-04-04 19:42:32,151 : INFO : removing 5 principal components took 0s\n"
     ]
    },
    {
     "data": {
      "text/plain": [
       "['Case 3 developed symptoms 4 days after her husband and 5 days after the couple had left Wuhan. The incubation period of SARS-CoV-2 is currently estimated at around 3-7 days [5, 10, 11]. Therefore, she may have acquired the infection from her husband, although this cannot be proved.',\n",
       " 'Case 3 developed symptoms 4 days after her husband and 5 days after the couple had left Wuhan. The incubation period of SARS-CoV-2 is currently estimated at around 3-7 days [5, 10, 11]. Therefore, she may have acquired the infection from her husband, although this cannot be proved.',\n",
       " 'Estimates for the incubation periods of SARS, MERS, and COVID-19.',\n",
       " '\\uf06c Second, E → I. Relevant evidence shows that the longest incubation period for 2019-nCoV is 14 days and the shortest is 1 day. The Exposed status (E) may be transformed into an infected status (I) after the incubation period.',\n",
       " 'Since the infection time of most patients could not be determined, we did not analyze the incubation period. It was reported that the incubation period was 4-7 days. 25 Based on the SARS experience, the maximum incubation period is currently considered to be no more than 14 days, but one case in our study was significantly longer at 17 days. A recent study reported the longest incubation period to be 24 days. 11 Authorities reported in Guangdong province that a man became ill after 27 days, leading to more than 100 people being quarantined. The maximum incubation period is unclear. Considering the highly infectious nature of the COVID-19, quarantining people from the affected areas for a month should be considered.',\n",
       " 'Early predictions for incubation time are between 2 and 14 days, based on data from similar coronaviruses, with the 95th percentile of the distribution at 12.5 days [1]. The 14-day criterion for epidemiological risk assumes the longest estimated incubation time [6]. So, we assume the exposed period is 14 days, so T E =14.',\n",
       " 'The incubation period of SARS is 1-4 days [33]. However, in a small number of patients, the incubation period may be longer than 10 days [34]. It has been demonstrated that the latency of COVID-19 varies from 3-7 days on average, for up to 14 days [35]. During this incubation period, patients are contagious, and it has been reported that each case infected on average 3.77 other people (uncertainty range 2.23-4.82) [36]. By comparison, we found that the average latency of COVID-19 is slightly longer than that of SARS.',\n",
       " 'The incubation period of SARS is 1-4 days [33]. However, in a small number of patients, the incubation period may be longer than 10 days [34]. It has been demonstrated that the latency of COVID-19 varies from 3-7 days on average, for up to 14 days [35]. During this incubation period, patients are contagious, and it has been reported that each case infected on average 3.77 other people (uncertainty range 2.23-4.82) [36]. By comparison, we found that the average latency of COVID-19 is slightly longer than that of SARS.',\n",
       " 'As an additional check, we simulated the expected serial intervals assuming the same aforementioned incubation period but two different infectiousness profiles, where infectiousness started on the same day and from 2 days before symptom onset respectively. A recent study isolated live infectious SARS-CoV-2 virus from COVID-19 patients up to 10 days after symptom onset, 12 thus we assumed the same duration of infectiousness. We also assumed that infectiousness peaked on the day of symptom onset.',\n",
       " 'We characterised the distribution of incubation periods for travellers from Wuhan infected with 2019-nCoV in Wuhan who were reported as cases between 20 and 28 January 2020. The study provides empirical evidence to back reports on a familial cluster where five family members developed symptoms 3 to 6 days after exposure [10], and fits within the range for the incubation period of 0 to 14 days assumed by the WHO and of 2 to 12 days assumed by the ECDC [11]. Our estimate of the mean incubation period is longer than the value of 5.2 days based on 10 cases [12], and 4.8 days (range: 2-11) based on 16 travellers between Wuhan and Guangdong [13]. The latter study is restricted to travellers with a 3-day exposure window. Repeating our analysis with only the 25 visitors to Wuhan who had a closed exposure window, leads to a mean incubation period of 4.5 days (CI: 3.7-5.6) which is more in line with the studies above, but the 95th percentile drops to 8.0 days (CI: 6.3-11.8).']"
      ]
     },
     "execution_count": 43,
     "metadata": {},
     "output_type": "execute_result"
    }
   ],
   "source": [
    "# query = \"pre-existing pulmonary disease SARS-Cov2 Hypertension\" \n",
    "\n",
    "query = \"What is the incubation days of SARS-CoV-2\" \n",
    "# query = \"incubation days coronavirus 2019-nCoV\"#  COVID-19\n",
    "# query = 'socio economic poverty behaviour'\n",
    "\n",
    "# query = 'what is the influence of pre-existing diseases and comorbidities'\n",
    "# query = 'public health mitigation measures that could be effective for control'\n",
    "# query = 'socio-economic and behavioral factors to understand the economic impact of the SARS-CoV-2 virus and whether there were differences. '\n",
    "# query = 'what are the risk factors for death in COVID-19'\n",
    "# query = 'what is the basic reproductive number of SARS-CoV-2 in days'\n",
    "# query = 'what is the serial interval days SARS-CoV-2'\n",
    "# query = 'what do we know about the environmental factors influencing SARS-CoV-2'\n",
    "# query = 'what do we know about drugs using to treat SARS-CoV-2'\n",
    "# query = 'Transmission dynamics of the virus SARS-CoV-2'\n",
    "# query ='risk of fatality among symptomatic hospitalized patients'\n",
    "# query = 'Efforts targeted at a universal coronavirus vaccine'\n",
    "# query = ''\n",
    "\n",
    "query_result = sif_model.sv.similar_by_sentence(nltk.word_tokenize(query), model=sif_model, indexable=paragraphs_index.items, topn=10)\n",
    "\n",
    "extract_query_result(query_result)\n",
    "# summarize(' '.join(extract_query_result(query_result)), ratio =0.2, split=True)"
   ]
  },
  {
   "cell_type": "code",
   "execution_count": null,
   "metadata": {},
   "outputs": [],
   "source": []
  }
 ],
 "metadata": {
  "kernelspec": {
   "display_name": "Python [conda env:scispacy]",
   "language": "python",
   "name": "conda-env-scispacy-py"
  },
  "language_info": {
   "codemirror_mode": {
    "name": "ipython",
    "version": 3
   },
   "file_extension": ".py",
   "mimetype": "text/x-python",
   "name": "python",
   "nbconvert_exporter": "python",
   "pygments_lexer": "ipython3",
   "version": "3.6.9"
  }
 },
 "nbformat": 4,
 "nbformat_minor": 4
}
