{
 "cells": [
  {
   "cell_type": "code",
   "execution_count": 1,
   "metadata": {},
   "outputs": [],
   "source": [
    "root_path = '/home/santosh/Downloads/CORD-19-research-challenge/'\n",
    "paths = ['biorxiv_medrxiv/biorxiv_medrxiv/',\n",
    "        'comm_use_subset/comm_use_subset/',\n",
    "        'noncomm_use_subset/noncomm_use_subset/']\n",
    "\n",
    "result_path = '/home/santosh/CORD-text/'\n"
   ]
  },
  {
   "cell_type": "code",
   "execution_count": 2,
   "metadata": {},
   "outputs": [],
   "source": [
    "import glob\n",
    "import json\n",
    "from tqdm import tqdm"
   ]
  },
  {
   "cell_type": "code",
   "execution_count": 3,
   "metadata": {},
   "outputs": [],
   "source": [
    "all_jsons =[]\n",
    "for json_path in paths:\n",
    "     all_jsons.extend(sorted(glob.glob(root_path+json_path + '*.json*')))\n"
   ]
  },
  {
   "cell_type": "code",
   "execution_count": null,
   "metadata": {},
   "outputs": [
    {
     "name": "stderr",
     "output_type": "stream",
     "text": [
      " 55%|█████▍    | 6760/12356 [00:11<00:09, 620.27it/s]"
     ]
    }
   ],
   "source": [
    "for each_json_file in tqdm(all_jsons):\n",
    "    with open(each_json_file) as json_file:\n",
    "        data = json.load(json_file)\n",
    "\n",
    "        full_text = []\n",
    "\n",
    "        try:\n",
    "            for each_text in data['abstract']:\n",
    "                full_text.append(each_text['text'])\n",
    "        except:\n",
    "                pass\n",
    "\n",
    "        try:\n",
    "            for each_text in data['body_text']:\n",
    "                full_text.append(each_text['text'])\n",
    "        except:\n",
    "                pass\n",
    "\n",
    "        with open(result_path+each_json_file.split('/')[-1][:-5]+'.txt', 'a') as writer:\n",
    "            for each_para in full_text:\n",
    "                sentences = each_para.split('. ')\n",
    "                for each_sentence in sentences:\n",
    "                    writer.write(each_sentence+'\\n')     "
   ]
  },
  {
   "cell_type": "code",
   "execution_count": null,
   "metadata": {},
   "outputs": [],
   "source": []
  }
 ],
 "metadata": {
  "kernelspec": {
   "display_name": "Python 3",
   "language": "python",
   "name": "python3"
  },
  "language_info": {
   "codemirror_mode": {
    "name": "ipython",
    "version": 3
   },
   "file_extension": ".py",
   "mimetype": "text/x-python",
   "name": "python",
   "nbconvert_exporter": "python",
   "pygments_lexer": "ipython3",
   "version": "3.7.4"
  }
 },
 "nbformat": 4,
 "nbformat_minor": 2
}
