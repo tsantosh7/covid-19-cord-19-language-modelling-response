{
 "cells": [
  {
   "cell_type": "code",
   "execution_count": 27,
   "metadata": {},
   "outputs": [],
   "source": [
    "from gensim.models import KeyedVectors\n",
    "import fse # fast sentence embeddings\n",
    "from fse.models import uSIF\n",
    "import nltk\n",
    "import os\n",
    "\n",
    "from IPython.core.display import display, HTML"
   ]
  },
  {
   "cell_type": "code",
   "execution_count": 2,
   "metadata": {},
   "outputs": [],
   "source": [
    "path_w2v = '/home/santosh/Work/models/word2vec/CORD-19/'\n",
    "sif_model = KeyedVectors.load(path_w2v+'CORD-19-p2v_sif_2017.bin')"
   ]
  },
  {
   "cell_type": "code",
   "execution_count": 15,
   "metadata": {},
   "outputs": [
    {
     "name": "stdout",
     "output_type": "stream",
     "text": [
      "Loading from /home/santosh/Work/models/SpaCy/en-cord19-lg/best/\n"
     ]
    }
   ],
   "source": [
    "from spacy import util\n",
    "import spacy\n",
    "\n",
    "spacy_model_path = '/home/santosh/Work/models/SpaCy/en-cord19-lg/best/'\n",
    "\n",
    "print(\"Loading from\", spacy_model_path)\n",
    "nlp2 = util.load_model_from_path(spacy_model_path)"
   ]
  },
  {
   "cell_type": "code",
   "execution_count": 26,
   "metadata": {},
   "outputs": [],
   "source": [
    "col_dict = {}\n",
    "seven_colours = ['#00FFFF', '#B0C4DE', '#ADFF2F', '#FFA07A', '#E6E6FA', '#FFC0CB', '#FFFF00', '#BC8F8F', '#7FFFD4', '#D8BFD8']\n",
    "for label, colour in zip(nlp2.pipe_labels['ner'], seven_colours):\n",
    "    col_dict[label] = colour\n",
    "\n",
    "options = {'ents': nlp2.pipe_labels['ner'], 'colors':col_dict}"
   ]
  },
  {
   "cell_type": "code",
   "execution_count": 54,
   "metadata": {},
   "outputs": [],
   "source": [
    "import requests\n",
    "\n",
    "def extract_results_from_solr(solr_query_):\n",
    "    r = requests.get(solr_query_)\n",
    "    if r.status_code == 200:\n",
    "\n",
    "        json_data = r.json()\n",
    "        return json_data\n",
    "\n",
    "    else:\n",
    "        print('result_not_suceeded')\n",
    "        return False\n",
    "    \n",
    "\n",
    "def generate_solr_query(query_result):\n",
    "\n",
    "    list_indexs = []\n",
    "    similarity_scores = []\n",
    "    for each_result in query_result:\n",
    "        list_indexs.append(each_result[0])\n",
    "        similarity_scores.append(each_result[1])\n",
    "\n",
    "    solr_query = 'http://localhost:8157/solr/cord19_paragraph_index/select?q=index_key:('\n",
    "    for each_index in list_indexs:\n",
    "        solr_query = solr_query+str(each_index)+' '\n",
    "\n",
    "    solr_query = solr_query+')'\n",
    "\n",
    "#     print(solr_query)\n",
    "    \n",
    "    return solr_query, dict(zip(list_indexs,similarity_scores))"
   ]
  },
  {
   "cell_type": "code",
   "execution_count": 88,
   "metadata": {},
   "outputs": [],
   "source": [
    "def convert_html(top_results, scores):\n",
    "    html_markup_list = [None] * len(scores) # [pre define the list, later use to input results based on scores]\n",
    "    \n",
    "    for er in top_results['response']['docs']:\n",
    "        title = '<h2> '+er['title']+'</h2>'\n",
    "        authors = '<h6> '+er['authors']+'</h6>'\n",
    "        source = '<a href = \"https://doi.org/'+er['source'].strip()+'\">[source]</a>'\n",
    "        paragraph = '<p>'+spacy.displacy.render(nlp2(er['paragraph']), style='ent', jupyter=False, options=options, minify=True)+'<p>'\n",
    "        \n",
    "        key_index = list(scores).index(er['index_key'])\n",
    "        \n",
    "        document_score = '<i>'+'relevance: '+ str(round(scores[er['index_key']],2))+'</i>'\n",
    "        \n",
    "        html_markup_list[key_index] = title+ ' ('+ document_score +')' + '\\n'+authors+'\\n'+ paragraph+'\\n'+source\n",
    "        \n",
    "    return html_markup_list"
   ]
  },
  {
   "cell_type": "code",
   "execution_count": 89,
   "metadata": {},
   "outputs": [],
   "source": [
    "# query = \"What is the incubation days of SARS-CoV-2\" \n",
    "\n",
    "# query = \"incubation days coronavirus 2019-nCoV\"#  COVID-19\n",
    "# query = 'socio economic poverty behaviour'\n",
    "\n",
    "# query = 'what is the influence of pre-existing diseases and comorbidities'\n",
    "# query = 'public health mitigation measures that could be effective for control'\n",
    "# query = 'socio-economic and behavioral factors to understand the economic impact of the SARS-CoV-2 virus and whether there were differences. '\n",
    "# query = 'what are the risk factors for death in COVID-19'\n",
    "# query = 'what is the basic reproductive number of SARS-CoV-2 in days'\n",
    "# query = 'what is the serial interval days SARS-CoV-2'\n",
    "# query = 'what do we know about the environmental factors influencing SARS-CoV-2'\n",
    "query = 'what do we know about drugs using to treat SARS-CoV-2'\n",
    "# query = 'Transmission dynamics of the virus SARS-CoV-2'\n",
    "# query ='risk of fatality among symptomatic hospitalized patients'\n",
    "# query = 'Efforts targeted at a universal coronavirus vaccine'\n",
    "# query = ''\n",
    "\n",
    "query_result = sif_model.sv.similar_by_sentence(nltk.word_tokenize(query), model=sif_model, topn=10)\n"
   ]
  },
  {
   "cell_type": "code",
   "execution_count": 90,
   "metadata": {},
   "outputs": [],
   "source": [
    "# generate solr query and get scores\n",
    "solr_query_url, index_score = generate_solr_query(query_result)\n",
    "top_results_ = extract_results_from_solr(solr_query_url)\n"
   ]
  },
  {
   "cell_type": "code",
   "execution_count": 91,
   "metadata": {},
   "outputs": [
    {
     "data": {
      "text/html": [
       "<h2> Potential inhibitors for 2019-nCoV coronavirus M protease from clinically approved medicines</h2> (<i>relevance: 0.72</i>)\n",
       "<h6> Liu, X.; Wang, X.-J.</h6>\n",
       "<p><div class=\"entities\" style=\"line-height: 2.5; direction: ltr\">To present, these are still no clinically approved <mark class=\"entity\" style=\"background: #ADFF2F; padding: 0.45em 0.6em; margin: 0 0.25em; line-height: 1; border-radius: 0.35em;\">antibodies<span style=\"font-size: 0.8em; font-weight: bold; line-height: 1; border-radius: 0.35em; text-transform: uppercase; vertical-align: middle; margin-left: 0.5rem\">COMP</span></mark> or drugs specific for coronaviruses, which makes it more difficult for curing 2019-nCoV caused diseases and controlling the associated pandemic. With the hope to identify candidate drugs for 2019-nCoV, we adopted a computational approach to screen for available commercial medicines which may function as <mark class=\"entity\" style=\"background: #B0C4DE; padding: 0.45em 0.6em; margin: 0 0.25em; line-height: 1; border-radius: 0.35em;\">inhibitors<span style=\"font-size: 0.8em; font-weight: bold; line-height: 1; border-radius: 0.35em; text-transform: uppercase; vertical-align: middle; margin-left: 0.5rem\">CHED</span></mark> for the <mark class=\"entity\" style=\"background: #BC8F8F; padding: 0.45em 0.6em; margin: 0 0.25em; line-height: 1; border-radius: 0.35em;\">M pro of 2019-nCoV.<span style=\"font-size: 0.8em; font-weight: bold; line-height: 1; border-radius: 0.35em; text-transform: uppercase; vertical-align: middle; margin-left: 0.5rem\">PRGE</span></mark></div><p>\n",
       "<a href = \"https://doi.org/10.1101/2020.01.29.924100\">[source]</a><hr>\n",
       "<h2> Predicting commercially available antiviral drugs that may act on the novel coronavirus (2019-nCoV), Wuhan, China through a drug-target interaction deep learning model</h2> (<i>relevance: 0.72</i>)\n",
       "<h6> Beck, B. R.; Shin, B.; Choi, Y.; Park, S.; Kang, K.</h6>\n",
       "<p><div class=\"entities\" style=\"line-height: 2.5; direction: ltr\">The <mark class=\"entity\" style=\"background: #FFA07A; padding: 0.45em 0.6em; margin: 0 0.25em; line-height: 1; border-radius: 0.35em;\">infection<span style=\"font-size: 0.8em; font-weight: bold; line-height: 1; border-radius: 0.35em; text-transform: uppercase; vertical-align: middle; margin-left: 0.5rem\">DISO</span></mark> of a <mark class=\"entity\" style=\"background: #D8BFD8; padding: 0.45em 0.6em; margin: 0 0.25em; line-height: 1; border-radius: 0.35em;\">novel coronavirus<span style=\"font-size: 0.8em; font-weight: bold; line-height: 1; border-radius: 0.35em; text-transform: uppercase; vertical-align: middle; margin-left: 0.5rem\">SPEC</span></mark> found in Wuhan of China (2019-nCoV) is rapidly spreading, and the incidence rate is increasing worldwide. Due to the lack of effective treatment options for 2019-nCoV, various strategies are being tested in China, including drug repurposing. In this study, we used our pretrained deep <mark class=\"entity\" style=\"background: #7FFFD4; padding: 0.45em 0.6em; margin: 0 0.25em; line-height: 1; border-radius: 0.35em;\">learning<span style=\"font-size: 0.8em; font-weight: bold; line-height: 1; border-radius: 0.35em; text-transform: uppercase; vertical-align: middle; margin-left: 0.5rem\">PROC</span></mark>-based drug-target interaction model called Molecule Transformer-Drug Target Interaction (MT-DTI) to identify commercially available drugs that could act on viral <mark class=\"entity\" style=\"background: #B0C4DE; padding: 0.45em 0.6em; margin: 0 0.25em; line-height: 1; border-radius: 0.35em;\">proteins<span style=\"font-size: 0.8em; font-weight: bold; line-height: 1; border-radius: 0.35em; text-transform: uppercase; vertical-align: middle; margin-left: 0.5rem\">CHED</span></mark> of 2019-nCoV. The result showed that atazanavir, an antiretroviral medication used to treat and prevent the <mark class=\"entity\" style=\"background: #FFA07A; padding: 0.45em 0.6em; margin: 0 0.25em; line-height: 1; border-radius: 0.35em;\">human immunodeficiency virus<span style=\"font-size: 0.8em; font-weight: bold; line-height: 1; border-radius: 0.35em; text-transform: uppercase; vertical-align: middle; margin-left: 0.5rem\">DISO</span></mark> (<mark class=\"entity\" style=\"background: #FFA07A; padding: 0.45em 0.6em; margin: 0 0.25em; line-height: 1; border-radius: 0.35em;\">HIV<span style=\"font-size: 0.8em; font-weight: bold; line-height: 1; border-radius: 0.35em; text-transform: uppercase; vertical-align: middle; margin-left: 0.5rem\">DISO</span></mark>), is the best chemical compound, showing a inhibitory potency with Kd of 94.94 nM against the <mark class=\"entity\" style=\"background: #BC8F8F; padding: 0.45em 0.6em; margin: 0 0.25em; line-height: 1; border-radius: 0.35em;\">2019-nCoV 3C-like proteinase<span style=\"font-size: 0.8em; font-weight: bold; line-height: 1; border-radius: 0.35em; text-transform: uppercase; vertical-align: middle; margin-left: 0.5rem\">PRGE</span></mark>, followed by <mark class=\"entity\" style=\"background: #B0C4DE; padding: 0.45em 0.6em; margin: 0 0.25em; line-height: 1; border-radius: 0.35em;\">efavirenz<span style=\"font-size: 0.8em; font-weight: bold; line-height: 1; border-radius: 0.35em; text-transform: uppercase; vertical-align: middle; margin-left: 0.5rem\">CHED</span></mark> (199.17 nM), <mark class=\"entity\" style=\"background: #B0C4DE; padding: 0.45em 0.6em; margin: 0 0.25em; line-height: 1; border-radius: 0.35em;\">ritonavir<span style=\"font-size: 0.8em; font-weight: bold; line-height: 1; border-radius: 0.35em; text-transform: uppercase; vertical-align: middle; margin-left: 0.5rem\">CHED</span></mark> (204.05 nM), and dolutegravir (336.91 nM). Interestingly, lopinavir, <mark class=\"entity\" style=\"background: #B0C4DE; padding: 0.45em 0.6em; margin: 0 0.25em; line-height: 1; border-radius: 0.35em;\">ritonavir<span style=\"font-size: 0.8em; font-weight: bold; line-height: 1; border-radius: 0.35em; text-transform: uppercase; vertical-align: middle; margin-left: 0.5rem\">CHED</span></mark>, and <mark class=\"entity\" style=\"background: #B0C4DE; padding: 0.45em 0.6em; margin: 0 0.25em; line-height: 1; border-radius: 0.35em;\">darunavir<span style=\"font-size: 0.8em; font-weight: bold; line-height: 1; border-radius: 0.35em; text-transform: uppercase; vertical-align: middle; margin-left: 0.5rem\">CHED</span></mark> are all</div><p>\n",
       "<a href = \"https://doi.org/10.1101/2020.01.31.929547\">[source]</a><hr>\n",
       "<h2> Screening of FDA-approved drugs using a MERS-CoV clinical isolate from South Korea identifies potential therapeutic options for COVID-19</h2> (<i>relevance: 0.72</i>)\n",
       "<h6> Ko, M.; Chang, S. Y.; Byun, S. Y.; Choi, I.; d'Alexandry d'Orengiani, A. L. P. H.; Shum, D.; Min, J.-Y.; Windisch, M. P.</h6>\n",
       "<p><div class=\"entities\" style=\"line-height: 2.5; direction: ltr\">Together, we identified 12 FDA-approved drugs that could be considered for repositioning to MERS-CoV or <mark class=\"entity\" style=\"background: #FFA07A; padding: 0.45em 0.6em; margin: 0 0.25em; line-height: 1; border-radius: 0.35em;\">COVID-19<span style=\"font-size: 0.8em; font-weight: bold; line-height: 1; border-radius: 0.35em; text-transform: uppercase; vertical-align: middle; margin-left: 0.5rem\">DISO</span></mark> therapy. Especially the <mark class=\"entity\" style=\"background: #B0C4DE; padding: 0.45em 0.6em; margin: 0 0.25em; line-height: 1; border-radius: 0.35em;\">cardiotonic drugs ouabain<span style=\"font-size: 0.8em; font-weight: bold; line-height: 1; border-radius: 0.35em; text-transform: uppercase; vertical-align: middle; margin-left: 0.5rem\">CHED</span></mark>, <mark class=\"entity\" style=\"background: #B0C4DE; padding: 0.45em 0.6em; margin: 0 0.25em; line-height: 1; border-radius: 0.35em;\">digitoxin<span style=\"font-size: 0.8em; font-weight: bold; line-height: 1; border-radius: 0.35em; text-transform: uppercase; vertical-align: middle; margin-left: 0.5rem\">CHED</span></mark>, or <mark class=\"entity\" style=\"background: #B0C4DE; padding: 0.45em 0.6em; margin: 0 0.25em; line-height: 1; border-radius: 0.35em;\">digoxin<span style=\"font-size: 0.8em; font-weight: bold; line-height: 1; border-radius: 0.35em; text-transform: uppercase; vertical-align: middle; margin-left: 0.5rem\">CHED</span></mark> with a TI greater than 100 in monotherapy or combined with remdesivir, a drug that is currently in clinical trials for the treatment of <mark class=\"entity\" style=\"background: #FFA07A; padding: 0.45em 0.6em; margin: 0 0.25em; line-height: 1; border-radius: 0.35em;\">COVID-19<span style=\"font-size: 0.8em; font-weight: bold; line-height: 1; border-radius: 0.35em; text-transform: uppercase; vertical-align: middle; margin-left: 0.5rem\">DISO</span></mark>, or with other therapeutics, might lead to drug <mark class=\"entity\" style=\"background: #7FFFD4; padding: 0.45em 0.6em; margin: 0 0.25em; line-height: 1; border-radius: 0.35em;\">synergism<span style=\"font-size: 0.8em; font-weight: bold; line-height: 1; border-radius: 0.35em; text-transform: uppercase; vertical-align: middle; margin-left: 0.5rem\">PROC</span></mark>.</div><p>\n",
       "<a href = \"https://doi.org/10.1101/2020.02.25.965582\">[source]</a><hr>\n",
       "<h2> Analysis of therapeutic targets for SARS-CoV-2 and discovery of potential drugs by computational methods</h2> (<i>relevance: 0.71</i>)\n",
       "<h6> Wu, Canrong; Liu, Yang; Yang, Yueying; Zhang, Peng; Zhong, Wu; Wang, Yali; Wang, Qiqi; Xu, Yang; Li, Mingxue; Li, Xingzhou; Zheng, Mengzhu; Chen, Lixia; Li, Hua</h6>\n",
       "<p><div class=\"entities\" style=\"line-height: 2.5; direction: ltr\">In <mark class=\"entity\" style=\"background: #D8BFD8; padding: 0.45em 0.6em; margin: 0 0.25em; line-height: 1; border-radius: 0.35em;\">order<span style=\"font-size: 0.8em; font-weight: bold; line-height: 1; border-radius: 0.35em; text-transform: uppercase; vertical-align: middle; margin-left: 0.5rem\">SPEC</span></mark> to further verify the screening results of <mark class=\"entity\" style=\"background: #B0C4DE; padding: 0.45em 0.6em; margin: 0 0.25em; line-height: 1; border-radius: 0.35em;\">ZINC<span style=\"font-size: 0.8em; font-weight: bold; line-height: 1; border-radius: 0.35em; text-transform: uppercase; vertical-align: middle; margin-left: 0.5rem\">CHED</span></mark> drug database and utilize the current resource of <mark class=\"entity\" style=\"background: #B0C4DE; padding: 0.45em 0.6em; margin: 0 0.25em; line-height: 1; border-radius: 0.35em;\">anti-viral drugs<span style=\"font-size: 0.8em; font-weight: bold; line-height: 1; border-radius: 0.35em; text-transform: uppercase; vertical-align: middle; margin-left: 0.5rem\">CHED</span></mark> immediately, we constructed a database of 78 <mark class=\"entity\" style=\"background: #B0C4DE; padding: 0.45em 0.6em; margin: 0 0.25em; line-height: 1; border-radius: 0.35em;\">anti-viral drugs<span style=\"font-size: 0.8em; font-weight: bold; line-height: 1; border-radius: 0.35em; text-transform: uppercase; vertical-align: middle; margin-left: 0.5rem\">CHED</span></mark> for deep calculation, including compounds already on the market and currently undergoing clinical trials to treat <mark class=\"entity\" style=\"background: #FFA07A; padding: 0.45em 0.6em; margin: 0 0.25em; line-height: 1; border-radius: 0.35em;\">SARS<span style=\"font-size: 0.8em; font-weight: bold; line-height: 1; border-radius: 0.35em; text-transform: uppercase; vertical-align: middle; margin-left: 0.5rem\">DISO</span></mark>-CoV-2 <mark class=\"entity\" style=\"background: #FFA07A; padding: 0.45em 0.6em; margin: 0 0.25em; line-height: 1; border-radius: 0.35em;\">infections<span style=\"font-size: 0.8em; font-weight: bold; line-height: 1; border-radius: 0.35em; text-transform: uppercase; vertical-align: middle; margin-left: 0.5rem\">DISO</span></mark>.</div><p>\n",
       "<a href = \"https://doi.org/10.1016/j.apsb.2020.02.008\">[source]</a><hr>\n",
       "<h2> Analysis of therapeutic targets for SARS-CoV-2 and discovery of potential drugs by computational methods</h2> (<i>relevance: 0.71</i>)\n",
       "<h6> Wu, Canrong; Liu, Yang; Yang, Yueying; Zhang, Peng; Zhong, Wu; Wang, Yali; Wang, Qiqi; Xu, Yang; Li, Mingxue; Li, Xingzhou; Zheng, Mengzhu; Chen, Lixia; Li, Hua</h6>\n",
       "<p><div class=\"entities\" style=\"line-height: 2.5; direction: ltr\">In <mark class=\"entity\" style=\"background: #D8BFD8; padding: 0.45em 0.6em; margin: 0 0.25em; line-height: 1; border-radius: 0.35em;\">order<span style=\"font-size: 0.8em; font-weight: bold; line-height: 1; border-radius: 0.35em; text-transform: uppercase; vertical-align: middle; margin-left: 0.5rem\">SPEC</span></mark> to further verify the screening results of <mark class=\"entity\" style=\"background: #B0C4DE; padding: 0.45em 0.6em; margin: 0 0.25em; line-height: 1; border-radius: 0.35em;\">ZINC<span style=\"font-size: 0.8em; font-weight: bold; line-height: 1; border-radius: 0.35em; text-transform: uppercase; vertical-align: middle; margin-left: 0.5rem\">CHED</span></mark> drug database and utilize the current resource of <mark class=\"entity\" style=\"background: #B0C4DE; padding: 0.45em 0.6em; margin: 0 0.25em; line-height: 1; border-radius: 0.35em;\">anti-viral drugs<span style=\"font-size: 0.8em; font-weight: bold; line-height: 1; border-radius: 0.35em; text-transform: uppercase; vertical-align: middle; margin-left: 0.5rem\">CHED</span></mark> immediately, we constructed a database of 78 <mark class=\"entity\" style=\"background: #B0C4DE; padding: 0.45em 0.6em; margin: 0 0.25em; line-height: 1; border-radius: 0.35em;\">anti-viral drugs<span style=\"font-size: 0.8em; font-weight: bold; line-height: 1; border-radius: 0.35em; text-transform: uppercase; vertical-align: middle; margin-left: 0.5rem\">CHED</span></mark> for deep calculation, including compounds already on the market and currently undergoing clinical trials to treat <mark class=\"entity\" style=\"background: #FFA07A; padding: 0.45em 0.6em; margin: 0 0.25em; line-height: 1; border-radius: 0.35em;\">SARS<span style=\"font-size: 0.8em; font-weight: bold; line-height: 1; border-radius: 0.35em; text-transform: uppercase; vertical-align: middle; margin-left: 0.5rem\">DISO</span></mark>-CoV-2 <mark class=\"entity\" style=\"background: #FFA07A; padding: 0.45em 0.6em; margin: 0 0.25em; line-height: 1; border-radius: 0.35em;\">infections<span style=\"font-size: 0.8em; font-weight: bold; line-height: 1; border-radius: 0.35em; text-transform: uppercase; vertical-align: middle; margin-left: 0.5rem\">DISO</span></mark>.</div><p>\n",
       "<a href = \"https://doi.org/10.1016/j.apsb.2020.02.008\">[source]</a><hr>\n",
       "<h2> Molecular Modeling Evaluation of the Binding Effect of Ritonavir, Lopinavir and Darunavir to Severe Acute Respiratory Syndrome Coronavirus 2 Proteases</h2> (<i>relevance: 0.7</i>)\n",
       "<h6> Lin, S.; Shen, R.; He, J.; Li, X.; Guo, X.</h6>\n",
       "<p><div class=\"entities\" style=\"line-height: 2.5; direction: ltr\">The trial fifth edition of diagnosis and treatment guideline of <mark class=\"entity\" style=\"background: #FFA07A; padding: 0.45em 0.6em; margin: 0 0.25em; line-height: 1; border-radius: 0.35em;\">COVID-19<span style=\"font-size: 0.8em; font-weight: bold; line-height: 1; border-radius: 0.35em; text-transform: uppercase; vertical-align: middle; margin-left: 0.5rem\">DISO</span></mark> issued by National Health Commission of the People's Republic of China (http://www.nhc.gov.cn/) recommends to use Kaletra for treatment. Kaletra, an anti-<mark class=\"entity\" style=\"background: #FFA07A; padding: 0.45em 0.6em; margin: 0 0.25em; line-height: 1; border-radius: 0.35em;\">HIV<span style=\"font-size: 0.8em; font-weight: bold; line-height: 1; border-radius: 0.35em; text-transform: uppercase; vertical-align: middle; margin-left: 0.5rem\">DISO</span></mark> drug which is composed of two <mark class=\"entity\" style=\"background: #7FFFD4; padding: 0.45em 0.6em; margin: 0 0.25em; line-height: 1; border-radius: 0.35em;\">protease inhibitors<span style=\"font-size: 0.8em; font-weight: bold; line-height: 1; border-radius: 0.35em; text-transform: uppercase; vertical-align: middle; margin-left: 0.5rem\">PROC</span></mark>, <mark class=\"entity\" style=\"background: #B0C4DE; padding: 0.45em 0.6em; margin: 0 0.25em; line-height: 1; border-radius: 0.35em;\">ritonavir<span style=\"font-size: 0.8em; font-weight: bold; line-height: 1; border-radius: 0.35em; text-transform: uppercase; vertical-align: middle; margin-left: 0.5rem\">CHED</span></mark> (<mark class=\"entity\" style=\"background: #FFA07A; padding: 0.45em 0.6em; margin: 0 0.25em; line-height: 1; border-radius: 0.35em;\">CAS<span style=\"font-size: 0.8em; font-weight: bold; line-height: 1; border-radius: 0.35em; text-transform: uppercase; vertical-align: middle; margin-left: 0.5rem\">DISO</span></mark>#: 155213-67-5) and lopinavir (<mark class=\"entity\" style=\"background: #FFA07A; padding: 0.45em 0.6em; margin: 0 0.25em; line-height: 1; border-radius: 0.35em;\">CAS<span style=\"font-size: 0.8em; font-weight: bold; line-height: 1; border-radius: 0.35em; text-transform: uppercase; vertical-align: middle; margin-left: 0.5rem\">DISO</span></mark>#: 192725-17-0), might have therapeutic effect on <mark class=\"entity\" style=\"background: #D8BFD8; padding: 0.45em 0.6em; margin: 0 0.25em; line-height: 1; border-radius: 0.35em;\">coronavirus<span style=\"font-size: 0.8em; font-weight: bold; line-height: 1; border-radius: 0.35em; text-transform: uppercase; vertical-align: middle; margin-left: 0.5rem\">SPEC</span></mark> diseases like <mark class=\"entity\" style=\"background: #FFA07A; padding: 0.45em 0.6em; margin: 0 0.25em; line-height: 1; border-radius: 0.35em;\">SARS<span style=\"font-size: 0.8em; font-weight: bold; line-height: 1; border-radius: 0.35em; text-transform: uppercase; vertical-align: middle; margin-left: 0.5rem\">DISO</span></mark> and MERS [7] [8] [9] [10] . However, whether it can inhibit <mark class=\"entity\" style=\"background: #FFA07A; padding: 0.45em 0.6em; margin: 0 0.25em; line-height: 1; border-radius: 0.35em;\">SARS<span style=\"font-size: 0.8em; font-weight: bold; line-height: 1; border-radius: 0.35em; text-transform: uppercase; vertical-align: middle; margin-left: 0.5rem\">DISO</span></mark>-CoV-2 or treat <mark class=\"entity\" style=\"background: #FFA07A; padding: 0.45em 0.6em; margin: 0 0.25em; line-height: 1; border-radius: 0.35em;\">COVID-19<span style=\"font-size: 0.8em; font-weight: bold; line-height: 1; border-radius: 0.35em; text-transform: uppercase; vertical-align: middle; margin-left: 0.5rem\">DISO</span></mark> lacks clinical evidences and randomized clinical trials, and the safety of its use in <mark class=\"entity\" style=\"background: #FFA07A; padding: 0.45em 0.6em; margin: 0 0.25em; line-height: 1; border-radius: 0.35em;\">COVID-19<span style=\"font-size: 0.8em; font-weight: bold; line-height: 1; border-radius: 0.35em; text-transform: uppercase; vertical-align: middle; margin-left: 0.5rem\">DISO</span></mark> patients is unclear. Otherwise, Lanjuan <mark class=\"entity\" style=\"background: #D8BFD8; padding: 0.45em 0.6em; margin: 0 0.25em; line-height: 1; border-radius: 0.35em;\">Li<span style=\"font-size: 0.8em; font-weight: bold; line-height: 1; border-radius: 0.35em; text-transform: uppercase; vertical-align: middle; margin-left: 0.5rem\">SPEC</span></mark>, <mark class=\"entity\" style=\"background: #FFA07A; padding: 0.45em 0.6em; margin: 0 0.25em; line-height: 1; border-radius: 0.35em;\">infectious disease<span style=\"font-size: 0.8em; font-weight: bold; line-height: 1; border-radius: 0.35em; text-transform: uppercase; vertical-align: middle; margin-left: 0.5rem\">DISO</span></mark> scientist, academician of Chinese Academy of Engineering, recommended <mark class=\"entity\" style=\"background: #B0C4DE; padding: 0.45em 0.6em; margin: 0 0.25em; line-height: 1; border-radius: 0.35em;\">darunavir<span style=\"font-size: 0.8em; font-weight: bold; line-height: 1; border-radius: 0.35em; text-transform: uppercase; vertical-align: middle; margin-left: 0.5rem\">CHED</span></mark> (<mark class=\"entity\" style=\"background: #FFA07A; padding: 0.45em 0.6em; margin: 0 0.25em; line-height: 1; border-radius: 0.35em;\">CAS<span style=\"font-size: 0.8em; font-weight: bold; line-height: 1; border-radius: 0.35em; text-transform: uppercase; vertical-align: middle; margin-left: 0.5rem\">DISO</span></mark>#: 206361-99-1), also an <mark class=\"entity\" style=\"background: #BC8F8F; padding: 0.45em 0.6em; margin: 0 0.25em; line-height: 1; border-radius: 0.35em;\">HIV protease inhibitor<span style=\"font-size: 0.8em; font-weight: bold; line-height: 1; border-radius: 0.35em; text-transform: uppercase; vertical-align: middle; margin-left: 0.5rem\">PRGE</span></mark>, as a treatment for <mark class=\"entity\" style=\"background: #FFA07A; padding: 0.45em 0.6em; margin: 0 0.25em; line-height: 1; border-radius: 0.35em;\">COVID-19<span style=\"font-size: 0.8em; font-weight: bold; line-height: 1; border-radius: 0.35em; text-transform: uppercase; vertical-align: middle; margin-left: 0.5rem\">DISO</span></mark>. Although the inhibitory effect of darunavir on <mark class=\"entity\" style=\"background: #FFA07A; padding: 0.45em 0.6em; margin: 0 0.25em; line-height: 1; border-radius: 0.35em;\">SARS<span style=\"font-size: 0.8em; font-weight: bold; line-height: 1; border-radius: 0.35em; text-transform: uppercase; vertical-align: middle; margin-left: 0.5rem\">DISO</span></mark>-CoV-2 has been verified in vitro, its therapeutic effect on <mark class=\"entity\" style=\"background: #FFA07A; padding: 0.45em 0.6em; margin: 0 0.25em; line-height: 1; border-radius: 0.35em;\">COVID-19<span style=\"font-size: 0.8em; font-weight: bold; line-height: 1; border-radius: 0.35em; text-transform: uppercase; vertical-align: middle; margin-left: 0.5rem\">DISO</span></mark> is still unknown. At the same time, the mechanism of how these drugs inhibit <mark class=\"entity\" style=\"background: #FFA07A; padding: 0.45em 0.6em; margin: 0 0.25em; line-height: 1; border-radius: 0.35em;\">SARS<span style=\"font-size: 0.8em; font-weight: bold; line-height: 1; border-radius: 0.35em; text-transform: uppercase; vertical-align: middle; margin-left: 0.5rem\">DISO</span></mark>-CoV-2 is also unknown.</div><p>\n",
       "<a href = \"https://doi.org/10.1101/2020.01.31.929695\">[source]</a><hr>\n",
       "<h2> A data-driven drug repositioning framework discovered a potential therapeutic agent targeting COVID-19</h2> (<i>relevance: 0.7</i>)\n",
       "<h6> Yiyue Ge; Tingzhong Tian; Suling Huang; Fangping Wan; Jingxin Li; Shuya Li; Hui Yang; Lixiang Hong; Nian Wu; Enming Yuan; Lili Cheng; Yipin Lei; Hantao Shu; Xiaolong Feng; Ziyuan Jiang; Ying Chi; Xiling Guo; Lunbiao Cui; Liang Xiao; Zeng Li; Chunhao Yang; Zehong Miao; Haidong Tang; Ligong Chen; Hainian Zeng; Dan Zhao; Fengcai Zhu; Xiaokun Shen; Jianyang Zeng</h6>\n",
       "<p><div class=\"entities\" style=\"line-height: 2.5; direction: ltr\">The outbreak of the <mark class=\"entity\" style=\"background: #FFA07A; padding: 0.45em 0.6em; margin: 0 0.25em; line-height: 1; border-radius: 0.35em;\">pneumonia<span style=\"font-size: 0.8em; font-weight: bold; line-height: 1; border-radius: 0.35em; text-transform: uppercase; vertical-align: middle; margin-left: 0.5rem\">DISO</span></mark> named <mark class=\"entity\" style=\"background: #FFA07A; padding: 0.45em 0.6em; margin: 0 0.25em; line-height: 1; border-radius: 0.35em;\">COVID-19<span style=\"font-size: 0.8em; font-weight: bold; line-height: 1; border-radius: 0.35em; text-transform: uppercase; vertical-align: middle; margin-left: 0.5rem\">DISO</span></mark> caused by the <mark class=\"entity\" style=\"background: #D8BFD8; padding: 0.45em 0.6em; margin: 0 0.25em; line-height: 1; border-radius: 0.35em;\">novel coronavirus SARS<span style=\"font-size: 0.8em; font-weight: bold; line-height: 1; border-radius: 0.35em; text-transform: uppercase; vertical-align: middle; margin-left: 0.5rem\">SPEC</span></mark>-CoV-2 (2019-nCoV) has infected over 110,000 people worldwide by 8th March, 2020. Apart from China, other countries or regions including South Korea, Iran, and Europe have reported a rapid increase in the number of <mark class=\"entity\" style=\"background: #FFA07A; padding: 0.45em 0.6em; margin: 0 0.25em; line-height: 1; border-radius: 0.35em;\">COVID-19<span style=\"font-size: 0.8em; font-weight: bold; line-height: 1; border-radius: 0.35em; text-transform: uppercase; vertical-align: middle; margin-left: 0.5rem\">DISO</span></mark> cases, implying that this <mark class=\"entity\" style=\"background: #D8BFD8; padding: 0.45em 0.6em; margin: 0 0.25em; line-height: 1; border-radius: 0.35em;\">novel coronavirus<span style=\"font-size: 0.8em; font-weight: bold; line-height: 1; border-radius: 0.35em; text-transform: uppercase; vertical-align: middle; margin-left: 0.5rem\">SPEC</span></mark> has posed a global health threat. Under the current circumstance of the absence of the specific vaccines and medicines against <mark class=\"entity\" style=\"background: #FFA07A; padding: 0.45em 0.6em; margin: 0 0.25em; line-height: 1; border-radius: 0.35em;\">SARS<span style=\"font-size: 0.8em; font-weight: bold; line-height: 1; border-radius: 0.35em; text-transform: uppercase; vertical-align: middle; margin-left: 0.5rem\">DISO</span></mark>-CoV-2, it is urgent to discover effective therapies especially drugs to treat the resulting <mark class=\"entity\" style=\"background: #FFA07A; padding: 0.45em 0.6em; margin: 0 0.25em; line-height: 1; border-radius: 0.35em;\">COVID-19<span style=\"font-size: 0.8em; font-weight: bold; line-height: 1; border-radius: 0.35em; text-transform: uppercase; vertical-align: middle; margin-left: 0.5rem\">DISO</span></mark> disease and prevent the <mark class=\"entity\" style=\"background: #D8BFD8; padding: 0.45em 0.6em; margin: 0 0.25em; line-height: 1; border-radius: 0.35em;\">virus<span style=\"font-size: 0.8em; font-weight: bold; line-height: 1; border-radius: 0.35em; text-transform: uppercase; vertical-align: middle; margin-left: 0.5rem\">SPEC</span></mark> from further spreading. Considering that the <mark class=\"entity\" style=\"background: #7FFFD4; padding: 0.45em 0.6em; margin: 0 0.25em; line-height: 1; border-radius: 0.35em;\">development<span style=\"font-size: 0.8em; font-weight: bold; line-height: 1; border-radius: 0.35em; text-transform: uppercase; vertical-align: middle; margin-left: 0.5rem\">PROC</span></mark> of a new drug generally takes years, probably the best therapeutic shortcut is to apply the drug repositioning strategy (i.e., finding the new uses of old drugs) [1, 2, 3] to identify the potential <mark class=\"entity\" style=\"background: #B0C4DE; padding: 0.45em 0.6em; margin: 0 0.25em; line-height: 1; border-radius: 0.35em;\">antiviral<span style=\"font-size: 0.8em; font-weight: bold; line-height: 1; border-radius: 0.35em; text-transform: uppercase; vertical-align: middle; margin-left: 0.5rem\">CHED</span></mark> effects against <mark class=\"entity\" style=\"background: #FFA07A; padding: 0.45em 0.6em; margin: 0 0.25em; line-height: 1; border-radius: 0.35em;\">SARS<span style=\"font-size: 0.8em; font-weight: bold; line-height: 1; border-radius: 0.35em; text-transform: uppercase; vertical-align: middle; margin-left: 0.5rem\">DISO</span></mark>-CoV-2 of existing drugs that have been approved for clinical use or to enter clinical trials. Those existing drugs with potent <mark class=\"entity\" style=\"background: #B0C4DE; padding: 0.45em 0.6em; margin: 0 0.25em; line-height: 1; border-radius: 0.35em;\">antiviral<span style=\"font-size: 0.8em; font-weight: bold; line-height: 1; border-radius: 0.35em; text-transform: uppercase; vertical-align: middle; margin-left: 0.5rem\">CHED</span></mark> efficacy can be directly applied to treat <mark class=\"entity\" style=\"background: #FFA07A; padding: 0.45em 0.6em; margin: 0 0.25em; line-height: 1; border-radius: 0.35em;\">COVID-19<span style=\"font-size: 0.8em; font-weight: bold; line-height: 1; border-radius: 0.35em; text-transform: uppercase; vertical-align: middle; margin-left: 0.5rem\">DISO</span></mark> in a short time, as their safety has been verified in principle in clinical trials.</div><p>\n",
       "<a href = \"https://doi.org/10.1101/2020.03.11.986836\">[source]</a><hr>\n",
       "<h2> Science in the fight against the novel coronavirus disease</h2> (<i>relevance: 0.69</i>)\n",
       "<h6> Wang, Jian-Wei; Cao, Bin; Wang, Chen</h6>\n",
       "<p><div class=\"entities\" style=\"line-height: 2.5; direction: ltr\">Effective therapeutics and <mark class=\"entity\" style=\"background: #B0C4DE; padding: 0.45em 0.6em; margin: 0 0.25em; line-height: 1; border-radius: 0.35em;\">antivirals<span style=\"font-size: 0.8em; font-weight: bold; line-height: 1; border-radius: 0.35em; text-transform: uppercase; vertical-align: middle; margin-left: 0.5rem\">CHED</span></mark> are urgently needed to decrease <mark class=\"entity\" style=\"background: #FFA07A; padding: 0.45em 0.6em; margin: 0 0.25em; line-height: 1; border-radius: 0.35em;\">COVID-19<span style=\"font-size: 0.8em; font-weight: bold; line-height: 1; border-radius: 0.35em; text-transform: uppercase; vertical-align: middle; margin-left: 0.5rem\">DISO</span></mark> mortality. As specific therapies <mark class=\"entity\" style=\"background: #7FFFD4; padding: 0.45em 0.6em; margin: 0 0.25em; line-height: 1; border-radius: 0.35em;\">targeting<span style=\"font-size: 0.8em; font-weight: bold; line-height: 1; border-radius: 0.35em; text-transform: uppercase; vertical-align: middle; margin-left: 0.5rem\">PROC</span></mark> 2019-nCoV are lacking, it may be useful to repurpose drugs already licensed for marketing or clinical trials to treat <mark class=\"entity\" style=\"background: #FFA07A; padding: 0.45em 0.6em; margin: 0 0.25em; line-height: 1; border-radius: 0.35em;\">COVID-19<span style=\"font-size: 0.8em; font-weight: bold; line-height: 1; border-radius: 0.35em; text-transform: uppercase; vertical-align: middle; margin-left: 0.5rem\">DISO</span></mark> patients in an <mark class=\"entity\" style=\"background: #FFA07A; padding: 0.45em 0.6em; margin: 0 0.25em; line-height: 1; border-radius: 0.35em;\">emergency<span style=\"font-size: 0.8em; font-weight: bold; line-height: 1; border-radius: 0.35em; text-transform: uppercase; vertical-align: middle; margin-left: 0.5rem\">DISO</span></mark> response; researchers are actively working to identify such drugs. At the time of preparation of this manuscript, the Chinese Academy of Medical Sciences and the China-Japan Friendship Hospital had launched a multi-center, randomized, double-<mark class=\"entity\" style=\"background: #FFA07A; padding: 0.45em 0.6em; margin: 0 0.25em; line-height: 1; border-radius: 0.35em;\">blind<span style=\"font-size: 0.8em; font-weight: bold; line-height: 1; border-radius: 0.35em; text-transform: uppercase; vertical-align: middle; margin-left: 0.5rem\">DISO</span></mark>, placebocontrolled clinical trial in Wuhan to test the effectiveness of remdesivir as an <mark class=\"entity\" style=\"background: #B0C4DE; padding: 0.45em 0.6em; margin: 0 0.25em; line-height: 1; border-radius: 0.35em;\">antiviral drug<span style=\"font-size: 0.8em; font-weight: bold; line-height: 1; border-radius: 0.35em; text-transform: uppercase; vertical-align: middle; margin-left: 0.5rem\">CHED</span></mark> against 2019-nCoV, [12, 13] and studies have already shown that <mark class=\"entity\" style=\"background: #B0C4DE; padding: 0.45em 0.6em; margin: 0 0.25em; line-height: 1; border-radius: 0.35em;\">chloroquine phosphate<span style=\"font-size: 0.8em; font-weight: bold; line-height: 1; border-radius: 0.35em; text-transform: uppercase; vertical-align: middle; margin-left: 0.5rem\">CHED</span></mark> is an effective treatment for <mark class=\"entity\" style=\"background: #FFA07A; padding: 0.45em 0.6em; margin: 0 0.25em; line-height: 1; border-radius: 0.35em;\">COVID-19<span style=\"font-size: 0.8em; font-weight: bold; line-height: 1; border-radius: 0.35em; text-transform: uppercase; vertical-align: middle; margin-left: 0.5rem\">DISO</span></mark>. [14] Clinical trials are also underway to validate the effectiveness of various other licensed drugs against <mark class=\"entity\" style=\"background: #FFA07A; padding: 0.45em 0.6em; margin: 0 0.25em; line-height: 1; border-radius: 0.35em;\">COVID-19<span style=\"font-size: 0.8em; font-weight: bold; line-height: 1; border-radius: 0.35em; text-transform: uppercase; vertical-align: middle; margin-left: 0.5rem\">DISO</span></mark>.</div><p>\n",
       "<a href = \"https://doi.org/10.1097/CM9.0000000000000777\">[source]</a><hr>\n",
       "<h2> Development of CRISPR as a prophylactic strategy to combat novel coronavirus and influenza</h2> (<i>relevance: 0.68</i>)\n",
       "<h6> Timothy R. Abbott; Girija Dhamdhere; Yanxia Liu; Xueqiu Lin; Laine Goudy; Leiping Zeng; Augustine Chemparathy; Stephen Chmura; Nicholas S. Heaton; Robert Debs; Tara Pande; Drew Endy; Marie La Russa; David B. Lewis; Lei S. Qi</h6>\n",
       "<p><div class=\"entities\" style=\"line-height: 2.5; direction: ltr\">Notably, the <mark class=\"entity\" style=\"background: #BC8F8F; padding: 0.45em 0.6em; margin: 0 0.25em; line-height: 1; border-radius: 0.35em;\">SARS-CoV-2 RdRP gene<span style=\"font-size: 0.8em; font-weight: bold; line-height: 1; border-radius: 0.35em; text-transform: uppercase; vertical-align: middle; margin-left: 0.5rem\">PRGE</span></mark> and <mark class=\"entity\" style=\"background: #BC8F8F; padding: 0.45em 0.6em; margin: 0 0.25em; line-height: 1; border-radius: 0.35em;\">IAV NA gene<span style=\"font-size: 0.8em; font-weight: bold; line-height: 1; border-radius: 0.35em; text-transform: uppercase; vertical-align: middle; margin-left: 0.5rem\">PRGE</span></mark> that we <mark class=\"entity\" style=\"background: #7FFFD4; padding: 0.45em 0.6em; margin: 0 0.25em; line-height: 1; border-radius: 0.35em;\">targeted<span style=\"font-size: 0.8em; font-weight: bold; line-height: 1; border-radius: 0.35em; text-transform: uppercase; vertical-align: middle; margin-left: 0.5rem\">PROC</span></mark> in our study are also the targets of two <mark class=\"entity\" style=\"background: #B0C4DE; padding: 0.45em 0.6em; margin: 0 0.25em; line-height: 1; border-radius: 0.35em;\">antiviral drugs<span style=\"font-size: 0.8em; font-weight: bold; line-height: 1; border-radius: 0.35em; text-transform: uppercase; vertical-align: middle; margin-left: 0.5rem\">CHED</span></mark>, Remdesivir and <mark class=\"entity\" style=\"background: #B0C4DE; padding: 0.45em 0.6em; margin: 0 0.25em; line-height: 1; border-radius: 0.35em;\">Oseltamivir<span style=\"font-size: 0.8em; font-weight: bold; line-height: 1; border-radius: 0.35em; text-transform: uppercase; vertical-align: middle; margin-left: 0.5rem\">CHED</span></mark>. Remdesivir, created by Gilead Sciences (<mark class=\"entity\" style=\"background: #7FFFD4; padding: 0.45em 0.6em; margin: 0 0.25em; line-height: 1; border-radius: 0.35em;\">development<span style=\"font-size: 0.8em; font-weight: bold; line-height: 1; border-radius: 0.35em; text-transform: uppercase; vertical-align: middle; margin-left: 0.5rem\">PROC</span></mark> code <mark class=\"entity\" style=\"background: #B0C4DE; padding: 0.45em 0.6em; margin: 0 0.25em; line-height: 1; border-radius: 0.35em;\">GS-5734<span style=\"font-size: 0.8em; font-weight: bold; line-height: 1; border-radius: 0.35em; text-transform: uppercase; vertical-align: middle; margin-left: 0.5rem\">CHED</span></mark>), is an <mark class=\"entity\" style=\"background: #FFC0CB; padding: 0.45em 0.6em; margin: 0 0.25em; line-height: 1; border-radius: 0.35em;\">RdRP inhibitor<span style=\"font-size: 0.8em; font-weight: bold; line-height: 1; border-radius: 0.35em; text-transform: uppercase; vertical-align: middle; margin-left: 0.5rem\">FUNC</span></mark> that was developed to treat Ebola and <mark class=\"entity\" style=\"background: #D8BFD8; padding: 0.45em 0.6em; margin: 0 0.25em; line-height: 1; border-radius: 0.35em;\">Marburg virus infections<span style=\"font-size: 0.8em; font-weight: bold; line-height: 1; border-radius: 0.35em; text-transform: uppercase; vertical-align: middle; margin-left: 0.5rem\">SPEC</span></mark> and has been reported to have <mark class=\"entity\" style=\"background: #B0C4DE; padding: 0.45em 0.6em; margin: 0 0.25em; line-height: 1; border-radius: 0.35em;\">antiviral<span style=\"font-size: 0.8em; font-weight: bold; line-height: 1; border-radius: 0.35em; text-transform: uppercase; vertical-align: middle; margin-left: 0.5rem\">CHED</span></mark> activity against MERS and <mark class=\"entity\" style=\"background: #FFA07A; padding: 0.45em 0.6em; margin: 0 0.25em; line-height: 1; border-radius: 0.35em;\">SARS<span style=\"font-size: 0.8em; font-weight: bold; line-height: 1; border-radius: 0.35em; text-transform: uppercase; vertical-align: middle; margin-left: 0.5rem\">DISO</span></mark> 36-38 . Remdesivir is already administered for <mark class=\"entity\" style=\"background: #FFA07A; padding: 0.45em 0.6em; margin: 0 0.25em; line-height: 1; border-radius: 0.35em;\">COVID-19<span style=\"font-size: 0.8em; font-weight: bold; line-height: 1; border-radius: 0.35em; text-transform: uppercase; vertical-align: middle; margin-left: 0.5rem\">DISO</span></mark> through compassionate use requests, and clinical trials for its use against <mark class=\"entity\" style=\"background: #FFA07A; padding: 0.45em 0.6em; margin: 0 0.25em; line-height: 1; border-radius: 0.35em;\">COVID-19<span style=\"font-size: 0.8em; font-weight: bold; line-height: 1; border-radius: 0.35em; text-transform: uppercase; vertical-align: middle; margin-left: 0.5rem\">DISO</span></mark> have already started in the U.S.</div><p>\n",
       "<a href = \"https://doi.org/10.1101/2020.03.13.991307\">[source]</a><hr>\n",
       "<h2> The 2019 coronavirus (SARS-CoV-2) surface protein (Spike) S1 Receptor Binding Domain undergoes conformational change upon heparin binding.</h2> (<i>relevance: 0.68</i>)\n",
       "<h6> Mycroft-West, C. J.; Su, D.; Elli, S.; Guimond, S. E.; Miller, G. J.; Turnbull, J. E.; Yates, E. A.; Guerrini, M.; Fernig, D. G.; Andrade de Lima, M.; Skidmore, M. A.</h6>\n",
       "<p><div class=\"entities\" style=\"line-height: 2.5; direction: ltr\">Currently, there are no commercially available medicinal products designed to treat and/or prevent <mark class=\"entity\" style=\"background: #FFA07A; padding: 0.45em 0.6em; margin: 0 0.25em; line-height: 1; border-radius: 0.35em;\">infections<span style=\"font-size: 0.8em; font-weight: bold; line-height: 1; border-radius: 0.35em; text-transform: uppercase; vertical-align: middle; margin-left: 0.5rem\">DISO</span></mark> associated with the new <mark class=\"entity\" style=\"background: #FFA07A; padding: 0.45em 0.6em; margin: 0 0.25em; line-height: 1; border-radius: 0.35em;\">SARS<span style=\"font-size: 0.8em; font-weight: bold; line-height: 1; border-radius: 0.35em; text-transform: uppercase; vertical-align: middle; margin-left: 0.5rem\">DISO</span></mark>-CoV-2 <mark class=\"entity\" style=\"background: #D8BFD8; padding: 0.45em 0.6em; margin: 0 0.25em; line-height: 1; border-radius: 0.35em;\">coronavirus<span style=\"font-size: 0.8em; font-weight: bold; line-height: 1; border-radius: 0.35em; text-transform: uppercase; vertical-align: middle; margin-left: 0.5rem\">SPEC</span></mark> outbreak. Here, we describe preliminary tests for the ability of the <mark class=\"entity\" style=\"background: #FFA07A; padding: 0.45em 0.6em; margin: 0 0.25em; line-height: 1; border-radius: 0.35em;\">SARS<span style=\"font-size: 0.8em; font-weight: bold; line-height: 1; border-radius: 0.35em; text-transform: uppercase; vertical-align: middle; margin-left: 0.5rem\">DISO</span></mark>-CoV-2 S1 RBD to <mark class=\"entity\" style=\"background: #FFC0CB; padding: 0.45em 0.6em; margin: 0 0.25em; line-height: 1; border-radius: 0.35em;\">bind heparin<span style=\"font-size: 0.8em; font-weight: bold; line-height: 1; border-radius: 0.35em; text-transform: uppercase; vertical-align: middle; margin-left: 0.5rem\">FUNC</span></mark>, an important prerequisite for the underpinning research related to the <mark class=\"entity\" style=\"background: #7FFFD4; padding: 0.45em 0.6em; margin: 0 0.25em; line-height: 1; border-radius: 0.35em;\">development<span style=\"font-size: 0.8em; font-weight: bold; line-height: 1; border-radius: 0.35em; text-transform: uppercase; vertical-align: middle; margin-left: 0.5rem\">PROC</span></mark> of <mark class=\"entity\" style=\"background: #FFA07A; padding: 0.45em 0.6em; margin: 0 0.25em; line-height: 1; border-radius: 0.35em;\">SARS<span style=\"font-size: 0.8em; font-weight: bold; line-height: 1; border-radius: 0.35em; text-transform: uppercase; vertical-align: middle; margin-left: 0.5rem\">DISO</span></mark>-CoV-2 <mark class=\"entity\" style=\"background: #B0C4DE; padding: 0.45em 0.6em; margin: 0 0.25em; line-height: 1; border-radius: 0.35em;\">heparin<span style=\"font-size: 0.8em; font-weight: bold; line-height: 1; border-radius: 0.35em; text-transform: uppercase; vertical-align: middle; margin-left: 0.5rem\">CHED</span></mark>-based therapeutic.</div><p>\n",
       "<a href = \"https://doi.org/10.1101/2020.02.29.971093\">[source]</a>"
      ],
      "text/plain": [
       "<IPython.core.display.HTML object>"
      ]
     },
     "metadata": {},
     "output_type": "display_data"
    }
   ],
   "source": [
    "if top_results_:\n",
    "    display(HTML('<hr>\\n'.join(convert_html(top_results_, index_score))))\n",
    " \n",
    "    "
   ]
  },
  {
   "cell_type": "code",
   "execution_count": null,
   "metadata": {},
   "outputs": [],
   "source": []
  }
 ],
 "metadata": {
  "kernelspec": {
   "display_name": "Python [conda env:scispacy]",
   "language": "python",
   "name": "conda-env-scispacy-py"
  },
  "language_info": {
   "codemirror_mode": {
    "name": "ipython",
    "version": 3
   },
   "file_extension": ".py",
   "mimetype": "text/x-python",
   "name": "python",
   "nbconvert_exporter": "python",
   "pygments_lexer": "ipython3",
   "version": "3.6.9"
  }
 },
 "nbformat": 4,
 "nbformat_minor": 4
}
