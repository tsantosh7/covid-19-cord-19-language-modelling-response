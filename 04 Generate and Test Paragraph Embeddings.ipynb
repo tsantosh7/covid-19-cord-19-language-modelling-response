{
 "cells": [
  {
   "cell_type": "code",
   "execution_count": 1,
   "metadata": {},
   "outputs": [],
   "source": [
    "import fse # fast sentence embeddings\n",
    "\n",
    "from gensim.models import KeyedVectors\n",
    "\n",
    "path_w2v = '/home/santosh/Work/models/word2vec/CORD-19/CORD-10-w2v_200d_5w_10i_3mc.bin'\n",
    "\n",
    "covid_trained_model = KeyedVectors.load_word2vec_format(path_w2v, binary=True)"
   ]
  },
  {
   "cell_type": "code",
   "execution_count": 2,
   "metadata": {},
   "outputs": [],
   "source": [
    "# Here I am using word embeddings from the CORD-19\n",
    "import glob\n",
    "import nltk\n",
    "import logging\n",
    "import os\n",
    "from tqdm import tqdm\n",
    "\n",
    "# start the log\n",
    "logging.basicConfig(format='%(asctime)s : %(levelname)s : %(message)s',level=logging.INFO)\n",
    "\n",
    "# get the current working directory and file\n",
    "result_dir_path = '/home/santosh/Work/Datasets/CORD-19-paragraphs/'\n",
    "\n",
    "root_path = '/home/santosh/Work/Datasets/CORD-19-research-challenge/'\n",
    "paths = ['biorxiv_medrxiv/biorxiv_medrxiv/',\n",
    "        'comm_use_subset/comm_use_subset/',\n",
    "        'noncomm_use_subset/noncomm_use_subset/']\n",
    "\n",
    "\n"
   ]
  },
  {
   "cell_type": "code",
   "execution_count": 10,
   "metadata": {},
   "outputs": [],
   "source": [
    "# get all the jsosn\n",
    "import json\n",
    "\n",
    "all_jsons =[]\n",
    "for json_path in paths:\n",
    "     all_jsons.extend(sorted(glob.glob(root_path+json_path + '*.json*')))\n"
   ]
  },
  {
   "cell_type": "code",
   "execution_count": 12,
   "metadata": {},
   "outputs": [
    {
     "name": "stderr",
     "output_type": "stream",
     "text": [
      "100%|██████████| 12356/12356 [00:59<00:00, 209.41it/s]\n"
     ]
    }
   ],
   "source": [
    "# extract sentences\n",
    "\n",
    "for each_json_file in tqdm(all_jsons):\n",
    "    with open(each_json_file) as json_file:\n",
    "        data = json.load(json_file)\n",
    "\n",
    "        full_text = []\n",
    "\n",
    "        try:\n",
    "            for each_text in data['abstract']:\n",
    "                full_text.append(each_text['text'])\n",
    "        except:\n",
    "                pass\n",
    "\n",
    "        try:\n",
    "            for each_text in data['body_text']:\n",
    "                full_text.append(each_text['text'])\n",
    "        except:\n",
    "                pass\n",
    "        \n",
    "        with open(result_dir_path+each_json_file.split('/')[-1][:-5]+'.txt', 'a') as writer:\n",
    "            for each_para in full_text:\n",
    "                    if 'word count' not in each_para and 'All rights reserved' not in each_para and 'No reuse allowed without permission' not in each_para:\n",
    "                        writer.write(each_para+'\\n')     "
   ]
  },
  {
   "cell_type": "code",
   "execution_count": 3,
   "metadata": {},
   "outputs": [
    {
     "name": "stderr",
     "output_type": "stream",
     "text": [
      "100%|██████████| 12356/12356 [07:11<00:00, 28.60it/s]\n"
     ]
    }
   ],
   "source": [
    "paragraphs = []\n",
    "\n",
    "all_text_files = sorted(glob.glob(result_dir_path + '*.txt*'))\n",
    "\n",
    "for each_text_file in tqdm(all_text_files):\n",
    "    with open(each_text_file, 'r') as f:\n",
    "        temp_ = f.readlines()\n",
    "        for each_line in temp_:\n",
    "            paragraphs.append(nltk.word_tokenize(each_line))\n",
    "  "
   ]
  },
  {
   "cell_type": "code",
   "execution_count": 4,
   "metadata": {},
   "outputs": [],
   "source": [
    "from fse import IndexedList\n",
    "paragraphs_index = IndexedList(paragraphs)"
   ]
  },
  {
   "cell_type": "code",
   "execution_count": 5,
   "metadata": {},
   "outputs": [],
   "source": [
    "import pickle\n",
    "\n",
    "def dump(data,filename):\n",
    "    file = open(result_dir_path+filename+'.bin','wb')\n",
    "    pickle.dump(data, file)\n",
    "    file.close()"
   ]
  },
  {
   "cell_type": "code",
   "execution_count": 6,
   "metadata": {},
   "outputs": [],
   "source": [
    "result_dir_path = '/home/santosh/Work/models/word2vec/CORD-19/'\n",
    "dump(paragraphs_index, 'paragraphs_index')"
   ]
  },
  {
   "cell_type": "code",
   "execution_count": 8,
   "metadata": {},
   "outputs": [
    {
     "name": "stderr",
     "output_type": "stream",
     "text": [
      "2020-03-29 21:48:05,006 : INFO : no frequency mode: using wordfreq for estimation of frequency for language: en\n",
      "2020-03-29 21:48:05,165 : INFO : scanning all indexed sentences and their word counts\n",
      "2020-03-29 21:48:05,628 : INFO : finished scanning 413898 sentences with an average length of 158 and 65397441 total words\n",
      "2020-03-29 21:48:05,676 : INFO : estimated memory for 413898 sentences with 200 dimensions and 241336 vocabulary: 500 MB (0 GB)\n",
      "2020-03-29 21:48:05,677 : INFO : initializing sentence vectors for 413898 sentences\n",
      "2020-03-29 21:48:07,008 : INFO : pre-computing uSIF weights for 241336 words\n",
      "2020-03-29 21:48:07,524 : INFO : begin training\n",
      "2020-03-29 21:48:12,530 : INFO : PROGRESS : finished 42.06% with 174083 sentences and 13559343 words, 34816 sentences/s\n",
      "2020-03-29 21:48:17,533 : INFO : PROGRESS : finished 83.86% with 347097 sentences and 27192688 words, 34602 sentences/s\n",
      "2020-03-29 21:48:19,584 : INFO : worker thread finished; awaiting finish of 3 more threads\n",
      "2020-03-29 21:48:19,585 : INFO : worker thread finished; awaiting finish of 2 more threads\n",
      "2020-03-29 21:48:19,586 : INFO : worker thread finished; awaiting finish of 1 more threads\n",
      "2020-03-29 21:48:19,587 : INFO : worker thread finished; awaiting finish of 0 more threads\n",
      "2020-03-29 21:48:22,634 : INFO : computing 5 principal components took 3s\n",
      "2020-03-29 21:48:23,018 : INFO : removing 5 principal components took 0s\n",
      "2020-03-29 21:48:23,019 : INFO : training on 413898 effective sentences with 32531620 effective words took 12s with 34310 sentences/s\n"
     ]
    },
    {
     "data": {
      "text/plain": [
       "(413898, 32531620)"
      ]
     },
     "execution_count": 8,
     "metadata": {},
     "output_type": "execute_result"
    }
   ],
   "source": [
    "# SIF embeddings\n",
    "from fse.models import uSIF\n",
    "sif_model = uSIF(covid_trained_model, workers=4, lang_freq=\"en\")\n",
    "\n",
    "sif_model.train(paragraphs_index)"
   ]
  },
  {
   "cell_type": "code",
   "execution_count": 9,
   "metadata": {},
   "outputs": [
    {
     "name": "stderr",
     "output_type": "stream",
     "text": [
      "2020-03-29 21:48:53,520 : INFO : saving uSIF object under /home/santosh/Work/models/word2vec/CORD-19/CORD-19-p2v_sif.bin, separately None\n",
      "2020-03-29 21:48:53,523 : INFO : storing np array 'vectors' to /home/santosh/Work/models/word2vec/CORD-19/CORD-19-p2v_sif.bin.wv.vectors.npy\n",
      "2020-03-29 21:48:53,626 : INFO : storing np array 'vectors' to /home/santosh/Work/models/word2vec/CORD-19/CORD-19-p2v_sif.bin.sv.vectors.npy\n",
      "2020-03-29 21:48:54,216 : INFO : saved /home/santosh/Work/models/word2vec/CORD-19/CORD-19-p2v_sif.bin\n"
     ]
    }
   ],
   "source": [
    "sif_model.save(result_dir_path+'CORD-19-p2v_sif.bin')"
   ]
  },
  {
   "cell_type": "code",
   "execution_count": 10,
   "metadata": {},
   "outputs": [],
   "source": [
    "import re\n",
    "def untokenize(words):\n",
    "    \"\"\"\n",
    "    Untokenizing a text undoes the tokenizing operation, restoring\n",
    "    punctuation and spaces to the places that people expect them to be.\n",
    "    Ideally, `untokenize(tokenize(text))` should be identical to `text`,\n",
    "    except for line breaks.\n",
    "    \"\"\"\n",
    "    text = ' '.join(words)\n",
    "    step1 = text.replace(\"`` \", '\"').replace(\" ''\", '\"').replace('. . .',  '...')\n",
    "    step2 = step1.replace(\" ( \", \" (\").replace(\" ) \", \") \")\n",
    "    step3 = re.sub(r' ([.,:;?!%]+)([ \\'\"`])', r\"\\1\\2\", step2)\n",
    "    step4 = re.sub(r' ([.,:;?!%]+)$', r\"\\1\", step3)\n",
    "    step5 = step4.replace(\" '\", \"'\").replace(\" n't\", \"n't\").replace(\n",
    "         \"can not\", \"cannot\")\n",
    "    step6 = step5.replace(\" ` \", \" '\")\n",
    "    step7 = step6.replace(\"[ \", \"[\").replace(\" ]\", \"]\")\n",
    "    return step7.strip()\n",
    "\n",
    "def extract_query_result(sv_query_result):\n",
    "    result_sentences =[]\n",
    "    for each_result in sv_query_result:\n",
    "        result_sentences.append(untokenize(each_result[0]))\n",
    "     \n",
    "    return result_sentences"
   ]
  },
  {
   "cell_type": "code",
   "execution_count": 19,
   "metadata": {},
   "outputs": [
    {
     "name": "stderr",
     "output_type": "stream",
     "text": [
      "2020-03-29 22:01:17,062 : INFO : scanning all indexed sentences and their word counts\n",
      "2020-03-29 22:01:17,065 : INFO : finished scanning 1 sentences with an average length of 3 and 3 total words\n",
      "2020-03-29 22:01:17,067 : INFO : removing 5 principal components took 0s\n"
     ]
    },
    {
     "data": {
      "text/plain": [
       "['• Incubation: 2 days.',\n",
       " '• Incubation: 14 days.',\n",
       " '• Incubation: 14 days.',\n",
       " '• Incubation: 2 days.',\n",
       " '• Incubation: 5-15 days.',\n",
       " '• Incubation: 5-15 days.',\n",
       " '• Incubation: 2-3 days.',\n",
       " '• Incubation: 2-3 days.',\n",
       " '. Distribution of Ebola virus incubation period (from exposure to symptoms), by days of incubation Notes: Adapted from Legrand et al. [3] and Eichner et al. [4]. *Frequency related to the number of patients out of a total of 5,000. Source: Meltzer et al. [1]',\n",
       " 'We fit a log-normal distribution to pooled data and found the median incubation period to be 4.5 days (95% CI 3.9-5.2 days) for astrovirus, 1.2 days (95% CI 1.1-1.2 days) for norovirus genogroups I and II, 1.7 days (95% CI 1.5-1.8 days) for sapovirus, and 2.0 days (95% CI 1.4-2.4 days) for rotavirus.',\n",
       " 'The incubation period of MERS-Co V ranges from 2 to 14 days. (Zaki, 2012).',\n",
       " 'The incubation period of MERS-Co V ranges from 2 to 14 days. (Zaki, 2012).',\n",
       " 'Tg S (t) (days )',\n",
       " '1-2 days [1], 2.62 days [2], and 1-5 days [3] between infection and symptom onset.',\n",
       " 'where, T 1 is the mean incubation.',\n",
       " 'Intrinsic incubation period; Lognormal distributed with mean 4.6 days and CoV 0.36',\n",
       " '-Number of antibiotic-free days.',\n",
       " '-Number of antibiotic-free days.',\n",
       " 'Estimates and credible regions for incubation period distribution parameters for Ebola, MERS-CoV, and smallpox are shown in Figure 2. Consistent with other studies that used the same data, (8, 9, 12) we estimated that half of all cases of Ebola will have an incubation period of less than 8.9 days (95% CI: 8.0-9.8), of MERS-CoV less than 6.9 days (95% CI: 6.3-7.5) and of smallpox less than 12.2 days (95% CI: 12.0-12.4).',\n",
       " 'Time Course Analysis. The manufacture of FI-RSV required RSV to be exposed to a 0.025% formalin for 72 hours at 36 °C. We produced FI-RSV by incubating RSV with 0.025% formalin at 37 °C for up to 96 hours. Viruses are sampled for antigenic analysis and infectivity every 24 hours over a 96 hour-interval after incubation at 25 °C, 30 °C, 37 °C or 39 °C.',\n",
       " 'Immunofluorescence protocol. After 2-4 days of incubation for CPE study, the supernatant was removed.',\n",
       " 'The incubation period of SARS is 1-4 days [33]. However, in a small number of patients, the incubation period may be longer than 10 days [34]. It has been demonstrated that the latency of COVID-19 varies from 3-7 days on average, for up to 14 days [35]. During this incubation period, patients are contagious, and it has been reported that each case infected on average 3.77 other people (uncertainty range 2.23-4.82) [36]. By comparison, we found that the average latency of COVID-19 is slightly longer than that of SARS.',\n",
       " 'The incubation period of SARS is 1-4 days [33]. However, in a small number of patients, the incubation period may be longer than 10 days [34]. It has been demonstrated that the latency of COVID-19 varies from 3-7 days on average, for up to 14 days [35]. During this incubation period, patients are contagious, and it has been reported that each case infected on average 3.77 other people (uncertainty range 2.23-4.82) [36]. By comparison, we found that the average latency of COVID-19 is slightly longer than that of SARS.',\n",
       " '\\uf06c Second, E → I. Relevant evidence shows that the longest incubation period for 2019-nCoV is 14 days and the shortest is 1 day. The Exposed status (E) may be transformed into an infected status (I) after the incubation period.',\n",
       " 'The copyright holder for this preprint. https: //doi.org/10.1101/2020.02.28.20028068 doi: medRxiv preprint 13 from the first positive test to RT-PCR conversion was 9.71 days. SARS-CoV-2 might be present in patients for around 18 days by adding the mean incubation of 8.42 days.',\n",
       " 'The optimal time between deliveries of WNV replicon RNA by RP inoculation and delivery of packaging vector RNA by FlyFectin was investigated. C6/36 cells were inoculated with BHK-RPs, and 24, 48, or 72 hpi, cells were transfected with packaging vector RNA. Twentyfour hours after transfection, the medium was harvested and replaced every 24 hours until the 13 th day of culture (8, 9, and 10 days post-lipofection for 24, 48, and 72 hour delay, respectively). A transfection delay of 24 hours yielded titers less than 10 6 RPs/mL/day from 3-10 days post-lipofection, which were over 10-fold less than either the 48 or 72 hour transfection delays from days 3 to 8 post-lipofection (Fig 3A). The 48 and 72 hour delays produced equivalent titers by day 3 post-lipofection with peak titers of 5.4x10 6 RPs/mL/day (48 hour delay on 4 days post-lipofection) and 5x10 6 RPs/mL/day (72 hour delay 6 days post-lipofection). All three transfection delay experiments produced particles through 13 days of culture with RP production often remaining above 10 5 RPs/mL/day. This robust and sustained RP production was observed in all packaging experiments (Figs 3A, 3B and 4A). Since there were no substantial differences between transfection delays of 48 and 72 hours, the shorter transfection delay of 48 hours was selected for future investigations.',\n",
       " 'Rabenau et al. made a comparative study on the stability of different viruses, i.e. SARS-CoV, HCoV 229E, type 1-herpes simplex virus (HSV-1) and the type 3-adenovirus, in suspension and after drying. In medium culture, with and without 10% FCS, the HCoV 229E progressively lost its infectivity over nine days, which is consistent with the previous study. The infectious titers of the three other viruses, including the SARS-CoV, were stable over nine days, with and without proteins. After drying on a plastic surface, the HCoV 229E and the HSV-1 lost their infectivity in 72 hrs, in the presence or absence of FCS. In contrast, the SARS-CoV retained its infectivity for as long as six days, with a further protecting effect of proteins. It took nine days in a dried state, for SARS-CoV to completely lose its infectivity. The adenovirus was the most stable virus assayed as it conserved its infectivity throughout the nine days of the experiment [105].',\n",
       " 'Case 3 developed symptoms 4 days after her husband and 5 days after the couple had left Wuhan. The incubation period of SARS-CoV-2 is currently estimated at around 3-7 days [5, 10, 11]. Therefore, she may have acquired the infection from her husband, although this cannot be proved.',\n",
       " 'Case 3 developed symptoms 4 days after her husband and 5 days after the couple had left Wuhan. The incubation period of SARS-CoV-2 is currently estimated at around 3-7 days [5, 10, 11]. Therefore, she may have acquired the infection from her husband, although this cannot be proved.',\n",
       " 'CaI-I macrophage cultures were exposed for 4 days to extracts from 5) < 10 e PRI cells per culture. The fluid was then removed, and some cultures were infected immediately, while others simply had the fluid medium replaced. A second group of cultures was infected 2 days later, a third group 5 days later, and the fourth group 8 days later. Alteration of cells, as measured by destruction by the virus, was greatest with cultures which were infected immediately after the 4 days of exposure to extract. When the infection was introduced 2 days after the extract was removed, the percentage of susceptible cells was less. When the period of time between the exposure to the extract and the sub-sequent infection was extended (5 to 8 days), no conversion was demonstrated (Table XI). The extract was thermostable. A series of temperatures (56°C for 30 minutes, 70°C for 10 minutes, and 100°C for 10 minutes) only partially inactivated the extract (Table XII).',\n",
       " 'The incubation period, that is, the duration from the midpoint of the exposure to the symptom onset, was 6.5 days (median; range, 2 to 16 days). The median time from symptom onset to confirmation was 5 days (0 to 17 days), that from symptom onset to death was 13 days (1 to 41 days), and that from symptom onset to discharge from the hospital was 20 days (8 to 41 days).',\n",
       " 'Finally, viruses can be detected during the incubation period without playing any role in the determination of the actual disease. The incubation period for viral respiratory infections is generally short. It has been calculated (Lessler et al., 2009) that this period lasts 5.6 days (95% confidence interval [CI], 4.8-6.3) for ADV, 3.2 days (95% CI, 2.8-3.7) for human coronavirus, 1.4 days (95% CI, 1.3-1.5) for IV A, 0.6 days (95% CI, 0.5-0.6) for IV B, 2.6 days (95% CI, 2.1-3.1) for PIV, 4.4 days (95% CI, 3.9-4.9) for RSV, and 1.9 days (95% CI, 1.4-2.4) for RV. However, during this period, these viruses are detectable in the respiratory secretions and can lead to diagnostic mistakes.',\n",
       " 'Generally the short incubation period for IBV varies with infective dose and route of infection. For example, while infection via the tracheal route may take a course as short as 18 hours, ocular inoculation leads to an incubation period of 36 hours [33].',\n",
       " '[1] The median incubation period 76 depends on the virus but is usually between one and six days.',\n",
       " 'Extrinsic incubation period at 28 degree Celsius; Weibull distributed with mean 12.7 days and CoV 0.61',\n",
       " 'The second scenario assumes a long incubation period. The estimated incubation period in this scenario is 18 days, which is considerably longer than the known 2-14 days, but is statistically possible.',\n",
       " 'Several papers describe the incubation period (Fig. 5, Appendix 3) though it is striking that the majority do not provide a source to justify the claimed period. These unsupported claims vary substantially from paper to paper, from the incubation period \"is\" 3-6 days 115 or 3-7 days, 76 \"is usually 3-4 days, but can be... 10 days or more,\" 32 or \"is usually 3-5 days (range, 2-12 days),\" 111 is \"typically\" 3-7 days 116 or 3-5 days, 49 ranges from 5 to 7 days 42,98 or 3 to 7 days 113 and the \"usual period\" is 3-5 days \"with longest period of 7 days.\" 117 Only a few provide evidence to justify the claim: one reports 95 that the incubation period is usually 3-7 days, citing a US Centers for Disease Control and Prevention (CDC) factsheet on aseptic meningitis. Another cites 118 an early study from Singapore, 88 which presented the median and range for the serial interval (3 days [1] [2] [3] [4] [5] [6] [7]), not the incubation period. Another early study 119 states that the incubation period is \"said to be\" 3-5 days, but notes that this is inconsistent with the serial interval observed in the study. It appears that there is no empirical support whatsoever for any distribution of incubation periods.',\n",
       " 'Currently, our understanding of the incubation period for 2019-nCoV is limited. An early analysis based on 34 confirmed cases in Chinese provinces outside Wuhan, using data on known travel to and from Wuhan to estimate the exposure interval, indicates a mean incubation period of 5.8 (95% CI: 4.6, 7.9) days, ranging from 1.3 to 11.3 days [6]. A more recent analysis based on 10 confirmed cases in China provided a similar estimate, showing a mean incubation period of 5.2 (95% CI: 4.1, 7.0) days [7]. This estimate is also in line with clinical reports of a familial cluster of 2019-nCoV in which symptom onset occurred 3-6 days after assumed exposure in Wuhan [1]. These estimates of the incubation period of 2019-nCoV are consistent with those of other known human coronaviruses, including SARS (mean 5 days, range 2-14 days; [8]), MERS (mean 5-7 days, range 2-14 days; [9]), and non-SARS human coronavirus (mean 3 days, range 2-5 days; [10]).',\n",
       " 'Upon virus inoculation, infected CrFK cells showed initial CPE at passage two with moderate to diffuse CPE at 4-5 days post inoculation (PI). The appearance of CPE became rapid during second and third passages. As the virus propagation reaches the fifth passages; the onset of CPE appeared within 24-48 hours PI. Complete CPE (> 80 %) was noticed 48-72 hours PI (Figure 1). On the other hand, infected Fcwf-4 cells showed initial CPE following first passage, with some samples at second passages. The initial CPE was recorded at 2-3 days PI. As the virus passages reach the third passages, the onset of CPE appeared within 24 hours PI and completed within 36-48 hours PI (Figure 2).',\n",
       " 'The incubation period of MERS-CoV that can range from 2 to 14 days, is 5 days on average [26]. Thus, we use reported data up to 12 June 2015.',\n",
       " 'The hyperprior for the parameter determining the shape of the Rayleigh distribution was a uniform 123 prior, bounded between 0.001 and 0.01, giving an expected value of 0.005. This gives an expected 124 time between symptom onset of one case and symptom onset of the case it infects of 29 days (95% CI 125 = 16 -300 days, sd = +/-7 days (23-37) ), with the lower bound of 25 days (95% CI =16 -299 days, sd = 126 +/-4 days (21-28) ) and the upper 47 days (95% CI = 16-300 days sd= +/-18 days (30-66) ). By 127 comparison the expected values for treated P. falciparum from existing literature range between 33 128 days 14 and 49.1 days (95% CI = 33-69) 13. The hyperprior for the shifting parameter was set between 129 10 and 15 days to account for the extrinsic incubation period within the mosquito and the time 130 between infection and suitable numbers of gametocytes in the blood to lead to symptom onset. 131',\n",
       " 'The distribution and duration of virus detection and clinical signs are shown in Fig. 1. Rhinorrhoea, cough and fever were recorded at 66.7, 38.8 and 7.3% of the sampling dates, respectively. The most frequently detected virus was HRV (26 occasions), followed by HAdV (four), HBoV1 (four), HEV (three), HCoV-OC43 (two), HCoV-HKU1 (one), HCoV-NL63 (one), hMPV (one), HPIV-3 (one), HPIV-4 (one), FLUAV (one), FLUCV (one) and RSV A (one). The longest duration of virus detection was observed for HCoV-NL63 (30 days). The duration of detection for the other viruses was as follows: HRV (3-28 days), HBoV1 (2-22 days), HAdV (7-17 days), HEV (4-5 days), HCoV-OC43 (5-12 days), FLUCV (11 days), HPIV-3 (11 days), HCoV-HKU1 (9 days), hMPV (8 days), RSV A (8 days), FLUAV (6 days) and HPIV-4 (5 days).',\n",
       " 'Since the infection time of most patients could not be determined, we did not analyze the incubation period. It was reported that the incubation period was 4-7 days. 25 Based on the SARS experience, the maximum incubation period is currently considered to be no more than 14 days, but one case in our study was significantly longer at 17 days. A recent study reported the longest incubation period to be 24 days. 11 Authorities reported in Guangdong province that a man became ill after 27 days, leading to more than 100 people being quarantined. The maximum incubation period is unclear. Considering the highly infectious nature of the COVID-19, quarantining people from the affected areas for a month should be considered.',\n",
       " 'After neuraminidase treatment the titers decreased significantly for the first two time points (8.13 × 10 6 PFU/ ml at 5 min, 2.06 × 10 7 PFU/ml at 20 min, and 7.33 × 10 7 PFU/ml at 60 min). Infectious titers for the hemagglutination deficient mutant HAD3 were 5.14 × 10 6 PFU/ml at 5 min adsorption time, 2.05 × 10 7 PFU/ml at 20 min, and 3.64 × 10 7 PFU/ml at 60 min. After neuraminidase treatment titers increased (9.30 × 10 6 PFU/ml at 5 min, 2.96 × 10 7 PFU/ml at 20 min, and 4.74 × 10 7 PFU/ml at 60 min). For the TGEV Miller strain infectious titers in cell culture were more than 10fold lower than for the TGEV Purdue strain (1.34 × 10 6 PFU/ml at 5 min, 2.09 × 10 6 PFU/ml at 20 min, 3.34 × 10 6 PFU/ml at 60 min). After neuraminidase treatment the titers of TGEV Miller decreased (9.08 × 10 5 PFU/ml at 5 min, 1.61 × 10 6 PFU/ml at 20 min, and 2.44 × 10 6 PFU/ml at 60 min). The differences in the titers between early (5 min) and late (60 min) infectivity of TGEV PUR46, HAD3, and TGEV Miller were statistically significant (with p < 0.05). The higher titers of TGEV PUR46 show that this virus strain is more cell culture adapted than the Miller strain. The early infectivity (5 min adsorption time) of HAD3 is about 22.6% of the value for TGEV PUR46 at this time point (with p = 0.014). However, the late infectivity (60 min) of HAD3 is about 42.2% of the value for TGEV PUR46 (with p = 0.021). This higher difference between TGEV PUR46 and HAD3 in early infectivity could be explained by the additional use of sialic acids for adsorption by TGEV PUR46. At short adsorption times, the importance of sialic acid binding for infectivity is more pronounced than at longer adsorption times when binding to the cellular receptor pAPN compensated this phenomenon.',\n",
       " 'HCoV-NL63 culture with LLC-MK2 cells takes more than 7 days until first signs of weak CPE become visible. In order to test whether incubation times could be reduced with CaCo-2 cells, five plaque assays on virus dilution series were done with Avicel overlays and terminated by fixation after 1, 2, 3, 4, and 5 days, respectively. On days 1 and 2, no plaques were visible (not shown). Termination at day 3 yielded plaques only at high virus concentration (Figure 4). From day 4 onward, plaques were visible in the lowest detectable virus concentration. Plaques on day 5 were larger, but did not increase in number.',\n",
       " 'Assuming the incubation period is independent of the infection time, Z i can be rewritten as a convolution of the generation interval for individual i and the difference between the incubation period of individual i and the incubation period of its infector v (i) [7], i.e.,',\n",
       " 'The estimated mean incubation period for COVID-19 was 4.9 days (95% confidence interval [CI], 4.4 to 5.4) days, ranging from 0.8 to 11.1 days (2.5th to 97.5th percentile). The observed mean and standard deviation (SD) of serial interval was 4.1±3.3 days, with the 2.5th and 97.5th percentiles at -1 and 13 days. The infectious curve showed that in 73.0% of the secondary cases, their date of getting infected was before symptom onset of the first-generation cases, particularly in the last three days of the incubation period.',\n",
       " 'A more recent study implicated water and sewage in the transmission of SARS-CoV, taking the MHV and the TGEV as surrogates for their experiments. At 25 °C, the time required for 99% reduction in water was 22 days for TGEV and 17 days for MHV, and, in sewage, it took nine days for TGEV and seven days for MHV. After four weeks in almost the same conditions but at 4 °C, there was less than < 1 log 10 infectivity decrease for both viruses. The authors concluded that in case of SARS-CoV re-emergence water contaminated with fecal waste should be considered as a potential vehicle of transmission [111].',\n",
       " 'Incubation period estimates. Estimates and credible regions for incubation period distribution parameters for Ebola, MERS-CoV, and smallpox are shown in Fig. 2. Consistent with other studies that used the same data 9,10,13, we estimated that half of all cases of Ebola will have an incubation period of less than 8.9 days (95% CI: 8.0-9.8), of MERS-CoV less than 6.9 days (95% CI: 6.3-7.5) and of smallpox less than 12.2 days (95% CI: 12.0-12.4). Additionally, the data suggest that 95% of cases of Ebola will have an incubation period of less than We estimated smallpox to have the longest median incubation period of the three pathogens considered, although its distribution also showed the least overall variance. We estimate that MERS-CoV incubation periods are the shortest of the three, with the upper limit of the 95th percentile being just above 15 days (Fig. 2).',\n",
       " 'The incubation period is the period between infection and appearance of signs of a disease. A total of 12 studies reported the incubation period of MERS. Nine used data from South Korea and showed a 6-7.8 day incubation period [3] [4] [5] [23] [24] [25] [26] [27] [28]. One study using data from Saudi Arabia reported a 5.2 day incubation period [7], and another using data from multiple areas reported a 5.5 day incubation period [6]. Sha et al. compared the incubation periods between the Middle East area and South Korea and reported 4.5-5 and 6 days, respectively [29].',\n",
       " 'Based on 1,123 observations from ten observational studies, and five observations from one experimental study [33], we estimate the median incubation period for genogroup I noroviruses to be 1.1 days (95% CI 1.1-1.2 days) with a dispersion of 1.82 (95% CI 1.75-1.90). 5% of genogroup I norovirus cases will become symptomatic 0.4 days (95% CI 0.4-0.5 days) after infection and 95% of cases will develop symptoms by 3.0 days (95% CI 2.8-3.2 days) (Table 3).',\n",
       " 'The incubation period of influenza is typically short, usually reported as ranging from 1 to 4 days, 34 with a serial interval (time',\n",
       " 'for Ebola, 23 8 days for SARS, 24 and 7 days for MERS; 27 this was calculated as epidemic 100',\n",
       " 'Based on ten observations from two experimental studies [43, 51] and 1,417 estimates from ten observational studies [46, 49], we estimate the median incubation period for genogroup II noroviruses to be 1.2 days (95% CI 1.2-1.3 days) with a dispersion of 1.56 (95% CI 1.49-1.62). 5% of genogroup II norovirus cases will exhibit symptoms 0.6 days (95% CI 0.5-0.6 days) after infection and 95% of cases will become symptomatic by 2.5 days (95% CI 2.4-2.6 days) (Table 3).',\n",
       " 'Vero cell monolayers were infected with MeV (1 × 10 3.5 TCID 50 of Edmonston strain). PPs (5 µg/mL) were added at different times of infection: 60 min before infection and 0, 15, 30, 60, and 120 min after infection. Vero cells were incubated with each treatment for 1 h and then washed three times with PBS. After incubation period of 48 h at 37 • C and 5% CO 2 monolayers were fixed with methanol: acetone and stained with 1% crystal violet; syncytia were counted subsequently and the result was expressed as a percentage of total syncytia observed in viral control monolayers. All variables were performed in triplicate for each experiment and repeated at least three times (N = 9).',\n",
       " 'Optimisation of freeze-drying process. Scaffolds were lyophilised for 2 days and dried at 37 C in 0 days, 3 days, 6 days, 7 days, and 9 days in vacuum drying oven. ppm Z parts per million.',\n",
       " '• After infection, new cases were detected with a delay of D = 10 days (6), which comprises an incubation period of 5-6 days (4, 7 -11) and a delay from symptom onset to detection of 4-5 days (12, 13). During this 10-day interval, we labeled cases as infected. Given the uncertainty in these estimates, we also performed the estimates by assuming a shorter delay (D = 6 days) and a longer delay (D = 14 days) between infection and case detection (Appendix Table 2).',\n",
       " 'Assay. The cells were seeded and incubated for 24 hours and prechilled at 4 ∘ C for 1 hour, and the mediums were aspirated. Then, the cells were infected with pandemic influenza A (H1N1) virus of 3 × 10 5 PFU/mL and different indicated concentrations of TSL-1. After incubation at 4 ∘ C for another 3 hours, the mediums were aspirated to remove unabsorbed virus. The cells were washed with PBS three times and incubated for an additional 72 hours and assayed with quantitative RT-PCR (qRT-PCR) as described above.',\n",
       " 'In our study, the incubation period is similar as other studies previously reported, but 297 the mean onset-admission interval was 5.478 days, shorter than 12.5 day initially reported 298',\n",
       " 'Samples were collected at the indicated times (Fig 1) and processed for further analysis as previously described [6]. For IF microscopy, cells were fixed with absolute methanol (-20°C) for 10 minutes; for TEM cells were fixed with 2.5% glutaraldehyde (Electron Microscopy Sciences, Ft. Washington, USA) for 1 h and embedded in epoxy resin (Fluka; Sigma-Aldrich) by routine methods; for titration by sub-passage infected monolayers were scraped into 1 ml of fresh infection medium and stored at -80°C. For continued exposure or recovery (Fig 1C) sample collection for titration by sub-passage culture supernatant was collected (total volume per) pecorum or C. trachomatis serovar E, exposed to DAMPs in incubation medium, and incubated for 35 or 39 hours, at which time samples were collected for analysis. (B) DAMP exposure beginning at T 14, 14 hours after infection. DAMPs were added directly to incubation medium. (C) DAMP exposure beginning at T 0, followed by 35/39-hour incubation, media change for continued DAMP exposure or recovery in the absence of DAMPs, and 24 hours of additional incubation.',\n",
       " 'Fomite transmissibility is variably dependent on the temperature, humidity, virus family/strain and virus titer. During 2015 MERS epidemic in the ROK, average temperature and humidity was 20-30℃and 40-60% (http: //www.kma.go.kr/ weather/main.jsp), which were optimal for MERS-CoV to survive on fomites [5]. The stability of MERS-CoV was more stable at conditions of 15-25℃ temperature and low humidity (< 20 %) [5]. As for the viral propensity, MERS-CoV survives longer (≥48 hours) on the environmental surfaces compared to influenza virus (4 hours) and other coronaviruses (229E, 12 hours; OC43, 3 hours) [5, 6].',\n",
       " 'Monolayers of Vero and C6/36 cells seeded onto 24-well plates were infected with DENV-2 at a multiplicity of infection (MOI) of 0.1. At 1 h postinfection (p.i .) the inoculum was removed. Vero and C6/36 cells were incubated in the presence of different concentrations of CLQ (0; 0.05; 0.5; 5; 50 g/mL) at defined time intervals, in different experiments: (i) concomitantly, 1 h after infection; (ii) concomitantly, 1 h after infection, and at 24-hour intervals for 7 days; (iii) concomitantly, 1 hour after infection and at 12-hour intervals for 7 days. DENV-2 replication of mock control was 0 g/mL. Infected cell supernatants were collected at 0, 6, 12, 24, 48, 72, 96, 120, 144, and 168 hours postinfection, cleared by centrifugation, and stored in aliquots at −70 ∘ C until use in real-time PCR and plaque assays. The experiments were carried out in duplicate, and the results are shown as the mean values obtained from three individual experiments.',\n",
       " 'Neutralizing antibody titers of mouse sera against infection by MERS-CoV live virus were further detected as previously described for SARS-CoV with some modifications [26, 27]. Briefly, serial dilutions of mouse sera were incubated with 100 50% tissue culture infective doses (TCID 50) of virus for 1 h at 37°C prior to addition to the monolayer of Vero E6 cells in triplicate. Virus supernatant was removed and replaced with fresh medium after 1 h of culture at 37°C. Cytopathic effect (CPE) in each well was observed daily and recorded on day 3 post-infection. The neutralizing titers of mouse antisera that completely prevented CPE in 50% of the wells (NT 50) were calculated as before [26] [27] [28].',\n",
       " 'Probability density functions of the incubation period and generation time of influenza Figure 2 Probability density functions of the incubation period and generation time of influenza. Gamma distribution was employed to model the incubation period (i.e., the time from infection to onset), whereas lognormal distribution was fitted to the generation time (i.e., the time from infection of a primary case to infection of a secondary case by the primary case). The mean and variance of the incubation period and generation time are estimated as 1.43 days and 0.48 days 2 and 2.92 days and 5.57 days 2, respectively. For the original data see: [22] and [26].',\n",
       " 'Early predictions for incubation time are between 2 and 14 days, based on data from similar coronaviruses, with the 95th percentile of the distribution at 12.5 days [1]. The 14-day criterion for epidemiological risk assumes the longest estimated incubation time [6]. So, we assume the exposed period is 14 days, so T E =14.',\n",
       " 'To determine if mice generated TGEV and PEDV neutralizing antibodies, sera (1:20-1:320 dilution, 300 ml) from DNA-vaccinated mice were mixed with an equal volume of PEDV or TGEV (10 5 pfu/ml) at 37uC. After 1 h incubation, the treated viruses were used to infect cultured Swine testis (ST) Cells and African green monkey kidney (Vero) cells in 24-well plates respectively followed by overlaying with 1% methylcellulose. The plates were incubated at 37uC in a 5% CO 2 atmosphere and examined daily for 3 days for TGEV and PEDV specific cytopathic effects (CPE).',\n",
       " 'For example, we have o 2 = i 1 w!\" (2) + i (2) w!\" (1), i.e. cases with onset in week 2 are those infected in week 1 with 2 weeks incubation period and cases infected in week 2 with 1 week incubation period. We took W!\" from a study of South Korean Outbreak (3) (average 6.7 days - Figure S1). The corresponding values of W!\" were (w!\" (1) = 0.6, w!\" (2) = 0.38, w!\" (3) = 0.02).',\n",
       " 'The incubation period of PEDV is 1-4 days [7]. Since anti-PEDV IgG antibodies in the serum can be detected 13 days after inoculation of virus [8], serum samples for the detection of PEDV specific antibodies should be collected 2-3 weeks after the onset of diarrhea. These PEDV IgG antibodies in ELISA test persist in the serum for at least 1 year after post infection [2] and the virus neutralization titers for PEDV in plasma remains high beyond 6 months post-infection [9].',\n",
       " 'Inoculated cells were maintained in D-MEM supplemented with 5% FCS and monitored daily for the occurrence of cytopathic effect (CPE). After 6 days of incubation, the monolayers were tested for CnPnV antigen by an immunofluorescence (IF) assay using a monoclonal antibody targeting HRSV (MonosanH, Sanbio BV, Uden, The Netherlands). The cells were sub-cultured every 6-8 days for 5 consecutive passages.',\n",
       " 'The human diploid cell line MRC-5 demonstrated cytopathic effects (CPE) when inoculated with 1000, 100, 10 and 1 TCID 50 of ZIKV MR766, an African lineage virus (Fig. 1a, b and Table 1). The structural changes to host cell morphology, CPE in the form of retarded cell growth and extensive cell rounding and lysis by ZIKV were clearly observed. Inoculation of MRC-5 with 1000 TCID 50 of ZIKV MR766 was reported in the majority of wells between days 6 and 10 post inoculation (pi) with the mean appearance of CPE on day 8. MRC-5 cells demonstrated early signs of CPE following inoculation with 100 TCID 50 ZIKV MR766 at 6 days post infection (p.i .), and CPE was observed in all wells at day 14 p.i. with the mean appearance of CPE at day 10. When inoculated with 10 TCID 50 of ZIKV MR766, CPE was reported between days 14 and 17 p.i. with the mean appearance at day 13. Inoculation with 1 TCID 50 ZIKV MR766 reported CPE in 33% of wells on day 14 and in 50% of wells on day 28 (Table 4). The inoculation of the Brazilian isolate (Asian lineage) ZIKV PE243 [51] at levels of 1000, 100, 10 and 1 TCID 50 on the MRC-5 detector cell line elicited CPE in 67, 44-27 and 11% of wells, respectively, during a 14-day in vitro assay (Tables 2 and 4, Fig. 3a, b). The mean appearance of CPE for 1000 and 100 TCID 50 was at days 12 and 14 p.i. On day 14, supernatant from MRC-5 was inoculated onto a subconfluent monolayer of MRC-5 and CPE was observed in 67, 75, 42 and 17% of wells, respectively, at day 28. CPE in Vero C1008 and Vero CCL-81 cells was similar to that observed on MRC-5 cells and presented as structural changes to host cell morphology, retarded cell growth and extensive cell rounding, detachment and lysis. Vero C1008 reported the presence of 1000 and 100 TCID 50 of ZIKV MR766 on all occasions at 14 days in vitro assay. The onset of CPE was observed as early as 3 days p.i. with the mean appearance of CPE on days 5 and 7 for 1000 and 100 TCID 50, respectively. ZIKV MR766 at 10 and 1 TCID 50 elicited CPE in 67 and 56% of Vero C1008 wells during 14 days of in vitro culture, with the mean appearance of CPE on days 8 and 9. Vero C1008 detected the presence of 1000,100, 10 and 1 TCID 50 of ZIKV MR766 in each well inoculated on all occasions during the 28-day in vitro assay (Tables 2 and 4, Fig. 2e, f). Inoculation with 1000 and 100 TCID 50 of ZIKV PE243 elicited CPE in Vero C1008 wells on all occasions during the 14 days of in vitro assay, with the mean appearance of CPE on day 8. Vero C1008 detected the presence of 10 and 1 TCID 50 of ZIKV PE243 on 67 and 56% occasions during the 14 days of in vitro assay, with the mean appearance of CPE for 10 TCID 50. reported on day 9. Inoculation with 1000, 100 and 10 TCID 50 ZIKV PE243 elicited CPE in Vero C1008 wells on all occasions during the 28 days of in vitro assay. Inoculation with 1 TCID 50 of ZIKV PE243 reported CPE in 83% of wells on day 28 (Tables 2 and 4 (Tables 3 and 4). The mean appearance of CPE was reported on day 6 for 1000 TCID 50 inoculum, on day 7 for 100 TCID 50 and on day 8 for 10 and 1 TCID 50. Vero CCL-81 detected 1000, 100 and 10 TCID 50 of ZIKV MR766 in all wells inoculated on all occasions and in 75% of wells inoculated with 1 TCID 50 during a 28-day in vitro assay (Tables 3 and 4, Fig. 2c, d). Inoculation with 1000, 100, 10 TCID 50 of ZIKV PE243 was detected on all occasions in a 14-day in vitro assay. ZIKV PE243 inoculated at 1 TCID 50 resulted in CPE in 39% of inoculated Vero CCL-81 detector cells in a 14-day in vitro assay and in 100% of inoculated cells in a 28-day in vitro assay (Tables 3 and 4, Fig. 3c, d). The mean appearance of CPE was reported on day 6 for 1000 TCID 50 inoculum, on day 7 for 100 TCID 50, on day 9 for 10 TCID 50 and on day 14 for 1 TCID 50. Inoculation of detector cells with measles virus and bovine parainfluenza virus type 3 at 100 TCID 50, representing system suitability controls for MRC-5 and Vero detector cell lines, respectively, elicited clear detection on all occasions (n=18) within 6 days (Table 4).',\n",
       " 'Serum samples were also tested in a virus neutralization test by preparing serial twofold dilutions of serum were reacted in duplicate with 100 of 50% tissue culture infective doses (TCID 50) of Kumamoto/1/07, followed by incubation for 1 hr at 37°C. After incubation, the serum-virus mixture was transferred onto monolayered human rectal tumor cells (HRT-18G) cultured in microplates and incubated for 5 days at 37°C. The neutralization antibody titers were expressed as the reciprocal of the highest serum dilution that completely inhibited the cytopathic effect (CPE).',\n",
       " \"We evaluated the neutralizing activity in serum from three patients > 1 year after recovery from Middle East respiratory syndrome (MERS) associated with mild pneumonia treated with antivirals during the MERS outbreak in South Korea at 2015. The neutralizing activity in serum was measured by pseudovirus inhibition assays. Three-fold diluted serum of subjects showed only 9.7% , 10.3% , and 2.2% reductions in relative light units. So, significant neutralizing activity was not demonstrated in any sera of three patients with mild pneumonia > 1 year after being successfully treated with antiviral agents and recovering from MERS coronavirus infection. Institutes of Health) in a T175 tissue culture flask, using the calcium phosphate method. The cells were changed into fresh Dulbecco's modified Eagle's medium 8 hours later. Supernatants were harvested 72-hour post-transfection and used as a source of pseudoviruses for single-cycle infection.\",\n",
       " 'In this approach, both the latent and infectious periods (1/γ, 1/κ) are fixed and, hence, the only parameter to be estimated is R. We made two different assumptions for the latent and infectious periods to illustrate a short infection process consistent with seasonal influenza [25] (k -1 = 1.5 days and γ-1 = 1.5 days, so that the generation interval is 3.0 days) and a longer infection process in line with descriptions of the prolonged course of A/H7N9 infections in humans (k -1 = 3 days, γ-1 = 3 days, so that the generation interval is 6.0 days) [4, 5, 26].',\n",
       " 'Among the collected data, the incubation periods of 483 confirmed patients can be estimated. Statistical results are shown in Fig.3 and Tab.1. The estimated incubation periods for the 483 patients roughly follow the logarithm normal distribution, with a long right tail. Specifically, the 483 confirmed patients were with average estimated incubation periodτ D = 7.4 days, the mode was 4 days (50 out of the 483 cases) and the median was 7 days (48 out of the 483 cases). About 55% patients were with incubation periods lower than 7 days, while more than 92% patients were lower than 14 days. About 7.45% patients were overestimated with more than 14 days incubation periods.',\n",
       " 'As an additional check, we simulated the expected serial intervals assuming the same aforementioned incubation period but two different infectiousness profiles, where infectiousness started on the same day and from 2 days before symptom onset respectively. A recent study isolated live infectious SARS-CoV-2 virus from COVID-19 patients up to 10 days after symptom onset, 12 thus we assumed the same duration of infectiousness. We also assumed that infectiousness peaked on the day of symptom onset.',\n",
       " 'Incubation period: we adapted the probability distribution data from Legrand et al. [3] and Eichner et al. [4] to generate a lognormal probability distribution of Ebola incubation (Figure S1). The model uses a mean incubation period of 6.3 days, a median of 5.5 days, and a standard deviation (SD) of 3.31 days.',\n",
       " 'Based on 183 cases with a well defined period of exposure and symptom onset (Figure S1), we estimate the median incubation period for COVID-19 to be 4.8 days (95% CI 4.2,5.4) [Figure 2, Table S2], and that 95% of those who develop symptoms will do so within 14.0 days (95% CI 12.2,15.9) of infection.',\n",
       " 'Ferrets treated with CR6261 at 4 hours post challenge did not shed infectious virus in the upper respiratory tract throughout the study (figure 2D). In the group treated with CR6261 at 24 hours post challenge, one ferret had a low concentration of infectious virus (2.8 log 10 TCID 50) in the throat on day one, but no virus was detected on subsequent days. In contrast, all animals in the control group shed virus during one or more days. Accordingly, the mean viral loads in the lungs of ferrets treated with CR6261 at 4 and 24 hours post challenge were considerably lower than that in the control group (differences were 3.9 and 4.5 log 10 TCID 50 /g, respectively, both comparisons p,0.001; Figure 2E).',\n",
       " 'PDCoV (MOI 0.05) was incubated for 2 h at room temperature or 37 • C in the absence or presence of LiCl (60 mM) or DG (1250 µg/mL) in a final volume of 1000 µL. After incubation, the infectious titer was determined by TCID 50 in LLC-PK1 cells.',\n",
       " \"PBMC based assays. All PBMC neutralization assays are described as a/b/c where' a' is the incubation time in hours following mixing of mAb with virus,' b' is the absorption time in hours during which the cells are exposed to the mAb/virus mixture. Cells are then washed and' c' is the culture time in days (all at 37uC and 7% CO 2). In this study results were obtained in 24/1/14, 1/2/7 and 1/24/14 formats. These are named'extended incubation','short incubation' and'extended absorption' assays respectively. The extended incubation assay, which was originally used for patient selection has been described previously [6, 11]. Briefly, virus stock is diluted in a five fold series from 1/2 to 1/6250 in culture medium (RPMI-1640 medium supplemented with 15% FCS and 200 U/ml IL-2) to establish the titer (-log10 if the dilution at which 50% infection is achieved). A titer below 1 constitutes poor growth of the virus and the experiment is discarded. Ninety ml of each virus dilution are mixed with 5 ml of plasma or 50 mg mAb. In assays testing neutralization by plasma the mixture is complemented with 5 ml culture medium to give a final 1 in 20 dilution of plasma. When testing mAb, the mixture is complemented with 5 ml flow through (IgG was removed from HIV-1 negative plasma using a Protein G column [GE Healthcare Europe GmbH, Belgium]) to give 50 mg/ml of mAb. After the incubation phase 20 ml of each plasma or mAb/ virus mix are first dispensed in quadruplicate into flat bottom 96well microplates and 75,000 PBMC in 100 ml culture medium are added to each well. Plates are then left in a CO 2 incubator at 37uC during the absorption phase (b). Afterwards, cells are washed three times by centrifugation at 2000 rpm for 10 minutes, the supernatant is aspirated and 180 ml fresh culture medium are added to the cells. When cultured for 14 days, 125 ml of the medium is aspirated and replaced with 135 ml fresh culture medium. After c days, 200 ml of the supernatant are mixed with 50 ml Nonidet P40 (0.25% in PBS; Fluka, Sigma-Aldrich, Puurs, Belgium) to disrupt virions and this mixture is analyzed for the presence of HIV p24 antigen. As a control, pooled plasma of 100 HIV-1 negative donors are tested in parallel. For the short incubation and extended absorption phase assays, times of incubation are appropriately adjusted: 1/2/7 and 1/24/14 respectively. Neutralization activities are presented as the percentage reduction in infectious titer of a virus isolate following incubation with patient plasma or mAb relative to its titer following incubation with HIV-1 negative control plasma. Virus titers were calculated by the method of Reed and Muench [12]. An 80% reduction in titer was considered significant. By extending the usual one hour absorption phase of the extended and short incubation PBMC assay to 24 hours (1/24/14 format) we aimed to reproduce the conditions of the cell line based assays where the mAbs remain during the entire absorption and culture phase.\",\n",
       " 'Serum neutralization tests were performed by incubating 200 TCID 50 of PRV3M with 2-fold serial diluted macaque serum for 30 min at 37°C. The virus-antibody mixture was then added to a monolayer of Vero cells and incubated for 1 h at 37°C. After incubation, the inoculum was removed and replaced with DMEM supplemented with 2% FBS. Virus-induced CPE was observed at days 4 post-infection and the titre was recorded at the highest dilution where CPE was absent.',\n",
       " 'Nasal swab Throat swab Anal swab Lung Trachea Kidney Spleen Serum 1 day 3 days 1 day 3 days 1 day 3 days 3 days 3 days 3 days 3 days 3 days M -- --',\n",
       " 'Nasal swab Throat swab Anal swab Lung Trachea Kidney Spleen Serum 1 day 3 days 1 day 3 days 1 day 3 days 3 days 3 days 3 days 3 days 3 days M -- --',\n",
       " 'The incubation period is defined as the time between infection and onset of symptoms. It is estimated as the time between exposure and report of noticeable symptoms. We used the incubation period distribution calculated by (11). The distribution is lognormal with mean 5.5 days, median 5.2 days and standard deviation 2.1 days, and is included with our results in Figure 2.',\n",
       " 'Among which, R 0 is the basic reproduction number, TI is the time of infectious period, TE is the time of incubation period, and β1, β2, γ1 and γ2 share the same meanings as in Figure 1 .We set the range of TE to 1-7 days, TI to 1-14 days, R 0 to 1-5 days according to the reference [7].',\n",
       " 'the shedding of SARS-CoV-2 in saliva continued up to 11 days [17].',\n",
       " 'As MERS-CoV clinical isolates are not available in Japan, a pilot study was performed using MERS-CoV laboratory isolates diluted with medium containing pharyngeal swabs obtained from healthy adults. Viral detection was carried out using both RT-LAMP and real-time RT-PCR assays, and with virus isolation using Vero and Vero/ TMPRSSS2 cells (Table 4). Viral isolation from Vero cells required at least 500 copies of MERS-CoV, followed by incubation at 37°C for 5 days. It contrast, although it has been reported that TMPRSS2 enhances the entry and fusion formation of MERS-CoV [31, 32], Vero/TMPRSS2 cells exhibited syncytium formation with 23.2 copies of MERS-CoV within 2 days of incubation.',\n",
       " 'Monocytes from G6PD-deficient and normal controls were infected with DENV2 at multiplicity of infection (MOI) 0.1 for 3 hours at 37uC/5% CO 2 as described previously [9]. For optimal virus contact to the monocytes, the plates were gently agitated every 15 min. After 3 hours of incubation, the cells were washed twice with serum-free medium, re-suspended in complete growth medium and cultured at 37uC/5% of CO 2 for five days. Mockinfected monocyte cultures were set simultaneously as negative controls. Conditioned media were harvested at various time points (24, 48, 72, 96, 120 hours) post-infection and the number of infected cells and virus titers were determined using flow',\n",
       " 'To determine whether the extract had any antiherpetic activity against the virus particle, virus serial dilutions were prepared by noncytotoxic concentration (0.2 mg/ mL) of the licorice root extract and incubated for one hour at 4℃. After the incubation, the virus dilutions were used to infect Vero cells and incubated in CO 2 incubator at 37℃ for one hour. Following one hour incubation, unabsorbed virus preparation was removed and the cells were washed by PBS and DMEM; then 2% FBS was added to the monolayer cells. The microplates were incubated at 37℃ with 5% CO 2 and examined seven days for the evidences of CPE.',\n",
       " 'To determine at which stage the drug displayed inhibitory efficiency, a time-of-addition assay was developed as previously described [27, 33]. BHK21 cells were incubated at 37 • C overnight to be infected with 100 PFU of ZIKV. Ery-Est (20 µM) was added to the infected cells at 0, 1, 2, 4, 8, 10 h post infection. After incubation at 37 • C for 12 h, the supernatant was replaced with DMEM containing 1% LMP agarose and 2% FBS. After incubation for approximately 5 days, infected cells were fixed by 4% formaldehyde and stained with 1% crystal violet for plaque visualization.',\n",
       " 'Microarray data was deposited previously in the gene expression omnibus (GEO) under the following accession numbers: GSE33263: Influenza A/VN/1203/04 infection in mice with three viral doses at 1, 2, 4, and 7 days (IM001); GSE37572: HA avirulent mutation in A/Vietnam/1203/2004 (H5N1) infection in mice at 10 4 PFU at 1, 2, 4, and 7 days (IM004); GSE43301: Influenza A/VN/1203/04 PB2-627E mutant infection in mice with 10 4 PFU at 1, 2, 4, and 7 days (IM005); GSE43302: Influenza A/VN/1203/04 PB2-627E mutant infection in mice with 10 3 PFU at 1, 2, 4, and 7 days (IM005); GSE44441: Influenza A/VN/1203/04 PB1-F2 mutant infection in mice with 10 4 PFU at 1, 2, 4, and 7 days (IM006); GSE44445: Influenza A/VN/1203/04 NS1trunc124 mutant infection in mice with two doses at 1, 2, 4, and 7 days (IM007); GSE37569: Influenza A/CA04/2009 infection in mice with four doses at 1, 2, 4, and 7 days (CA04M001); GSE33266: SARS-CoV MA15 infection in mice with four viral doses at 1, 2, 4, and 7 days (SM001); GSE50000: SARS-CoV MA15, icSARS-CoV, or SARS BatSRBD infection in mice with two viral doses at 1, 2, 4, and 7 days (SM003); GSE49262: SARS-CoV MA15 or SARS deltaORF6 infection in mice with 1O5 PFU at 1, 2, 4, and 7 days (SM012); GSE49263: SARS-CoV MA15 or SARS nsp16 infection in mice with 10 5 PFU at 1, 2, 4, and 7 days (SM014). Proteomics data for IM001, IM004, IM005, IM006, and IM007 (described above) can be found at https: //omics.pnl.gov/ project-data/systems-virology-contract-data.',\n",
       " 'The median incubation period, calculated as the interval from the midpoint of the exposure period to the first onset of symptoms, was five days (range, 2 to 13 days). The incubation period increased as infection stage increased, but not to a statistically significant extent (p= 0.227 by the Mann-Whitney U test) (',\n",
       " 'After infecting the monolayer cells with 100 TCID 50 / mL of HSV-1 and one hour incubation, the Vero cells were washed with PBS; then nontoxic concentration of the extract (0.2 mg/mL) in DMEM was added to the monolayer cells after one, four, eight, and twelve hours of viral infection. The 24-well plates were incubated in CO 2 incubator at 37℃ and monitored daily up to seven days. Viral titer was determined by the endpoint dilu-tion method and calculated TCID 50 was compared with control virus sample preparation.',\n",
       " 'For neonatal experiments using the clinical isolate of CHIKV, 9 day old pups were infected with 2.0610 5 PFU CHIKV in 20-30 mL of PBS s.c. into the right flank. Infected mice were followed daily for weight gain, signs of disease, and lethality for 21 days post-infection. Paralysis was scored as an inability or long delay (.5s) to return and land on its feet when flipped on its back. For experiments with adult mice, 6-8 week old mice were infected as outlined above and followed for daily weight loss and lethality. For experiments utilizing the recombinant CHIKV clones, 6 day old pups were infected with 3610 5 PFU of the indicated recombinant virus diluted in 30 mL of PBS by s.c. injection into the right flank. Viral titers were determined in organs harvested at the indicated days post-infection. Organs were harvested into 1 ml of DMEM without fetal bovine serum and homogenized with 1.0 mm diameter zirconia-silica beans at 3,200 rpm for 1 minute with a MagnaLyzer prior to plaque assay on BHK cells, protocol modified from [63]. Serial dilutions of organ homogenates in DMEM with 1% FBS was added to BHK cells (6610 5 cells for 6 well plates) and incubated for 1 hr at 37uC. An agar overlay was then added to the cells and incubated for 28 hrs at 37uC. Plates were fixed with 1% formaldehyde (.30 min at room temperature), agar plugs were removed and plaques were visualized using a 1% crystal violet solution.',\n",
       " \"Eighteen male rhesus macaques (M mulatta, 3-6 years old) were obtained from Covance (Alice, TX), ranging from 4 to 8 kg, and randomly assigned to treatment groups. They were placed in the BSL-4 laboratory 8 days before virus challenge for acclimation and fed and cared for daily. All of the animals were challenged intramuscularly with a target dose of 1000 pfu of EBOV Kikwit. After 5, 8, and 11 days, each group was treated intravenously with 50 or 150 mg/kg of an antibody cocktail or an equivalent volume of PBS. All animals were observed at least twice daily for weight loss and clinical signs, and surviving animals were euthanized 4 weeks after virus challenge. Blood samples were collected on day 0, 3, 5, 8, 11, 14, 21, and 28 days after virus challenge. Plasma and serum was prepared for biochemistry and viremia analysis and stored at −80 o C. For quantification of virus loads in animal sera, plaque assays were performed. Vero E6 cells grown to confluence in 6-well plates were inoculated with dilutions of animal serum. After 1-hour incubation, the supernatant was replaced with Eagle's minimum essential medium containing 0.5% agarose and 2% FBS and incubated at 37 o C. After 1 week, the same media with addition of 2% neutral red was added to each well. After additional 1-day incubation at 37 o C, plaques were manually counted.\",\n",
       " 'Here we explore scenarios where temperate regions have a seasonal forcing of between ε = 0.3 and 0.7 and migration rates of 0.01/year. Early estimates suggest an incubation time of about 5 days and an average serial interval of 7-8 days (Wu et al., 2020). Our model uses an average incubation time of 5 days (Backer et al., 2020) and an infectious period of 5 days.',\n",
       " 'During the 10-day incubation period, PEDV titer was reduced by 1.3 log on all surfaces except for stainless steel, in which only a 0.83 log reduction was observed. The PEDV remained viable (10 2 TCID 50 /g) on each of the four surfaces after 10 days of incubation. When delta values were compared, there were no differences among all 4 surfaces ranging from 0.7 and 7.7 days (Table 4).',\n",
       " 'Current estimates suggest a mean incubation period of 6.4 days (95% credible interval: 5.6-7.7), with a range from 2.1 to 11.1 days (2.5th to 97.5th percentile) [19]. To date, the maximum observed incubation period was 14 days [8].',\n",
       " 'According to the previous analysis, the disease develops on average after 6 days of incubation, and it takes an average of 5 days from the morbidity to the diagnosis (data from CHCC) [4], that is, 5 + 6 = 11 days from the initial infection and incubation to the diagnosis and isolation after the morbidity. Obviously, not all 11 days are contagious. Simulations show that when the average time for contagion is set to 8 days, it fits the official curve best.',\n",
       " 'When symptoms were reported 7 days before or 7 days after detecting a new virus.']"
      ]
     },
     "execution_count": 19,
     "metadata": {},
     "output_type": "execute_result"
    }
   ],
   "source": [
    "# query = \"pre-existing pulmonary disease SARS-Cov2 Hypertension\" \n",
    "\n",
    "query = \"incubation days SARS-CoV\" \n",
    "# query = \"incubation days coronavirus 2019-nCoV\"#  COVID-19\n",
    "# query = 'socio economic poverty behaviour'\n",
    "\n",
    "# query = 'pre-existing diseases'\n",
    "# query = ' basic reproductive number SARS-CoV-2 days'\n",
    "# query = 'serial interval days'\n",
    "# query = 'environmental factors SARS-CoV-2'\n",
    "\n",
    "query_result = sif_model.sv.similar_by_sentence(nltk.word_tokenize(query), model=sif_model, indexable=paragraphs_index.items, topn=100)\n",
    "\n",
    "extract_query_result(query_result)"
   ]
  },
  {
   "cell_type": "code",
   "execution_count": null,
   "metadata": {},
   "outputs": [],
   "source": []
  }
 ],
 "metadata": {
  "kernelspec": {
   "display_name": "Python [conda env:scispacy]",
   "language": "python",
   "name": "conda-env-scispacy-py"
  },
  "language_info": {
   "codemirror_mode": {
    "name": "ipython",
    "version": 3
   },
   "file_extension": ".py",
   "mimetype": "text/x-python",
   "name": "python",
   "nbconvert_exporter": "python",
   "pygments_lexer": "ipython3",
   "version": "3.6.9"
  }
 },
 "nbformat": 4,
 "nbformat_minor": 4
}
