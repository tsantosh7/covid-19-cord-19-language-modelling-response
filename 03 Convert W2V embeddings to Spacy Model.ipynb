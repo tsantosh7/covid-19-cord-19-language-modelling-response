{
 "cells": [
  {
   "cell_type": "code",
   "execution_count": 1,
   "metadata": {},
   "outputs": [],
   "source": [
    "# load the w2v model and save it as txt and then gzip\n",
    "from gensim.models.keyedvectors import KeyedVectors\n",
    "\n",
    "path_w2v = '/home/santosh/Work/models/word2vec/CORD-19/CORD-10-w2v_200d_5w_10i_3mc.bin'\n",
    "path_w2v_txt = '/home/santosh/Work/models/word2vec/CORD-19/CORD-10-w2v_200d_5w_10i_3mc.txt'"
   ]
  },
  {
   "cell_type": "code",
   "execution_count": null,
   "metadata": {},
   "outputs": [
    {
     "name": "stdout",
     "output_type": "stream",
     "text": [
      "############### Load the bin Model ####################\n",
      "############### Save the txt Model ####################\n"
     ]
    }
   ],
   "source": [
    "print('############### Load the bin Model ####################')\n",
    "model = KeyedVectors.load_word2vec_format(path_w2v, binary=True)\n",
    "\n",
    "print('############### Save the txt Model ####################')\n",
    "model.save_word2vec_format(path_w2v_txt, binary=False)"
   ]
  },
  {
   "cell_type": "code",
   "execution_count": null,
   "metadata": {},
   "outputs": [],
   "source": [
    "# gunzip it for spacy \n",
    "# Perform it using linux machine (dont know in windows :( )\n",
    "\n",
    "!gzip -c ~/Work/models/word2vec/CORD-19/CORD-10-w2v_200d_5w_10i_3mc.txt > ~/Work/models/word2vec/CORD-19/CORD-10-w2v_200d_5w_10i_3mc.gz"
   ]
  },
  {
   "cell_type": "code",
   "execution_count": null,
   "metadata": {},
   "outputs": [],
   "source": [
    "python -m spacy init-model en ./data/spacy.word2vec.model --vectors-loc word2vec.txt.gz"
   ]
  }
 ],
 "metadata": {
  "kernelspec": {
   "display_name": "Python [conda env:scispacy]",
   "language": "python",
   "name": "conda-env-scispacy-py"
  },
  "language_info": {
   "codemirror_mode": {
    "name": "ipython",
    "version": 3
   },
   "file_extension": ".py",
   "mimetype": "text/x-python",
   "name": "python",
   "nbconvert_exporter": "python",
   "pygments_lexer": "ipython3",
   "version": "3.6.9"
  }
 },
 "nbformat": 4,
 "nbformat_minor": 4
}
