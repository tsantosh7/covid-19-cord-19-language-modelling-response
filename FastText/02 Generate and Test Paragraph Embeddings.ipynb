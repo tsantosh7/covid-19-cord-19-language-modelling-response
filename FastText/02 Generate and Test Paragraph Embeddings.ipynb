{
 "cells": [
  {
   "cell_type": "code",
   "execution_count": 1,
   "metadata": {},
   "outputs": [],
   "source": [
    "from gensim.summarization import summarize\n",
    "import fse # fast sentence embeddings\n",
    "\n",
    "from gensim.models import KeyedVectors\n",
    "\n",
    "path_w2v = '/home/santosh/Work/models/word2vec/CORD-19/CORD-19-FT_200d_5w_5i_5mc.model'\n",
    "\n",
    "covid_trained_model = KeyedVectors.load(path_w2v)"
   ]
  },
  {
   "cell_type": "code",
   "execution_count": 3,
   "metadata": {},
   "outputs": [],
   "source": [
    "# Here I am using word embeddings from the CORD-19\n",
    "import glob\n",
    "import nltk\n",
    "import logging\n",
    "import os\n",
    "from tqdm import tqdm\n",
    "\n",
    "\n",
    "from nltk.corpus import stopwords\n",
    "from nltk.tokenize.treebank import TreebankWordDetokenizer, TreebankWordTokenizer\n",
    "\n",
    "# start the log\n",
    "logging.basicConfig(format='%(asctime)s : %(levelname)s : %(message)s',level=logging.INFO)\n",
    "\n",
    "\n",
    "def clean_my_text(full_text_):\n",
    "    stopset = set(stopwords.words('english')) #| set(string.punctuation)\n",
    "    tokens = TreebankWordTokenizer().tokenize(full_text_.split('---10')[0])\n",
    "    cleanup = [token for token in tokens if token not in stopset and len(token) > 1]\n",
    "    return cleanup\n",
    "\n",
    "\n",
    "# get the current working directory and file\n",
    "dir_path = '/home/santosh/Work/Datasets/CORD-19-sentences/'\n",
    "\n",
    "\n"
   ]
  },
  {
   "cell_type": "code",
   "execution_count": 3,
   "metadata": {},
   "outputs": [
    {
     "name": "stderr",
     "output_type": "stream",
     "text": [
      "100%|██████████| 12356/12356 [05:00<00:00, 41.07it/s]\n"
     ]
    }
   ],
   "source": [
    "paragraphs = []\n",
    "\n",
    "all_text_files = sorted(glob.glob(dir_path + '*.txt*'))\n",
    "\n",
    "for each_text_file in tqdm(all_text_files):\n",
    "    with open(each_text_file, 'r') as f:\n",
    "        temp_ = f.readlines()\n",
    "        for each_line in temp_:\n",
    "            paragraphs.append(TreebankWordTokenizer().tokenize(each_line))\n",
    "  "
   ]
  },
  {
   "cell_type": "code",
   "execution_count": 7,
   "metadata": {},
   "outputs": [],
   "source": [
    "import pickle\n",
    "\n",
    "def dump(data,filename):\n",
    "    file = open(result_dir_path+filename+'.bin','wb')\n",
    "    pickle.dump(data, file)\n",
    "    file.close()\n",
    "    \n",
    "def load(filename):\n",
    "    file = open(result_dir_path+filename+'.bin','rb')\n",
    "    data = pickle.load(file)\n",
    "    file.close()\n",
    "    return data    "
   ]
  },
  {
   "cell_type": "code",
   "execution_count": 6,
   "metadata": {},
   "outputs": [],
   "source": [
    "result_dir_path = '/home/santosh/Work/models/word2vec/CORD-19/'\n",
    "from fse import IndexedList\n",
    "\n",
    "paragraphs_index = IndexedList(paragraphs)\n",
    "dump(paragraphs_index, 'paragraphs_index_doi')"
   ]
  },
  {
   "cell_type": "code",
   "execution_count": 8,
   "metadata": {},
   "outputs": [],
   "source": [
    "result_dir_path = '/home/santosh/Work/models/word2vec/CORD-19/'\n",
    "paragraphs_index = load('paragraphs_index_doi')\n"
   ]
  },
  {
   "cell_type": "code",
   "execution_count": 11,
   "metadata": {},
   "outputs": [
    {
     "name": "stderr",
     "output_type": "stream",
     "text": [
      "2020-03-31 00:11:45,806 : INFO : no frequency mode: using wordfreq for estimation of frequency for language: en\n",
      "2020-03-31 00:11:46,153 : INFO : scanning all indexed sentences and their word counts\n",
      "2020-03-31 00:11:46,739 : INFO : finished scanning 486503 sentences with an average length of 146 and 71216436 total words\n",
      "2020-03-31 00:11:46,782 : INFO : estimated memory for 486503 sentences with 200 dimensions and 196469 vocabulary: 2197 MB (2 GB)\n",
      "2020-03-31 00:11:46,783 : INFO : initializing sentence vectors for 486503 sentences\n",
      "2020-03-31 00:11:48,456 : INFO : pre-computing uSIF weights for 196469 words\n",
      "2020-03-31 00:11:48,880 : INFO : begin training\n",
      "2020-03-31 00:11:53,900 : INFO : PROGRESS : finished 5.84% with 28435 sentences and 4026179 words, 5687 sentences/s\n",
      "2020-03-31 00:11:58,926 : INFO : PROGRESS : finished 11.58% with 56330 sentences and 8112200 words, 5579 sentences/s\n",
      "2020-03-31 00:12:03,956 : INFO : PROGRESS : finished 17.20% with 83680 sentences and 12127774 words, 5470 sentences/s\n",
      "2020-03-31 00:12:08,992 : INFO : PROGRESS : finished 22.91% with 111453 sentences and 16175752 words, 5554 sentences/s\n",
      "2020-03-31 00:12:14,035 : INFO : PROGRESS : finished 28.49% with 138618 sentences and 20134522 words, 5433 sentences/s\n",
      "2020-03-31 00:12:19,064 : INFO : PROGRESS : finished 34.30% with 166874 sentences and 24200002 words, 5651 sentences/s\n",
      "2020-03-31 00:12:24,096 : INFO : PROGRESS : finished 39.99% with 194548 sentences and 28342769 words, 5534 sentences/s\n",
      "2020-03-31 00:12:29,121 : INFO : PROGRESS : finished 45.74% with 222520 sentences and 32401883 words, 5594 sentences/s\n",
      "2020-03-31 00:12:34,123 : INFO : PROGRESS : finished 51.45% with 250289 sentences and 36457054 words, 5553 sentences/s\n",
      "2020-03-31 00:12:39,129 : INFO : PROGRESS : finished 57.22% with 278374 sentences and 40568458 words, 5617 sentences/s\n",
      "2020-03-31 00:12:44,136 : INFO : PROGRESS : finished 62.78% with 305428 sentences and 44544253 words, 5410 sentences/s\n",
      "2020-03-31 00:12:49,157 : INFO : PROGRESS : finished 68.54% with 333441 sentences and 48671893 words, 5602 sentences/s\n",
      "2020-03-31 00:12:54,190 : INFO : PROGRESS : finished 74.39% with 361901 sentences and 52765037 words, 5692 sentences/s\n",
      "2020-03-31 00:12:59,199 : INFO : PROGRESS : finished 79.96% with 389019 sentences and 56765294 words, 5423 sentences/s\n",
      "2020-03-31 00:13:04,241 : INFO : PROGRESS : finished 85.50% with 415962 sentences and 60702036 words, 5388 sentences/s\n",
      "2020-03-31 00:13:09,249 : INFO : PROGRESS : finished 91.13% with 443359 sentences and 64825365 words, 5479 sentences/s\n",
      "2020-03-31 00:13:14,295 : INFO : PROGRESS : finished 96.65% with 470214 sentences and 68875524 words, 5371 sentences/s\n",
      "2020-03-31 00:13:17,033 : INFO : worker thread finished; awaiting finish of 5 more threads\n",
      "2020-03-31 00:13:17,077 : INFO : worker thread finished; awaiting finish of 4 more threads\n",
      "2020-03-31 00:13:17,077 : INFO : worker thread finished; awaiting finish of 3 more threads\n",
      "2020-03-31 00:13:17,078 : INFO : worker thread finished; awaiting finish of 2 more threads\n",
      "2020-03-31 00:13:17,078 : INFO : worker thread finished; awaiting finish of 1 more threads\n",
      "2020-03-31 00:13:17,079 : INFO : worker thread finished; awaiting finish of 0 more threads\n",
      "2020-03-31 00:13:19,882 : INFO : computing 5 principal components took 2s\n",
      "2020-03-31 00:13:20,321 : INFO : removing 5 principal components took 0s\n",
      "2020-03-31 00:13:20,321 : INFO : training on 486503 effective sentences with 71216436 effective words took 88s with 5515 sentences/s\n"
     ]
    },
    {
     "data": {
      "text/plain": [
       "(486503, 71216436)"
      ]
     },
     "execution_count": 11,
     "metadata": {},
     "output_type": "execute_result"
    }
   ],
   "source": [
    "# SIF embeddings\n",
    "from fse.models import uSIF\n",
    "sif_model = uSIF(covid_trained_model, workers=6, lang_freq=\"en\")\n",
    "\n",
    "sif_model.train(paragraphs_index)"
   ]
  },
  {
   "cell_type": "code",
   "execution_count": 12,
   "metadata": {},
   "outputs": [
    {
     "name": "stderr",
     "output_type": "stream",
     "text": [
      "2020-03-31 00:13:47,684 : INFO : saving uSIF object under /home/santosh/Work/models/word2vec/CORD-19/CORD-19-FT_p2v_sif.model, separately None\n",
      "2020-03-31 00:13:47,685 : INFO : storing np array 'vectors' to /home/santosh/Work/models/word2vec/CORD-19/CORD-19-FT_p2v_sif.model.wv.vectors.npy\n",
      "2020-03-31 00:13:47,760 : INFO : storing np array 'vectors_vocab' to /home/santosh/Work/models/word2vec/CORD-19/CORD-19-FT_p2v_sif.model.wv.vectors_vocab.npy\n",
      "2020-03-31 00:13:47,830 : INFO : storing np array 'vectors_ngrams' to /home/santosh/Work/models/word2vec/CORD-19/CORD-19-FT_p2v_sif.model.wv.vectors_ngrams.npy\n",
      "2020-03-31 00:14:19,715 : INFO : storing np array 'vectors' to /home/santosh/Work/models/word2vec/CORD-19/CORD-19-FT_p2v_sif.model.sv.vectors.npy\n",
      "2020-03-31 00:14:31,826 : INFO : saved /home/santosh/Work/models/word2vec/CORD-19/CORD-19-FT_p2v_sif.model\n"
     ]
    }
   ],
   "source": [
    "sif_model.save(result_dir_path+'CORD-19-FT_p2v_sif.model')"
   ]
  },
  {
   "cell_type": "markdown",
   "metadata": {},
   "source": [
    "# Test Embeddings"
   ]
  },
  {
   "cell_type": "code",
   "execution_count": 13,
   "metadata": {},
   "outputs": [],
   "source": [
    "from gensim.summarization import summarize"
   ]
  },
  {
   "cell_type": "code",
   "execution_count": 6,
   "metadata": {},
   "outputs": [
    {
     "name": "stderr",
     "output_type": "stream",
     "text": [
      "2020-03-30 09:27:00,341 : INFO : loading Word2VecKeyedVectors object from /home/santosh/Work/models/word2vec/CORD-19/CORD-19-p2v_sif.bin\n",
      "2020-03-30 09:27:03,011 : INFO : loading wv recursively from /home/santosh/Work/models/word2vec/CORD-19/CORD-19-p2v_sif.bin.wv.* with mmap=None\n",
      "2020-03-30 09:27:03,012 : INFO : loading vectors from /home/santosh/Work/models/word2vec/CORD-19/CORD-19-p2v_sif.bin.wv.vectors.npy with mmap=None\n",
      "2020-03-30 09:27:05,548 : INFO : loading sv recursively from /home/santosh/Work/models/word2vec/CORD-19/CORD-19-p2v_sif.bin.sv.* with mmap=None\n",
      "2020-03-30 09:27:05,550 : INFO : loading vectors from /home/santosh/Work/models/word2vec/CORD-19/CORD-19-p2v_sif.bin.sv.vectors.npy with mmap=None\n",
      "2020-03-30 09:27:09,928 : INFO : loading prep recursively from /home/santosh/Work/models/word2vec/CORD-19/CORD-19-p2v_sif.bin.prep.* with mmap=None\n",
      "2020-03-30 09:27:09,930 : INFO : loaded /home/santosh/Work/models/word2vec/CORD-19/CORD-19-p2v_sif.bin\n"
     ]
    }
   ],
   "source": [
    "from gensim.models import KeyedVectors\n",
    "sif_model = KeyedVectors.load(path_w2v+'CORD-19-p2v_sif.bin')"
   ]
  },
  {
   "cell_type": "code",
   "execution_count": 14,
   "metadata": {},
   "outputs": [],
   "source": [
    "import re\n",
    "def extract_query_result(sv_query_result):\n",
    "    result_sentences =[]\n",
    "    for each_result in sv_query_result:\n",
    "        result_sentences.append(TreebankWordDetokenizer().detokenize((each_result[0])))\n",
    "     \n",
    "    return result_sentences"
   ]
  },
  {
   "cell_type": "code",
   "execution_count": 17,
   "metadata": {},
   "outputs": [
    {
     "name": "stdout",
     "output_type": "stream",
     "text": [
      "Requirement already satisfied: spacy in /home/santosh/anaconda3/envs/scispacy/lib/python3.6/site-packages (2.2.3)\n",
      "Requirement already satisfied: srsly<1.1.0,>=0.1.0 in /home/santosh/anaconda3/envs/scispacy/lib/python3.6/site-packages (from spacy) (0.1.0)\n",
      "Requirement already satisfied: wasabi<1.1.0,>=0.4.0 in /home/santosh/anaconda3/envs/scispacy/lib/python3.6/site-packages (from spacy) (0.4.2)\n",
      "Requirement already satisfied: catalogue<1.1.0,>=0.0.7 in /home/santosh/anaconda3/envs/scispacy/lib/python3.6/site-packages (from spacy) (0.0.8)\n",
      "Requirement already satisfied: cymem<2.1.0,>=2.0.2 in /home/santosh/anaconda3/envs/scispacy/lib/python3.6/site-packages (from spacy) (2.0.2)\n",
      "Requirement already satisfied: setuptools in /home/santosh/anaconda3/envs/scispacy/lib/python3.6/site-packages (from spacy) (41.0.1)\n",
      "Requirement already satisfied: plac<1.2.0,>=0.9.6 in /home/santosh/anaconda3/envs/scispacy/lib/python3.6/site-packages (from spacy) (0.9.6)\n",
      "Requirement already satisfied: requests<3.0.0,>=2.13.0 in /home/santosh/anaconda3/envs/scispacy/lib/python3.6/site-packages (from spacy) (2.22.0)\n",
      "Requirement already satisfied: numpy>=1.15.0 in /home/santosh/anaconda3/envs/scispacy/lib/python3.6/site-packages (from spacy) (1.17.0)\n",
      "Requirement already satisfied: blis<0.5.0,>=0.4.0 in /home/santosh/anaconda3/envs/scispacy/lib/python3.6/site-packages (from spacy) (0.4.1)\n",
      "Requirement already satisfied: murmurhash<1.1.0,>=0.28.0 in /home/santosh/anaconda3/envs/scispacy/lib/python3.6/site-packages (from spacy) (1.0.2)\n",
      "Requirement already satisfied: thinc<7.4.0,>=7.3.0 in /home/santosh/anaconda3/envs/scispacy/lib/python3.6/site-packages (from spacy) (7.3.1)\n",
      "Requirement already satisfied: preshed<3.1.0,>=3.0.2 in /home/santosh/anaconda3/envs/scispacy/lib/python3.6/site-packages (from spacy) (3.0.2)\n",
      "Requirement already satisfied: importlib-metadata>=0.20; python_version < \"3.8\" in /home/santosh/anaconda3/envs/scispacy/lib/python3.6/site-packages (from catalogue<1.1.0,>=0.0.7->spacy) (1.5.0)\n",
      "Requirement already satisfied: certifi>=2017.4.17 in /home/santosh/anaconda3/envs/scispacy/lib/python3.6/site-packages (from requests<3.0.0,>=2.13.0->spacy) (2019.11.28)\n",
      "Requirement already satisfied: urllib3!=1.25.0,!=1.25.1,<1.26,>=1.21.1 in /home/santosh/anaconda3/envs/scispacy/lib/python3.6/site-packages (from requests<3.0.0,>=2.13.0->spacy) (1.25.3)\n",
      "Requirement already satisfied: idna<2.9,>=2.5 in /home/santosh/anaconda3/envs/scispacy/lib/python3.6/site-packages (from requests<3.0.0,>=2.13.0->spacy) (2.8)\n",
      "Requirement already satisfied: chardet<3.1.0,>=3.0.2 in /home/santosh/anaconda3/envs/scispacy/lib/python3.6/site-packages (from requests<3.0.0,>=2.13.0->spacy) (3.0.4)\n",
      "Requirement already satisfied: tqdm<5.0.0,>=4.10.0 in /home/santosh/anaconda3/envs/scispacy/lib/python3.6/site-packages (from thinc<7.4.0,>=7.3.0->spacy) (4.34.0)\n",
      "Requirement already satisfied: zipp>=0.5 in /home/santosh/anaconda3/envs/scispacy/lib/python3.6/site-packages (from importlib-metadata>=0.20; python_version < \"3.8\"->catalogue<1.1.0,>=0.0.7->spacy) (2.2.0)\n",
      "Collecting transformers==2.2.0\n",
      "\u001b[?25l  Downloading https://files.pythonhosted.org/packages/ec/e7/0a1babead1b79afabb654fbec0a052e0d833ba4205a6dfd98b1aeda9c82e/transformers-2.2.0-py3-none-any.whl (360kB)\n",
      "\u001b[K     |████████████████████████████████| 368kB 1.4MB/s eta 0:00:01\n",
      "\u001b[?25hRequirement already satisfied: numpy in /home/santosh/anaconda3/envs/scispacy/lib/python3.6/site-packages (from transformers==2.2.0) (1.17.0)\n",
      "Requirement already satisfied: sentencepiece in /home/santosh/anaconda3/envs/scispacy/lib/python3.6/site-packages (from transformers==2.2.0) (0.1.83)\n",
      "Requirement already satisfied: requests in /home/santosh/anaconda3/envs/scispacy/lib/python3.6/site-packages (from transformers==2.2.0) (2.22.0)\n",
      "Requirement already satisfied: tqdm in /home/santosh/anaconda3/envs/scispacy/lib/python3.6/site-packages (from transformers==2.2.0) (4.34.0)\n",
      "Requirement already satisfied: regex in /home/santosh/anaconda3/envs/scispacy/lib/python3.6/site-packages (from transformers==2.2.0) (2018.2.21)\n",
      "Requirement already satisfied: sacremoses in /home/santosh/anaconda3/envs/scispacy/lib/python3.6/site-packages (from transformers==2.2.0) (0.0.35)\n",
      "Requirement already satisfied: boto3 in /home/santosh/anaconda3/envs/scispacy/lib/python3.6/site-packages (from transformers==2.2.0) (1.10.33)\n",
      "Requirement already satisfied: urllib3!=1.25.0,!=1.25.1,<1.26,>=1.21.1 in /home/santosh/anaconda3/envs/scispacy/lib/python3.6/site-packages (from requests->transformers==2.2.0) (1.25.3)\n",
      "Requirement already satisfied: certifi>=2017.4.17 in /home/santosh/anaconda3/envs/scispacy/lib/python3.6/site-packages (from requests->transformers==2.2.0) (2019.11.28)\n",
      "Requirement already satisfied: idna<2.9,>=2.5 in /home/santosh/anaconda3/envs/scispacy/lib/python3.6/site-packages (from requests->transformers==2.2.0) (2.8)\n",
      "Requirement already satisfied: chardet<3.1.0,>=3.0.2 in /home/santosh/anaconda3/envs/scispacy/lib/python3.6/site-packages (from requests->transformers==2.2.0) (3.0.4)\n",
      "Requirement already satisfied: joblib in /home/santosh/anaconda3/envs/scispacy/lib/python3.6/site-packages (from sacremoses->transformers==2.2.0) (0.13.2)\n",
      "Requirement already satisfied: six in /home/santosh/anaconda3/envs/scispacy/lib/python3.6/site-packages (from sacremoses->transformers==2.2.0) (1.12.0)\n",
      "Requirement already satisfied: click in /home/santosh/anaconda3/envs/scispacy/lib/python3.6/site-packages (from sacremoses->transformers==2.2.0) (6.6)\n",
      "Requirement already satisfied: s3transfer<0.3.0,>=0.2.0 in /home/santosh/anaconda3/envs/scispacy/lib/python3.6/site-packages (from boto3->transformers==2.2.0) (0.2.1)\n",
      "Requirement already satisfied: botocore<1.14.0,>=1.13.33 in /home/santosh/anaconda3/envs/scispacy/lib/python3.6/site-packages (from boto3->transformers==2.2.0) (1.13.33)\n",
      "Requirement already satisfied: jmespath<1.0.0,>=0.7.1 in /home/santosh/anaconda3/envs/scispacy/lib/python3.6/site-packages (from boto3->transformers==2.2.0) (0.9.4)\n",
      "Requirement already satisfied: python-dateutil<2.8.1,>=2.1; python_version >= \"2.7\" in /home/santosh/anaconda3/envs/scispacy/lib/python3.6/site-packages (from botocore<1.14.0,>=1.13.33->boto3->transformers==2.2.0) (2.8.0)\n",
      "Requirement already satisfied: docutils<0.16,>=0.10 in /home/santosh/anaconda3/envs/scispacy/lib/python3.6/site-packages (from botocore<1.14.0,>=1.13.33->boto3->transformers==2.2.0) (0.15.2)\n",
      "\u001b[31mERROR: spacy-transformers 0.5.1 has requirement transformers<2.1.0,>=2.0.0, but you'll have transformers 2.2.0 which is incompatible.\u001b[0m\n",
      "Installing collected packages: transformers\n",
      "  Found existing installation: transformers 2.0.0\n",
      "    Uninstalling transformers-2.0.0:\n",
      "      Successfully uninstalled transformers-2.0.0\n",
      "Successfully installed transformers-2.2.0\n",
      "Collecting bert-extractive-summarizer\n",
      "  Downloading https://files.pythonhosted.org/packages/14/0a/c5f1a9b798c51226e17d079e05b127c26df08545211e9f45802ddeca46fe/bert-extractive-summarizer-0.4.0.tar.gz\n",
      "Requirement already satisfied: transformers in /home/santosh/anaconda3/envs/scispacy/lib/python3.6/site-packages (from bert-extractive-summarizer) (2.2.0)\n",
      "Requirement already satisfied: scikit-learn in /home/santosh/anaconda3/envs/scispacy/lib/python3.6/site-packages (from bert-extractive-summarizer) (0.21.3)\n",
      "Requirement already satisfied: spacy in /home/santosh/anaconda3/envs/scispacy/lib/python3.6/site-packages (from bert-extractive-summarizer) (2.2.3)\n",
      "Requirement already satisfied: sentencepiece in /home/santosh/anaconda3/envs/scispacy/lib/python3.6/site-packages (from transformers->bert-extractive-summarizer) (0.1.83)\n",
      "Requirement already satisfied: sacremoses in /home/santosh/anaconda3/envs/scispacy/lib/python3.6/site-packages (from transformers->bert-extractive-summarizer) (0.0.35)\n",
      "Requirement already satisfied: numpy in /home/santosh/anaconda3/envs/scispacy/lib/python3.6/site-packages (from transformers->bert-extractive-summarizer) (1.17.0)\n",
      "Requirement already satisfied: boto3 in /home/santosh/anaconda3/envs/scispacy/lib/python3.6/site-packages (from transformers->bert-extractive-summarizer) (1.10.33)\n",
      "Requirement already satisfied: tqdm in /home/santosh/anaconda3/envs/scispacy/lib/python3.6/site-packages (from transformers->bert-extractive-summarizer) (4.34.0)\n",
      "Requirement already satisfied: requests in /home/santosh/anaconda3/envs/scispacy/lib/python3.6/site-packages (from transformers->bert-extractive-summarizer) (2.22.0)\n",
      "Requirement already satisfied: regex in /home/santosh/anaconda3/envs/scispacy/lib/python3.6/site-packages (from transformers->bert-extractive-summarizer) (2018.2.21)\n",
      "Requirement already satisfied: scipy>=0.17.0 in /home/santosh/anaconda3/envs/scispacy/lib/python3.6/site-packages (from scikit-learn->bert-extractive-summarizer) (1.3.1)\n",
      "Requirement already satisfied: joblib>=0.11 in /home/santosh/anaconda3/envs/scispacy/lib/python3.6/site-packages (from scikit-learn->bert-extractive-summarizer) (0.13.2)\n",
      "Requirement already satisfied: setuptools in /home/santosh/anaconda3/envs/scispacy/lib/python3.6/site-packages (from spacy->bert-extractive-summarizer) (41.0.1)\n",
      "Requirement already satisfied: preshed<3.1.0,>=3.0.2 in /home/santosh/anaconda3/envs/scispacy/lib/python3.6/site-packages (from spacy->bert-extractive-summarizer) (3.0.2)\n",
      "Requirement already satisfied: thinc<7.4.0,>=7.3.0 in /home/santosh/anaconda3/envs/scispacy/lib/python3.6/site-packages (from spacy->bert-extractive-summarizer) (7.3.1)\n"
     ]
    },
    {
     "name": "stdout",
     "output_type": "stream",
     "text": [
      "Requirement already satisfied: cymem<2.1.0,>=2.0.2 in /home/santosh/anaconda3/envs/scispacy/lib/python3.6/site-packages (from spacy->bert-extractive-summarizer) (2.0.2)\n",
      "Requirement already satisfied: wasabi<1.1.0,>=0.4.0 in /home/santosh/anaconda3/envs/scispacy/lib/python3.6/site-packages (from spacy->bert-extractive-summarizer) (0.4.2)\n",
      "Requirement already satisfied: murmurhash<1.1.0,>=0.28.0 in /home/santosh/anaconda3/envs/scispacy/lib/python3.6/site-packages (from spacy->bert-extractive-summarizer) (1.0.2)\n",
      "Requirement already satisfied: srsly<1.1.0,>=0.1.0 in /home/santosh/anaconda3/envs/scispacy/lib/python3.6/site-packages (from spacy->bert-extractive-summarizer) (0.1.0)\n",
      "Requirement already satisfied: blis<0.5.0,>=0.4.0 in /home/santosh/anaconda3/envs/scispacy/lib/python3.6/site-packages (from spacy->bert-extractive-summarizer) (0.4.1)\n",
      "Requirement already satisfied: catalogue<1.1.0,>=0.0.7 in /home/santosh/anaconda3/envs/scispacy/lib/python3.6/site-packages (from spacy->bert-extractive-summarizer) (0.0.8)\n",
      "Requirement already satisfied: plac<1.2.0,>=0.9.6 in /home/santosh/anaconda3/envs/scispacy/lib/python3.6/site-packages (from spacy->bert-extractive-summarizer) (0.9.6)\n",
      "Requirement already satisfied: six in /home/santosh/anaconda3/envs/scispacy/lib/python3.6/site-packages (from sacremoses->transformers->bert-extractive-summarizer) (1.12.0)\n",
      "Requirement already satisfied: click in /home/santosh/anaconda3/envs/scispacy/lib/python3.6/site-packages (from sacremoses->transformers->bert-extractive-summarizer) (6.6)\n",
      "Requirement already satisfied: s3transfer<0.3.0,>=0.2.0 in /home/santosh/anaconda3/envs/scispacy/lib/python3.6/site-packages (from boto3->transformers->bert-extractive-summarizer) (0.2.1)\n",
      "Requirement already satisfied: jmespath<1.0.0,>=0.7.1 in /home/santosh/anaconda3/envs/scispacy/lib/python3.6/site-packages (from boto3->transformers->bert-extractive-summarizer) (0.9.4)\n",
      "Requirement already satisfied: botocore<1.14.0,>=1.13.33 in /home/santosh/anaconda3/envs/scispacy/lib/python3.6/site-packages (from boto3->transformers->bert-extractive-summarizer) (1.13.33)\n",
      "Requirement already satisfied: certifi>=2017.4.17 in /home/santosh/anaconda3/envs/scispacy/lib/python3.6/site-packages (from requests->transformers->bert-extractive-summarizer) (2019.11.28)\n",
      "Requirement already satisfied: idna<2.9,>=2.5 in /home/santosh/anaconda3/envs/scispacy/lib/python3.6/site-packages (from requests->transformers->bert-extractive-summarizer) (2.8)\n",
      "Requirement already satisfied: chardet<3.1.0,>=3.0.2 in /home/santosh/anaconda3/envs/scispacy/lib/python3.6/site-packages (from requests->transformers->bert-extractive-summarizer) (3.0.4)\n",
      "Requirement already satisfied: urllib3!=1.25.0,!=1.25.1,<1.26,>=1.21.1 in /home/santosh/anaconda3/envs/scispacy/lib/python3.6/site-packages (from requests->transformers->bert-extractive-summarizer) (1.25.3)\n",
      "Requirement already satisfied: importlib-metadata>=0.20; python_version < \"3.8\" in /home/santosh/anaconda3/envs/scispacy/lib/python3.6/site-packages (from catalogue<1.1.0,>=0.0.7->spacy->bert-extractive-summarizer) (1.5.0)\n",
      "Requirement already satisfied: python-dateutil<2.8.1,>=2.1; python_version >= \"2.7\" in /home/santosh/anaconda3/envs/scispacy/lib/python3.6/site-packages (from botocore<1.14.0,>=1.13.33->boto3->transformers->bert-extractive-summarizer) (2.8.0)\n",
      "Requirement already satisfied: docutils<0.16,>=0.10 in /home/santosh/anaconda3/envs/scispacy/lib/python3.6/site-packages (from botocore<1.14.0,>=1.13.33->boto3->transformers->bert-extractive-summarizer) (0.15.2)\n",
      "Requirement already satisfied: zipp>=0.5 in /home/santosh/anaconda3/envs/scispacy/lib/python3.6/site-packages (from importlib-metadata>=0.20; python_version < \"3.8\"->catalogue<1.1.0,>=0.0.7->spacy->bert-extractive-summarizer) (2.2.0)\n",
      "Building wheels for collected packages: bert-extractive-summarizer\n",
      "  Building wheel for bert-extractive-summarizer (setup.py) ... \u001b[?25ldone\n",
      "\u001b[?25h  Stored in directory: /home/santosh/.cache/pip/wheels/01/68/6b/b574b0e49d621123a2e67a7ec8ae2645ab61fe9f84159947dd\n",
      "Successfully built bert-extractive-summarizer\n",
      "Installing collected packages: bert-extractive-summarizer\n",
      "Successfully installed bert-extractive-summarizer-0.4.0\n"
     ]
    }
   ],
   "source": [
    "!pip install transformers==2.2.0\n",
    "!pip install bert-extractive-summarizer"
   ]
  },
  {
   "cell_type": "code",
   "execution_count": 18,
   "metadata": {},
   "outputs": [
    {
     "name": "stderr",
     "output_type": "stream",
     "text": [
      "2020-03-31 00:17:44,712 : INFO : PyTorch version 1.3.1 available.\n"
     ]
    }
   ],
   "source": [
    "from summarizer import Summarizer"
   ]
  },
  {
   "cell_type": "code",
   "execution_count": 19,
   "metadata": {},
   "outputs": [
    {
     "data": {
      "text/plain": [
       "[\"mean incubation period was 5.2 days (95% confidence interval [CI]: 4.1-7.0) [2]. As reported 143 by Xu et al [10], the median time from exposure to onset of illness (infected) was 4 days (interquartile 144 range 3-5 days). Another study showed that the mean of incubation period was around 5 days and the 145 period falls within the range of 2-14 days [11]. We set the 5-day as the incubation period and the latent 146 period in this study. Thus, \\uf077 = \\uf077' = 0.2. 147---10.1101/2020.03.05.20031849---\",\n",
       " 'Current estimates suggest a mean incubation period of 6.4 days (95% credible interval : 5.6-7.7), with a range from 2.1 to 11.1 days (2.5th to 97.5th percentile) [19]. To date, the maximum observed incubation period was 14 days [8].---10.3390/healthcare8010051---',\n",
       " 'Currently, our understanding of the incubation period for 2019-nCoV is limited. An early analysis based on 34 confirmed cases in Chinese provinces outside Wuhan, using data on known travel to and from Wuhan to estimate the exposure interval, indicates a mean incubation period of 5.8 (95% CI : 4.6 , 7.9) days, ranging from 1.3 to 11.3 days [6]. A more recent analysis based on 10 confirmed cases in China provided a similar estimate, showing a mean incubation period of 5.2 (95% CI : 4.1 , 7.0) days [7]. This estimate is also in line with clinical reports of a familial cluster of 2019-nCoV in which symptom onset occurred 3-6 days after assumed exposure in Wuhan [1]. These estimates of the incubation period of 2019-nCoV are consistent with those of other known human coronaviruses, including SARS (mean 5 days, range 2-14 days; [8] ), MERS (mean 5-7 days, range 2-14 days; [9] ), and non-SARS human coronavirus (mean 3 days, range 2-5 days; [10] ).---10.1101/2020.02.02.20020016---',\n",
       " 'Estimates of the effective reproductive number, R, of COVID-19 from January 20 through February 9 , 2020, based on the point estimate of the harmonic mean doubling time estimated for Hunan (lowest), Hubei (epicenter) and Xinjiang (highest), using parameter values from different sources. Part 1. Using equation R0 = (1+rD1) (1+rD2) Scenario 1. Mean incubation period of 6.4 days (5) and mean duration from onset of symptoms to isolation of 0.7 day (10). Mean incubation period of 4.8 days (10) and mean duration from onset of symptoms to isolation of 0.7 day (10). Part 2. Using equation R0 = 1 + rTS + fr (1-fr) (rTS) 2 Using the serial interval of 7.5 days from Li et al. (6) Ratio between duration of infectious period and serial interval, fr Scenario 3. If fr = 0.Using the serial interval of 3.96 days from Du et al. (7) Ratio between duration of infectious period and serial interval, fr Scenario 6. If fr = 0.All estimates are rounded to 1 decimal place.---10.1101/2020.02.05.20020750---',\n",
       " 'where j = 1 , 2 , 3…t-1. Due to different reporting details for case detections in various countries, the times of arrival are sometimes unavailable and only the days of illness onset will be reported during the early period of pandemic. When the time of arrival is unknown, we have assumed that it follows a multinomial distribution with a probability vector u = {u k}, k = k min, …-1 , 0 , 1, … k max (the minus numbers of days represent previous days with a minimum k min number of days, and the positive days represent following days with a maximum k max number of days) as the days from arrival to illness onset can be varied [15]. Given that the distribution is known, the adjusted probability is---10.1186/s12874-017-0300-1---',\n",
       " 'Among the 118 patients with pneumonia , 16 (13.6 %) were referred from another health center; median length of hospital stay was 7 days (IQR : 6-10 days) for a total of 909 days of hospitalization (Table 1). The median time period between first symptoms and hospitalization was 6 days (IQR : 4-7 days).---10.1371/journal.pone.0145447---',\n",
       " 'The daily variation of cumulative confirmed cases, cumulative cured cases and cumulative deaths of COVID-19 in Wuhan City and Hubei Province. Death time and cure time After treatment, the COVID-19 patients would end up dead or cured. The time from diagnosis to death is called death time. The time from diagnosis to discharge is cure time. We collected the detailed dates of COVID-19 cases reported on the websites of the National Health Commissions of China and Provincial Health Commissions of China. The death time was calculated on the basis of the diagnosis dates and death dates of 134 dead patients. The mean death time of COVID-19 was 9.2±6.7 days, the median death time was 8 days, and the quartile spacing was 9.2 days. According to the diagnosis dates, and discharge dates of 536 cured cases with COVID-19, the cure time from diagnosis dates to discharge dates was calculated. The cure time curve of the patients displayed a left skewed distribution with a skewness of 0.85. The mean cure time was 13.6±5.6 days, the median cure time of was 12 days, and a 95% confidence interval was from 7.4 to 21.7 (figure 5).---10.1101/2020.03.11.20034215---',\n",
       " 'Early predictions for incubation time are between 2 and 14 days, based on data from similar coronaviruses, with the 95th percentile of the distribution at 12.5 days [1]. The 14-day criterion for epidemiological risk assumes the longest estimated incubation time [6]. So, we assume the exposed period is 14 days, so T E =14.---10.1101/2020.02.10.20021519---',\n",
       " 'The geographic spread of 2019 novel coronavirus infections from the epicenter of Wuhan, China, has provided an opportunity to study the natural history of the recently emerged virus. Using publicly available event-date data from the ongoing epidemic, the present study investigated the incubation period and other time intervals that govern the epidemiological dynamics of COVID-19 infections. Our results show that the incubation period falls within the range of 2-14 days with 95% confidence and has a mean of around 5 days when approximated using the best-fit lognormal distribution. The mean time from illness onset to hospital admission (for treatment and/or isolation) was estimated at 3-4 days without truncation and at 5-9 days when right truncated. Based on the 95th percentile estimate of the incubation period, we recommend that the length of quarantine should be at least 14 days. The median time delay of 13 days from illness onset to death (17 days with right truncation) should be considered when estimating the COVID-19 case fatality risk.---10.1101/2020.01.26.20018754---',\n",
       " 'The geographic spread of 2019 novel coronavirus infections from the epicenter of Wuhan, China, has provided an opportunity to study the natural history of the recently emerged virus. Using publicly available event-date data from the ongoing epidemic, the present study investigated the incubation period and other time intervals that govern the epidemiological dynamics of COVID-19 infections. Our results show that the incubation period falls within the range of 2-14 days with 95% confidence and has a mean of around 5 days when approximated using the best-fit lognormal distribution. The mean time from illness onset to hospital admission (for treatment and/or isolation) was estimated at 3-4 days without truncation and at 5-9 days when right truncated. Based on the 95th percentile estimate of the incubation period, we recommend that the length of quarantine should be at least 14 days. The median time delay of 13 days from illness onset to death (17 days with right truncation) should be considered when estimating the COVID-19 case fatality risk.---10.3390/jcm9020538---']"
      ]
     },
     "execution_count": 19,
     "metadata": {},
     "output_type": "execute_result"
    }
   ],
   "source": [
    "extract_query_result(query_result)"
   ]
  },
  {
   "cell_type": "code",
   "execution_count": 24,
   "metadata": {},
   "outputs": [
    {
     "name": "stderr",
     "output_type": "stream",
     "text": [
      "2020-03-31 00:26:44,299 : INFO : loading configuration file https://s3.amazonaws.com/models.huggingface.co/bert/bert-large-uncased-config.json from cache at /home/santosh/.cache/torch/transformers/6dfaed860471b03ab5b9acb6153bea82b6632fb9bbe514d3fff050fe1319ee6d.fc076a4d5f1edf25ea3a2bd66e9f6f295dcd64c81dfef5b3f5a3eb2a82751ad1\n",
      "2020-03-31 00:26:44,341 : INFO : Model config {\n",
      "  \"architectures\": [\n",
      "    \"BertForMaskedLM\"\n",
      "  ],\n",
      "  \"attention_probs_dropout_prob\": 0.1,\n",
      "  \"finetuning_task\": null,\n",
      "  \"hidden_act\": \"gelu\",\n",
      "  \"hidden_dropout_prob\": 0.1,\n",
      "  \"hidden_size\": 1024,\n",
      "  \"initializer_range\": 0.02,\n",
      "  \"intermediate_size\": 4096,\n",
      "  \"is_decoder\": false,\n",
      "  \"layer_norm_eps\": 1e-12,\n",
      "  \"max_position_embeddings\": 512,\n",
      "  \"num_attention_heads\": 16,\n",
      "  \"num_hidden_layers\": 24,\n",
      "  \"num_labels\": 2,\n",
      "  \"output_attentions\": false,\n",
      "  \"output_hidden_states\": true,\n",
      "  \"output_past\": true,\n",
      "  \"pruned_heads\": {},\n",
      "  \"torchscript\": false,\n",
      "  \"type_vocab_size\": 2,\n",
      "  \"use_bfloat16\": false,\n",
      "  \"vocab_size\": 30522\n",
      "}\n",
      "\n",
      "2020-03-31 00:26:44,931 : INFO : loading weights file https://s3.amazonaws.com/models.huggingface.co/bert/bert-large-uncased-pytorch_model.bin from cache at /home/santosh/.cache/torch/transformers/54da47087cc86ce75324e4dc9bbb5f66c6e83a7c6bd23baea8b489acc8d09aa4.4d5343a4b979c4beeaadef17a0453d1bb183dd9b084f58b84c7cc781df343ae6\n",
      "2020-03-31 00:31:40,431 : INFO : loading file https://s3.amazonaws.com/models.huggingface.co/bert/bert-large-uncased-vocab.txt from cache at /home/santosh/.cache/torch/transformers/9b3c03a36e83b13d5ba95ac965c9f9074a99e14340c523ab405703179e79fc46.542ce4285a40d23a559526243235df47c5f75c197f04f37d1a0c124c32c9a084\n"
     ]
    },
    {
     "data": {
      "text/plain": [
       "'COPD patients usually have increased number of comorbitities (cardiovascular diseases, respiratory tract diseases, metabolic diseases, haematological diseases / coagulopathies, musculoskeletal diseases, gastro-intestinal diseases, renal diseases, psychiatric diseases, neoplasias) known as``COPD comorbidome\"which are considered as COPD-related (e.g. respiratory failure, pulmonary heart disease cachexia) or COPD-non related (eg obesity, diabetes mellitus, arterial hypertension) [23] [24] [25]. These articles were excluded because these zoonotic pathogens, are not transmitted through direct contact between livestock and humans.---10.1016/j.onehlt.2016.03.001--- As a highly potent herb widely used to treat various diseases, AR has played an indispensable role in healthcare throughout Chinese history [1 , 2]. The capacity of Chlamydia infections to lead to infertility and blindness, their association with chronic diseases such as atherosclerosis, and the extraordinary prevalence and array of these infections make them public concerns of primary importance [1 , 2].---10.1371/journal.ppat.1002198--- Causative agents of WFB communicable diseases among symptomatic travelers who were quarantined (2013-2017).---10.24171/j.phrp.2019.10.4.03--- Viral infections commonly cause acute gastroenteritis with the highest burden concentrated in tropical and subtropical regions of the world. AMI, acute myocardial injury; COPD, chronic obstructive pulmonary diseases; COVID-19, Coronavirus Disease 2019.---10.1101/2020.03.05.20031591--- There were no differences in sex distribution in either group. 2019).---10.1016/j.ijppaw.2019.05.011--- Viral infections are frequently cited as a major environmental factor involved in subacute thyroiditis and autoimmune thyroid diseases This review examines the data related to the role of viruses in the development of thyroiditis.---10.1186/1743-422X-6-5--- Despite their alarming impact on human health, fungal diseases have been continually neglected over the years. For example, in individuals over 10 years old, the prevalence of hepatitis B, a risk factor for liver cancer, was 3.2%, and in individuals over 30 years old the prevalence was 4.0%, significantly higher than that of other countries such as the USA (0.4 %) (9). 2) Neglected tropical diseases, including other important diseases in addition to the major helminthic and protozoal infections that are now being emphasized.---10.4269/ajtmh.14-0056--- Infectious diseases are a major health concern worldwide, causing millions of illnesses and deaths each year. Preexisting chronic conditions such as cardiovascular diseases, diabetes, obesity, and asthma were thought to predict risk of progression to severe infections.---10.1371/journal.pone.0200200--- Potential role of autophagy in ameliorating/deteriorating diseases and homeostasis.---10.3390/cells8070674--- Infectious diseases remain the most frequently identified medical diagnosis among refugee children arriving in the U.S. [22 , 23]. In the EU and EEA, infectious diseases are the most common cause of illness in migrant children living in refugee camps and other reception areas, including acute respiratory tract infections, outbreaks of vaccine-preventable diseases, such as measles, and skin infection (e.g., scabies, pediculosis); gastrointestinal infection (e.g., shigellosis); typhoid fever; hepatitis A; tuberculosis; and malaria [25 , 26]. In this article, we discuss the priority infectious disease affecting refugee children, review guidelines for evaluation and screening tests, and address preventative measures through immunizations.---10.3390/children6120129--- Infectious diseases have been emerging and reemerging over millennia [1].---10.3390/v8070183--- Clinical and epidemiological characteristics of fatal infections with MERS-CoV vs SARS-CoV in healthcare personnel (HCP).associated with older age with comorbidities (e.g., diabetes, hematological diseases, smoking, etc.), The pattern recognition receptors (PRRs) of the innate immune system are able to recognize pathogen-associated molecular patterns (PAMPs), which trigger relevant signal transmission leading to inflammatory responses. The conditions and mechanisms behind animal-to-human spillover are unknown.---10.1371/journal.pone.0084679--- Infectious diseases occur frequently within last twenty years.---10.1101/2020.02.26.20028571--- Almost three-quarters of all grants were for noncommunicable diseases (72% ; 40,035), followed by communicable, maternal, perinatal and nutritional conditions (20% ; 11,123) and injuries (6% ; 3056) (Table 4, Fig. Among non-communicable diseases , 24% (9483 grants) were for malignant neoplasms, followed by mental and substance use disorders (15% ; 5945), neurological conditions (12% ; 4981), and cardiovascular diseases (11% ; 4473). Disease surveillance in humans is required to reveal factors influencing the appearance and frequency of diseases in the region.---10.1186/s13104-016-2009-3--- Cases related to cardiac problems were expected. Design of clinical trials to detect inflammation/toxicity due to mRNA---10.3390/vaccines7020037--- The emerging viruses exert a significant public health threat [2 , 3] and include ebolaviruses, henipaviruses, lyssaviruses and coronaviruses [4] [5] [6] [7] [8] [9].'"
      ]
     },
     "execution_count": 24,
     "metadata": {},
     "output_type": "execute_result"
    }
   ],
   "source": [
    "model = Summarizer()\n",
    "body = ' '.join(extract_query_result(query_result))\n",
    "result = model(body, min_length=200)\n",
    "full = ''.join(result)\n",
    "full"
   ]
  },
  {
   "cell_type": "code",
   "execution_count": 43,
   "metadata": {},
   "outputs": [
    {
     "name": "stderr",
     "output_type": "stream",
     "text": [
      "2020-03-31 00:40:21,214 : INFO : scanning all indexed sentences and their word counts\n",
      "2020-03-31 00:40:21,214 : INFO : finished scanning 1 sentences with an average length of 6 and 6 total words\n",
      "2020-03-31 00:40:21,215 : INFO : removing 5 principal components took 0s\n",
      "2020-03-31 00:40:21,273 : INFO : adding document #0 to Dictionary(0 unique tokens: [])\n",
      "2020-03-31 00:40:21,277 : INFO : built Dictionary(218 unique tokens: ['accord', 'admiss', 'characterist', 'fatal', 'icu']...) from 47 documents (total 613 corpus positions)\n",
      "2020-03-31 00:40:21,279 : INFO : Building graph\n",
      "2020-03-31 00:40:21,280 : INFO : Filling graph\n",
      "2020-03-31 00:40:21,300 : INFO : Removing unreachable nodes of graph\n",
      "2020-03-31 00:40:21,302 : INFO : Pagerank graph\n",
      "2020-03-31 00:40:21,314 : INFO : Sorting pagerank scores\n"
     ]
    },
    {
     "data": {
      "text/plain": [
       "['(D) Fatality by age groups among suspected and confirmed patients.',\n",
       " 'Compared with outpatient/ED patients, the hospitalized cases were more frequently male (58.3% vs.',\n",
       " 'Regarding ILI Influenza A (H1N1) pdm09 negative patients, CT/CC genotype carriers had a higher risk of being hospitalized than patients with TT genotype (Adjusted OR : 2.54 (95% CI : 1.54-4.19) ).---10.1371/journal.pone.0158181--- General characteristics of hematological parameters among healthy control (HC), CAP patients and NCIP patients.---10.1101/2020.02.25.20024711--- We detected HRVs in 16% of hospitalized enrolled patients (overall and with radiographically-confirmed pneumonia), 19% of outpatients with influenza-like illness, and 9.6% of control patients (Table 1).',\n",
       " 'The frequency of HRV detection was highest among enrolled patients #19 years of age, especially young children aged ,5 years.',\n",
       " 'However, a substantial proportion of hospitalized adult patients in all age groups had HRVs detected.',\n",
       " 'Among adults .20 years of age with radiographically-confirmed pneumonia , 7.9% had HRV detection.',\n",
       " 'The proportion of HRV positive control patients was highest among the youngest children; 4 (14 %) of 28 infants aged 0-6 months and 4 (67 %) of 6 infants aged 6-11 months had HRV detections.',\n",
       " 'Among all patients, HRV detections were statistically more common among hospitalized enrolled patients compared to controls.',\n",
       " 'However, there were differences in the association between hospitalization and HRV detection when stratified by age group, evidence for effect modification by age.---10.1371/journal.pone.0017780--- The adjusted incidence rates of HRV detections among hospitalized patients with lower respiratory tract illness were highest among children ,1 year, children 1-4 years, and adults $65 years of age (Table 2).']"
      ]
     },
     "execution_count": 43,
     "metadata": {},
     "output_type": "execute_result"
    }
   ],
   "source": [
    "# query = \"pre-existing pulmonary disease SARS-Cov2 Hypertension\" \n",
    "\n",
    "# query = \"What is the incubation days of SARS-CoV-2\" \n",
    "# query = \"incubation days coronavirus 2019-nCoV\"#  COVID-19\n",
    "# query = 'socio economic poverty behaviour'\n",
    "\n",
    "# query = 'what is the comorbidities associated with death'\n",
    "# query = 'public health mitigation measures that could be effective for control'\n",
    "# query = 'socio-economic and behavioral factors to understand the economic impact of the SARS-CoV-2 virus and whether there were differences. '\n",
    "# query = 'what are the risk factors for death in COVID-19'\n",
    "# query = 'what is the basic reproductive number of SARS-CoV-2 in days'\n",
    "# query = 'what is the serial interval days SARS-CoV-2'\n",
    "# query = 'what do we know about the environmental factors influencing SARS-CoV-2'\n",
    "# query = 'what do we know about drugs using to treat SARS-CoV-2'\n",
    "# query = 'Transmission dynamics of the virus SARS-CoV-2'\n",
    "query ='risk of fatality among symptomatic hospitalized patients'\n",
    "# query = 'Efforts targeted at a universal coronavirus vaccine'\n",
    "\n",
    "\n",
    "query_result = sif_model.sv.similar_by_sentence(clean_my_text(query), model=sif_model, indexable=paragraphs_index.items, topn=20)\n",
    "\n",
    "# extract_query_result(query_result)\n",
    "summarize(' '.join(extract_query_result(query_result)), ratio =0.2, split=True)"
   ]
  },
  {
   "cell_type": "code",
   "execution_count": null,
   "metadata": {},
   "outputs": [],
   "source": []
  }
 ],
 "metadata": {
  "kernelspec": {
   "display_name": "Python [conda env:scispacy]",
   "language": "python",
   "name": "conda-env-scispacy-py"
  },
  "language_info": {
   "codemirror_mode": {
    "name": "ipython",
    "version": 3
   },
   "file_extension": ".py",
   "mimetype": "text/x-python",
   "name": "python",
   "nbconvert_exporter": "python",
   "pygments_lexer": "ipython3",
   "version": "3.6.9"
  }
 },
 "nbformat": 4,
 "nbformat_minor": 4
}
