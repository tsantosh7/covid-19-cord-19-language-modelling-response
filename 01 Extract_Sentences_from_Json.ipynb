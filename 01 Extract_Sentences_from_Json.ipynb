{
 "cells": [
  {
   "cell_type": "code",
   "execution_count": 1,
   "metadata": {},
   "outputs": [],
   "source": [
    "root_path = '/home/santosh/Work/Datasets/CORD-19-research-challenge/'\n",
    "paths = ['biorxiv_medrxiv/biorxiv_medrxiv/',\n",
    "        'comm_use_subset/comm_use_subset/',\n",
    "        'noncomm_use_subset/noncomm_use_subset/']\n",
    "\n",
    "result_path = '/home/santosh/Work/Datasets/CORD-19-text/'\n"
   ]
  },
  {
   "cell_type": "code",
   "execution_count": 2,
   "metadata": {},
   "outputs": [],
   "source": [
    "import glob\n",
    "import json\n",
    "from tqdm import tqdm\n",
    "\n",
    "# spacy\n",
    "import scispacy\n",
    "import spacy\n",
    "import en_core_sci_sm\n",
    "nlp = en_core_sci_sm.load()"
   ]
  },
  {
   "cell_type": "code",
   "execution_count": 3,
   "metadata": {},
   "outputs": [],
   "source": [
    "# get all the jsosn\n",
    "\n",
    "all_jsons =[]\n",
    "for json_path in paths:\n",
    "     all_jsons.extend(sorted(glob.glob(root_path+json_path + '*.json*')))\n"
   ]
  },
  {
   "cell_type": "code",
   "execution_count": 4,
   "metadata": {},
   "outputs": [
    {
     "data": {
      "text/plain": [
       "'/home/santosh/Work/Datasets/CORD-19-research-challenge/biorxiv_medrxiv/biorxiv_medrxiv/0015023cc06b5362d332b3baf348d11567ca2fbb.json'"
      ]
     },
     "execution_count": 4,
     "metadata": {},
     "output_type": "execute_result"
    }
   ],
   "source": [
    "all_jsons[0]"
   ]
  },
  {
   "cell_type": "code",
   "execution_count": 5,
   "metadata": {},
   "outputs": [
    {
     "name": "stderr",
     "output_type": "stream",
     "text": [
      "100%|██████████| 12356/12356 [2:19:45<00:00,  1.47it/s]  \n"
     ]
    }
   ],
   "source": [
    "# extract sentences\n",
    "\n",
    "for each_json_file in tqdm(all_jsons):\n",
    "    with open(each_json_file) as json_file:\n",
    "        data = json.load(json_file)\n",
    "\n",
    "        full_text = []\n",
    "\n",
    "        try:\n",
    "            for each_text in data['abstract']:\n",
    "                full_text.append(each_text['text'])\n",
    "        except:\n",
    "                pass\n",
    "\n",
    "        try:\n",
    "            for each_text in data['body_text']:\n",
    "                full_text.append(each_text['text'])\n",
    "        except:\n",
    "                pass\n",
    "        \n",
    "        with open(result_path+each_json_file.split('/')[-1][:-5]+'.txt', 'a') as writer:\n",
    "            for each_para in full_text:\n",
    "                doc = nlp(each_para)\n",
    "                sentences = list(doc.sents)\n",
    "                for each_sentence in sentences:\n",
    "                    if 'word count' not in str(each_sentence) and 'All rights reserved' not in str(each_sentence) and 'No reuse allowed without permission' not in str(each_sentence):\n",
    "                        writer.write(str(each_sentence)+'\\n')     "
   ]
  }
 ],
 "metadata": {
  "kernelspec": {
   "display_name": "Python [conda env:scispacy]",
   "language": "python",
   "name": "conda-env-scispacy-py"
  },
  "language_info": {
   "codemirror_mode": {
    "name": "ipython",
    "version": 3
   },
   "file_extension": ".py",
   "mimetype": "text/x-python",
   "name": "python",
   "nbconvert_exporter": "python",
   "pygments_lexer": "ipython3",
   "version": "3.6.9"
  }
 },
 "nbformat": 4,
 "nbformat_minor": 2
}
